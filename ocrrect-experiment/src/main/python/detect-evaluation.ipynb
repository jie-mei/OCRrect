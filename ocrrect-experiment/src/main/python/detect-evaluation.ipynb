{
 "cells": [
  {
   "cell_type": "markdown",
   "metadata": {},
   "source": [
    "## Prepare"
   ]
  },
  {
   "cell_type": "markdown",
   "metadata": {},
   "source": [
    "### Resources Paths"
   ]
  },
  {
   "cell_type": "code",
   "execution_count": 1,
   "metadata": {},
   "outputs": [
    {
     "name": "stdout",
     "output_type": "stream",
     "text": [
      "42\n"
     ]
    }
   ],
   "source": [
    "import glob\n",
    "\n",
    "PROJECT_ROOT_PATH = '../../../..'\n",
    "TEMP_PATH = PROJECT_ROOT_PATH + '/tmp'\n",
    "DATA_PATH  = TEMP_PATH + '/detect/data'\n",
    "MODEL_PATH = TEMP_PATH + '/detect/model'\n",
    "\n",
    "WORDS_TRAIN_PATH = DATA_PATH + '/words.train.tsv'\n",
    "WORDS_TEST_PATH = DATA_PATH + '/words.test.tsv'\n",
    "LABELS_TRAIN_PATH = DATA_PATH + '/labels.train.tsv'\n",
    "LABELS_TEST_PATH = DATA_PATH + '/labels.test.tsv'\n",
    "\n",
    "FEATURES_TEST_PATH = sorted(glob.glob(DATA_PATH + \"/*Feature*\"))\n",
    "\n",
    "print(len(FEATURES_TEST_PATH))"
   ]
  },
  {
   "cell_type": "code",
   "execution_count": 2,
   "metadata": {},
   "outputs": [
    {
     "name": "stdout",
     "output_type": "stream",
     "text": [
      "ApproximateContextCoherenceFeature$bigram\n",
      "ApproximateContextCoherenceFeature$fivegram\n",
      "ApproximateContextCoherenceFeature$fourgram\n",
      "ApproximateContextCoherenceFeature$trigram\n",
      "CharacterExistenceFeature$123\n",
      "CharacterExistenceFeature$124\n",
      "CharacterExistenceFeature$125\n",
      "CharacterExistenceFeature$126\n",
      "CharacterExistenceFeature$32\n",
      "CharacterExistenceFeature$33\n",
      "CharacterExistenceFeature$34\n",
      "CharacterExistenceFeature$35\n",
      "CharacterExistenceFeature$36\n",
      "CharacterExistenceFeature$37\n",
      "CharacterExistenceFeature$38\n",
      "CharacterExistenceFeature$39\n",
      "CharacterExistenceFeature$40\n",
      "CharacterExistenceFeature$41\n",
      "CharacterExistenceFeature$42\n",
      "CharacterExistenceFeature$43\n",
      "CharacterExistenceFeature$44\n",
      "CharacterExistenceFeature$45\n",
      "CharacterExistenceFeature$46\n",
      "CharacterExistenceFeature$47\n",
      "CharacterExistenceFeature$58\n",
      "CharacterExistenceFeature$59\n",
      "CharacterExistenceFeature$60\n",
      "CharacterExistenceFeature$61\n",
      "CharacterExistenceFeature$62\n",
      "CharacterExistenceFeature$63\n",
      "CharacterExistenceFeature$64\n",
      "CharacterExistenceFeature$91\n",
      "CharacterExistenceFeature$92\n",
      "CharacterExistenceFeature$93\n",
      "CharacterExistenceFeature$94\n",
      "CharacterExistenceFeature$95\n",
      "CharacterExistenceFeature$96\n",
      "ContextCoherenceFeature$bigram\n",
      "ContextCoherenceFeature$fivegram\n",
      "ContextCoherenceFeature$fourgram\n",
      "ContextCoherenceFeature$trigram\n",
      "WordValidityFeature\n"
     ]
    }
   ],
   "source": [
    "import os\n",
    "\n",
    "for path in FEATURES_TEST_PATH:\n",
    "    print(os.path.basename(path)[:-4])"
   ]
  },
  {
   "cell_type": "markdown",
   "metadata": {},
   "source": [
    "### Evaluation Data"
   ]
  },
  {
   "cell_type": "markdown",
   "metadata": {},
   "source": [
    "We tokenize the OCR text using the proposed unsupervised segmentation approach.\n",
    "Each token is labeled according to whether overlapping with any ground truth error.\n",
    "We then split the token sequence at the position after the first 80% of the ground truth errors are encountered and use two splits for training and testing respectively."
   ]
  },
  {
   "cell_type": "code",
   "execution_count": 3,
   "metadata": {
    "collapsed": true
   },
   "outputs": [],
   "source": [
    "import csv\n",
    "import pandas as pd\n",
    "\n",
    "def read_words(path):\n",
    "    col_names = [\"w-4\", \"w-3\", \"w-2\", \"w-1\", \"w\", \"w+1\", \"w+2\", \"w+3\", \"pos\"]\n",
    "    return pd.read_table(open(path, 'r'), header=None, quoting=csv.QUOTE_NONE, names=col_names)\n",
    "\n",
    "def read_vals(path, name=None):\n",
    "    return pd.read_table(open(path, 'r'), header=None, names=[name])\n",
    "\n",
    "def read_labels(path):\n",
    "    return read_vals(path, 'label')\n",
    "\n",
    "def read_feat_vals(path):\n",
    "    name = path[path[:-4].rfind('/') + 1:-4]\n",
    "    return read_vals(path, name)\n",
    "\n",
    "def read_feats(paths):\n",
    "    feats_vals = [read_feat_vals(p) for p in paths]\n",
    "    return pd.concat(feats_vals, axis=1)"
   ]
  },
  {
   "cell_type": "code",
   "execution_count": 4,
   "metadata": {
    "collapsed": true
   },
   "outputs": [],
   "source": [
    "WORDS_TRAIN  = read_words(WORDS_TRAIN_PATH)\n",
    "WORDS_TEST   = read_words(WORDS_TEST_PATH)\n",
    "LABELS_TRAIN = read_labels(LABELS_TRAIN_PATH)\n",
    "LABELS_TEST  = read_labels(LABELS_TEST_PATH)\n",
    "\n",
    "feats = read_feats(FEATURES_TEST_PATH)\n",
    "FEATS_TRAIN = feats[:WORDS_TRAIN.shape[0]]\n",
    "FEATS_TEST  = feats[WORDS_TRAIN.shape[0]:]\n",
    "feats = None"
   ]
  },
  {
   "cell_type": "code",
   "execution_count": 5,
   "metadata": {},
   "outputs": [
    {
     "name": "stdout",
     "output_type": "stream",
     "text": [
      "83132\n",
      "18645\n",
      "83132\n",
      "18645\n",
      "83132\n",
      "18645\n"
     ]
    }
   ],
   "source": [
    "print(len(WORDS_TRAIN))\n",
    "print(len(WORDS_TEST))\n",
    "print(len(LABELS_TRAIN))\n",
    "print(len(LABELS_TEST))\n",
    "print(len(FEATS_TRAIN))\n",
    "print(len(FEATS_TEST))"
   ]
  },
  {
   "cell_type": "markdown",
   "metadata": {},
   "source": [
    "## Detection Model Evaluation"
   ]
  },
  {
   "cell_type": "markdown",
   "metadata": {
    "collapsed": true
   },
   "source": [
    "We validate each model setting using cross-validation."
   ]
  },
  {
   "cell_type": "code",
   "execution_count": 63,
   "metadata": {
    "collapsed": true
   },
   "outputs": [],
   "source": [
    "W_FNR = 0.65\n",
    "W_FPR = 1 - W_FNR\n",
    "\n",
    "def eval_model(y, y_hat, anomaly=False):\n",
    "    \"\"\" Evaluate the prediction results. \"\"\"\n",
    "    label_cls = [-1, 1] if anomaly else [1, 0]\n",
    "    cm = metrics.confusion_matrix(y_hat, y, labels=label_cls)\n",
    "    tp = cm[0][0]\n",
    "    fp = cm[1][0]\n",
    "    fn = cm[0][1]\n",
    "    tn = cm[1][1]\n",
    "    rec = cm[0][0] / (cm[0][0] + cm[0][1])\n",
    "    print('fn:', fn)\n",
    "    metric = 1 - (W_FNR * fn / (tp + fn) + W_FPR * fp / (fp + tn)) \n",
    "    return rec, metric, tp, fp\n",
    "\n",
    "\n",
    "def better_model(model_info_1, model_info_2):\n",
    "    \"\"\" Compare and return a model with the better evaluated values. \"\"\"\n",
    "    name_1, recall_1, metric_1, tp_1, fp_1 = model_info_1\n",
    "    name_2, recall_2, metric_2, tp_2, fp_2 = model_info_2\n",
    "    \n",
    "    if   metric_1 > metric_2: return model_info_1\n",
    "    elif metric_1 < metric_2: return model_info_2\n",
    "    elif recall_1 > recall_2: return model_info_1\n",
    "    elif recall_1 < recall_2: return model_info_2\n",
    "    elif fp_1 < fp_2: return model_info_1\n",
    "    elif fp_1 > fp_2: return model_info_2\n",
    "    else: return model_info_1"
   ]
  },
  {
   "cell_type": "code",
   "execution_count": 7,
   "metadata": {
    "collapsed": true
   },
   "outputs": [],
   "source": [
    "def _display_seg():\n",
    "    print('-' * 80)\n",
    "    \n",
    "def _display_head():\n",
    "    print('  %-30s        %8s %12s %8s %8s' % ('Model', 'Recall', 'Metric', 'TP', 'FP'))\n",
    "    _display_seg()\n",
    "\n",
    "def _display(name, is_computed, recall, metric, tp, fp):\n",
    "    status = '*' if is_computed else ' '\n",
    "    print('%1s %-30s        %8.4f %12.4f %8d %8d' % (status, name, recall, metric, tp, fp))"
   ]
  },
  {
   "cell_type": "code",
   "execution_count": 8,
   "metadata": {
    "collapsed": true
   },
   "outputs": [],
   "source": [
    "def validate(models, anomaly=False):\n",
    "    \"\"\" Validate models. \"\"\"\n",
    "    # Transform labels for anomaly detection models.\n",
    "    train_labels = LABELS_TRAIN['label'].replace(1, -1).replace(0, 1) if anomaly else LABELS_TRAIN\n",
    "    # Reshape the labels to shape (N,)\n",
    "    num = LABELS_TRAIN.shape[0]\n",
    "    train_labels = train_labels.as_matrix().reshape(num,)\n",
    "    \n",
    "    _display_head()\n",
    "    max_model_info = None\n",
    "    for (name, clf) in models:\n",
    "        # Get the file path to the validation result.\n",
    "        val_path = MODEL_PATH + '/' + '%s.val.txt' % name\n",
    "        \n",
    "        # Load results from file if the results are previously computed. Otherwise, compute the\n",
    "        # result using cross validation.\n",
    "        if os.path.exists(val_path):\n",
    "            trained = False\n",
    "            y = read_vals(val_path)\n",
    "        else:\n",
    "            trained = True\n",
    "            y = model_selection.cross_val_predict(clf, FEATS_TRAIN, y=train_labels, cv=10)\n",
    "            with open(val_path, 'w') as val_file:\n",
    "                val_file.write('\\n'.join([str(v) for v in y]))\n",
    "        recall, metric, tp, fp = eval_model(y, train_labels, anomaly)\n",
    "        _display(name, trained, recall, metric, tp, fp)\n",
    "        \n",
    "        # Compare and update the best performing model.\n",
    "        model_info = (name, recall, metric, tp, fp)\n",
    "        max_model_info = better_model(max_model_info, model_info) if max_model_info else model_info\n",
    "        \n",
    "    # Print the best performing model.\n",
    "    _display_seg()\n",
    "    name, recall, metric, tp, fp = max_model_info\n",
    "    _display(name, False, recall, metric, tp, fp)\n",
    "    return name"
   ]
  },
  {
   "cell_type": "markdown",
   "metadata": {},
   "source": [
    "We evaluate different models for predicting token correctness.\n",
    "For each model, we grid search the optimal hyperparameter setting, where each setting are evaluated by the prediction accuracy using 10-fold cross-validation."
   ]
  },
  {
   "cell_type": "code",
   "execution_count": 9,
   "metadata": {
    "code_folding": [
     65
    ],
    "collapsed": true
   },
   "outputs": [],
   "source": [
    "import os\n",
    "import shutil\n",
    "from sklearn import metrics\n",
    "from sklearn import model_selection\n",
    "from sklearn.externals import joblib\n",
    "import sys\n",
    "import time\n",
    "\n",
    "FORCE_RETRAIN = False\n",
    "\n",
    "lab = LABELS_TEST.to_dict()['label'].values()\n",
    "COE_A = 1\n",
    "COE_B = sum(lab) / (len(lab) - sum(lab))\n",
    "\n",
    "def get_pkl_path(name):\n",
    "    return MODEL_PATH + '/' + '%s.pkl' % name\n",
    "\n",
    "__train_time = {}  # cached training time\n",
    "\n",
    "def train(models, retrain=False, log=True, anomaly=False):\n",
    "    if FORCE_RETRAIN:\n",
    "        shutil.rmtree(MODEL_PATH)\n",
    "    if not os.path.exists(MODEL_PATH):\n",
    "        os.makedirs(MODEL_PATH)\n",
    "    train_labels = LABELS_TEST['label'].replace(1, -1).replace(0, 1) if anomaly else LABELS_TRAIN\n",
    "    for (name, clf) in models:\n",
    "        if log: sys.stdout.write('%-30s ..... ' % name)\n",
    "        pkl_path = get_pkl_path(name)\n",
    "        if retrain or not os.path.exists(pkl_path):\n",
    "            str_time = time.time()\n",
    "            clf.fit(FEATS_TRAIN, train_labels.as_matrix().ravel())\n",
    "            elapsed_time = (time.time() - str_time)\n",
    "            joblib.dump(clf, pkl_path, compress=9)\n",
    "            __train_time[name] = elapsed_time\n",
    "            if log: sys.stdout.write('TRAINED')\n",
    "        else:\n",
    "            elapsed_time = __train_time[name] if name in __train_time else None\n",
    "            if log: sys.stdout.write('SKIPPED') \n",
    "        if elapsed_time:\n",
    "            if log: sys.stdout.write(' (%.3f seconds)' % elapsed_time)\n",
    "        if log: print()\n",
    "    if log: print()\n",
    "\n",
    "def test(models, best_cv_model, anomaly=False):\n",
    "    _display_head()\n",
    "    for (name, _) in models:\n",
    "        clf = joblib.load(get_pkl_path(name))\n",
    "        preds = clf.predict(FEATS_TEST)\n",
    "        test_labels = LABELS_TEST['label'].replace(1, -1).replace(0, 1) if anomaly else LABELS_TEST\n",
    "        label_cls = [-1, 1] if anomaly else [1, 0]\n",
    "        recall, metric, tp, fp = eval_model(preds, test_labels, anomaly)\n",
    "        record = name, False, recall, metric, tp, fp\n",
    "        _display(*record)\n",
    "        if best_cv_model is name:\n",
    "            best_cv_record = record\n",
    "    # Print the train result for the best model evaluated in CV.\n",
    "    _display_seg()\n",
    "    _display(*best_cv_record)\n",
    "    return best_cv_record\n",
    "\n",
    "def result(best_cv_record):\n",
    "    _display(*best_cv_record)\n",
    "        \n",
    "def report(models, anomaly=False):\n",
    "    \"\"\" Print out the confusion matrix for each model. \"\"\"\n",
    "    for (name, _) in models:\n",
    "        clf = joblib.load(get_pkl_path(name))\n",
    "        preds = clf.predict(FEATS_TEST)\n",
    "        test_labels = LABELS_TEST['label'].replace(1, -1).replace(0, 1) if anomaly else LABELS_TEST\n",
    "        rep = metrics.classification_report(test_labels, preds, digits=4)\n",
    "        print('%-30s\\n\\n%s' % (name, rep))\n",
    "\n",
    "def diff(model_name1, model_name2):\n",
    "    def print_word(idx):\n",
    "        s = WORDS_TEST.loc[i]\n",
    "        return '%-10s %s %s' % (s['w'],s['pos'], LABELS_TEST.loc[i]['label'])\n",
    "    def pred(model_name):\n",
    "        clf = joblib.load(get_pkl_path(model_name))\n",
    "        return clf.predict(FEATS_TEST)\n",
    "    pred1 = pred(model_name1)\n",
    "    pred2 = pred(model_name2)\n",
    "    diff = [''] * len(pred1)\n",
    "    for i, (x, y) in enumerate(zip(pred1, pred2)):\n",
    "        if x == 1 and y == 0:\n",
    "            print('+', print_word(i))\n",
    "        elif x == 0 and y == 1:\n",
    "            print('-', print_word(i))\n",
    "\n",
    "def get_clf(name):\n",
    "    return joblib.load(get_pkl_path(name))"
   ]
  },
  {
   "cell_type": "code",
   "execution_count": 10,
   "metadata": {},
   "outputs": [
    {
     "data": {
      "text/plain": [
       "259436416.18497109"
      ]
     },
     "execution_count": 10,
     "metadata": {},
     "output_type": "execute_result"
    }
   ],
   "source": [
    "1 / COE_B * 10000000"
   ]
  },
  {
   "cell_type": "markdown",
   "metadata": {},
   "source": [
    "### Decision Tree"
   ]
  },
  {
   "cell_type": "code",
   "execution_count": 11,
   "metadata": {
    "code_folding": [
     1
    ],
    "collapsed": true
   },
   "outputs": [],
   "source": [
    "from sklearn.tree import DecisionTreeClassifier as DTree\n",
    "dt_models = [\n",
    "    ['DTree',            DTree()],\n",
    "    ['DTree.balanced',   DTree(class_weight='balanced')],\n",
    "    ['DTree.wE3',        DTree(class_weight={0:1, 1:1000})],\n",
    "    ['DTree.wE4',        DTree(class_weight={0:1, 1:10000})],\n",
    "    ['DTree.wE5',        DTree(class_weight={0:1, 1:100000})],\n",
    "    ['DTree.wE6',        DTree(class_weight={0:1, 1:1000000})],\n",
    "    ['DTree.wE7',        DTree(class_weight={0:1, 1:10000000})],\n",
    "    ['DTree.wE8',        DTree(class_weight={0:1, 1:100000000})],\n",
    "    ['DTree.wE8.wf-2',   DTree(class_weight={0:1, 1:100000000}, min_weight_fraction_leaf=0.2)],\n",
    "    ['DTree.wE8.wfE-1',  DTree(class_weight={0:1, 1:100000000}, min_weight_fraction_leaf=0.1)],\n",
    "    ['DTree.wE8.wfE-2',  DTree(class_weight={0:1, 1:100000000}, min_weight_fraction_leaf=0.01)],\n",
    "    ['DTree.wE8.wfE-3',  DTree(class_weight={0:1, 1:100000000}, min_weight_fraction_leaf=0.001)],\n",
    "    ['DTree.wE8.wfE-4',  DTree(class_weight={0:1, 1:100000000}, min_weight_fraction_leaf=0.0001)],\n",
    "    ['DTree.wE8.wfE-5',  DTree(class_weight={0:1, 1:100000000}, min_weight_fraction_leaf=0.00001)],\n",
    "    ['DTree.wE8.wfE-6',  DTree(class_weight={0:1, 1:100000000}, min_weight_fraction_leaf=0.000001)],\n",
    "    ['DTree.wE8.wfE-7',  DTree(class_weight={0:1, 1:100000000}, min_weight_fraction_leaf=0.0000001)],\n",
    "    ['DTree.wE8.wfE-8',  DTree(class_weight={0:1, 1:100000000}, min_weight_fraction_leaf=0.00000001)],\n",
    "    ['DTree.wE8.wfE-9',  DTree(class_weight={0:1, 1:100000000}, min_weight_fraction_leaf=0.000000001)],\n",
    "    ['DTree.wE8.wfE-10', DTree(class_weight={0:1, 1:100000000}, min_weight_fraction_leaf=0.0000000001)],\n",
    "    ['DTree.wE8.wfE-10.d10', DTree(class_weight={0:1, 1:100000000}, min_weight_fraction_leaf=0.0000000001, max_depth=10)],\n",
    "    ['DTree.wE8.wfE-10.d20', DTree(class_weight={0:1, 1:100000000}, min_weight_fraction_leaf=0.0000000001, max_depth=20)],\n",
    "    ['DTree.wE8.wfE-10.d30', DTree(class_weight={0:1, 1:100000000}, min_weight_fraction_leaf=0.0000000001, max_depth=30)],\n",
    "    ['DTree.wE8.wfE-10.d40', DTree(class_weight={0:1, 1:100000000}, min_weight_fraction_leaf=0.0000000001, max_depth=40)],\n",
    "    ['DTree.wE8.wfE-10.d50', DTree(class_weight={0:1, 1:100000000}, min_weight_fraction_leaf=0.0000000001, max_depth=50)],\n",
    "    ['DTree.wE8.wfE-10.d60', DTree(class_weight={0:1, 1:100000000}, min_weight_fraction_leaf=0.0000000001, max_depth=60)],\n",
    "    ['DTree.wE8.wfE-10.d70', DTree(class_weight={0:1, 1:100000000}, min_weight_fraction_leaf=0.0000000001, max_depth=70)],\n",
    "    #\n",
    "    ['DTree.wE8.wfE-10.d80', DTree(class_weight={0:1, 1:100000000}, min_weight_fraction_leaf=0.0000000001, max_depth=80)],\n",
    "    ['DTree.wE8.wfE-10.d90', DTree(class_weight={0:1, 1:100000000}, min_weight_fraction_leaf=0.0000000001, max_depth=90)],\n",
    "    ['DTree.wE8.wfE-10.d100', DTree(class_weight={0:1, 1:100000000}, min_weight_fraction_leaf=0.0000000001, max_depth=100)],\n",
    "    #\n",
    "    ['DTree.wE8.wfE-10.d110', DTree(class_weight={0:1, 1:100000000}, min_weight_fraction_leaf=0.0000000001, max_depth=110)],\n",
    "    #\n",
    "    ['DTree.wE8.wfE-10.d120', DTree(class_weight={0:1, 1:100000000}, min_weight_fraction_leaf=0.0000000001, max_depth=120)],\n",
    "    ['DTree.wE8.wfE-11', DTree(class_weight={0:1, 1:100000000}, min_weight_fraction_leaf=0.00000000001)],\n",
    "    ['DTree.wE8.d3',     DTree(class_weight={0:1, 1:100000000}, max_depth=3)],\n",
    "    ['DTree.wE8.d4',     DTree(class_weight={0:1, 1:100000000}, max_depth=4)],\n",
    "    ['DTree.wE8.d5',     DTree(class_weight={0:1, 1:100000000}, max_depth=5)],\n",
    "    ['DTree.wE8.d6',     DTree(class_weight={0:1, 1:100000000}, max_depth=6)],\n",
    "    ['DTree.wE8.d7',     DTree(class_weight={0:1, 1:100000000}, max_depth=7)],\n",
    "    ['DTree.wE8.d8',     DTree(class_weight={0:1, 1:100000000}, max_depth=8)],\n",
    "    ['DTree.wE8.d9',     DTree(class_weight={0:1, 1:100000000}, max_depth=9)],\n",
    "    ['DTree.wE8.d10',    DTree(class_weight={0:1, 1:100000000}, max_depth=10)],\n",
    "    ['DTree.wE8.d25',    DTree(class_weight={0:1, 1:100000000}, max_depth=25)],\n",
    "    ['DTree.wE8.d40',    DTree(class_weight={0:1, 1:100000000}, max_depth=40)],\n",
    "    ['DTree.wE8.d50',    DTree(class_weight={0:1, 1:100000000}, max_depth=50)],\n",
    "    ['DTree.wE8.d60',    DTree(class_weight={0:1, 1:100000000}, max_depth=60)],\n",
    "    ['DTree.wE8.d100',   DTree(class_weight={0:1, 1:100000000}, max_depth=100)],\n",
    "    ['DTree.w1*5E8',     DTree(class_weight={0:1, 1:150000000})],\n",
    "    ['DTree.w1*5E8.wfE-9',  DTree(class_weight={0:1, 1:150000000}, min_weight_fraction_leaf=0.000000001)],\n",
    "    ['DTree.w1*5E8.wfE-10', DTree(class_weight={0:1, 1:150000000}, min_weight_fraction_leaf=0.0000000001)],\n",
    "    ['DTree.w1*5E8.wfE-11', DTree(class_weight={0:1, 1:150000000}, min_weight_fraction_leaf=0.00000000001)],\n",
    "    ['DTree.w2E8',          DTree(class_weight={0:1, 1:200000000})],\n",
    "    ['DTree.wRatioE7',      DTree(class_weight={0:1, 1: 1 / COE_B * 10000000})],\n",
    "    ['DTree.wE9',           DTree(class_weight={0:1, 1:1000000000})],\n",
    "]"
   ]
  },
  {
   "cell_type": "code",
   "execution_count": 12,
   "metadata": {
    "scrolled": false
   },
   "outputs": [
    {
     "name": "stdout",
     "output_type": "stream",
     "text": [
      "  Model                                   Recall       Metric       TP       FP\n",
      "--------------------------------------------------------------------------------\n",
      "  DTree                                   0.7074       0.8075     1782      547\n",
      "  DTree.balanced                          0.8388       0.8856     2113     2214\n",
      "  DTree.wE3                               0.8353       0.8835     2104     2160\n",
      "  DTree.wE4                               0.8360       0.8840     2106     2166\n",
      "  DTree.wE5                               0.8368       0.8846     2108     2149\n",
      "  DTree.wE6                               0.8372       0.8849     2109     2154\n",
      "  DTree.wE7                               0.8432       0.8884     2124     2232\n",
      "  DTree.wE8                               0.9206       0.9047     2319    10072\n",
      "  DTree.wE8.wf-2                          1.0000       0.6500     2519    80613\n",
      "  DTree.wE8.wfE-1                         1.0000       0.6500     2519    80613\n",
      "  DTree.wE8.wfE-2                         1.0000       0.6500     2519    80613\n",
      "  DTree.wE8.wfE-3                         1.0000       0.6500     2519    80613\n",
      "  DTree.wE8.wfE-4                         1.0000       0.6500     2519    80613\n",
      "  DTree.wE8.wfE-5                         1.0000       0.6500     2519    80613\n",
      "  DTree.wE8.wfE-6                         1.0000       0.6500     2519    80613\n",
      "  DTree.wE8.wfE-7                         1.0000       0.6500     2519    80613\n",
      "  DTree.wE8.wfE-8                         0.9897       0.7857     2493    47809\n",
      "  DTree.wE8.wfE-9                         0.9464       0.8956     2384    16018\n",
      "  DTree.wE8.wfE-10                        0.9230       0.9055     2325    10225\n",
      "  DTree.wE8.wfE-10.d10                    0.9829       0.7548     2476    53914\n",
      "  DTree.wE8.wfE-10.d20                    0.9571       0.8505     2411    28009\n",
      "  DTree.wE8.wfE-10.d30                    0.9289       0.8912     2340    14412\n",
      "  DTree.wE8.wfE-10.d40                    0.9238       0.9044     2327    10616\n",
      "  DTree.wE8.wfE-10.d50                    0.9230       0.9056     2325    10221\n",
      "  DTree.wE8.wfE-10.d60                    0.9230       0.9055     2325    10227\n",
      "  DTree.wE8.wfE-10.d70                    0.9230       0.9056     2325    10222\n",
      "  DTree.wE8.wfE-10.d80                    0.9230       0.9055     2325    10237\n",
      "  DTree.wE8.wfE-10.d90                    0.9230       0.9056     2325    10219\n",
      "  DTree.wE8.wfE-10.d100                   0.9230       0.9055     2325    10232\n",
      "  DTree.wE8.wfE-10.d110                   0.9230       0.9056     2325    10223\n",
      "  DTree.wE8.wfE-10.d120                   0.9230       0.9055     2325    10225\n",
      "  DTree.wE8.wfE-11                        0.9218       0.9054     2322    10069\n",
      "  DTree.wE8.d3                            0.9929       0.7140     2501    64812\n",
      "  DTree.wE8.d4                            0.9917       0.7273     2498    61563\n",
      "  DTree.wE8.d5                            0.9913       0.7353     2497    59666\n",
      "  DTree.wE8.d6                            0.9889       0.7406     2491    58085\n",
      "  DTree.wE8.d7                            0.9869       0.7430     2486    57237\n",
      "  DTree.wE8.d8                            0.9857       0.7441     2483    56789\n",
      "  DTree.wE8.d9                            0.9857       0.7449     2483    56607\n",
      "  DTree.wE8.d10                           0.9849       0.7448     2481    56514\n",
      "  DTree.wE8.d25                           0.9563       0.8545     2409    26973\n",
      "  DTree.wE8.d40                           0.9281       0.8964     2338    13108\n",
      "  DTree.wE8.d50                           0.9218       0.9037     2322    10466\n",
      "  DTree.wE8.d60                           0.9206       0.9047     2319    10074\n",
      "  DTree.wE8.d100                          0.9210       0.9049     2320    10079\n",
      "  DTree.w1*5E8                            0.9365       0.8989     2359    13776\n",
      "  DTree.w1*5E8.wfE-9                      0.9591       0.8829     2416    20859\n",
      "  DTree.w1*5E8.wfE-10                     0.9377       0.8989     2362    13958\n",
      "  DTree.w1*5E8.wfE-11                     0.9377       0.8997     2362    13764\n",
      "  DTree.w2E8                              0.9539       0.8799     2403    20766\n",
      "  DTree.wRatioE7                          0.9539       0.8794     2403    20890\n",
      "  DTree.wE9                               1.0000       0.6500     2519    80613\n",
      "--------------------------------------------------------------------------------\n",
      "  DTree.wE8.wfE-10.d90                    0.9230       0.9056     2325    10219\n"
     ]
    }
   ],
   "source": [
    "dt_best = validate(dt_models)"
   ]
  },
  {
   "cell_type": "code",
   "execution_count": 65,
   "metadata": {
    "scrolled": false
   },
   "outputs": [
    {
     "name": "stdout",
     "output_type": "stream",
     "text": [
      "DTree                          ..... SKIPPED\n",
      "DTree.balanced                 ..... SKIPPED\n",
      "DTree.wE3                      ..... SKIPPED\n",
      "DTree.wE4                      ..... SKIPPED\n",
      "DTree.wE5                      ..... SKIPPED\n",
      "DTree.wE6                      ..... SKIPPED\n",
      "DTree.wE7                      ..... SKIPPED\n",
      "DTree.wE8                      ..... SKIPPED\n",
      "DTree.wE8.wf-2                 ..... SKIPPED\n",
      "DTree.wE8.wfE-1                ..... SKIPPED\n",
      "DTree.wE8.wfE-2                ..... SKIPPED\n",
      "DTree.wE8.wfE-3                ..... SKIPPED\n",
      "DTree.wE8.wfE-4                ..... SKIPPED\n",
      "DTree.wE8.wfE-5                ..... SKIPPED\n",
      "DTree.wE8.wfE-6                ..... SKIPPED\n",
      "DTree.wE8.wfE-7                ..... SKIPPED\n",
      "DTree.wE8.wfE-8                ..... SKIPPED\n",
      "DTree.wE8.wfE-9                ..... SKIPPED\n",
      "DTree.wE8.wfE-10               ..... SKIPPED\n",
      "DTree.wE8.wfE-10.d10           ..... SKIPPED\n",
      "DTree.wE8.wfE-10.d20           ..... SKIPPED\n",
      "DTree.wE8.wfE-10.d30           ..... SKIPPED\n",
      "DTree.wE8.wfE-10.d40           ..... SKIPPED\n",
      "DTree.wE8.wfE-10.d50           ..... SKIPPED\n",
      "DTree.wE8.wfE-10.d60           ..... SKIPPED\n",
      "DTree.wE8.wfE-10.d70           ..... SKIPPED\n",
      "DTree.wE8.wfE-10.d80           ..... SKIPPED\n",
      "DTree.wE8.wfE-10.d90           ..... SKIPPED\n",
      "DTree.wE8.wfE-10.d100          ..... SKIPPED\n",
      "DTree.wE8.wfE-10.d110          ..... SKIPPED\n",
      "DTree.wE8.wfE-10.d120          ..... SKIPPED\n",
      "DTree.wE8.wfE-11               ..... SKIPPED\n",
      "DTree.wE8.d3                   ..... SKIPPED\n",
      "DTree.wE8.d4                   ..... SKIPPED\n",
      "DTree.wE8.d5                   ..... SKIPPED\n",
      "DTree.wE8.d6                   ..... SKIPPED\n",
      "DTree.wE8.d7                   ..... SKIPPED\n",
      "DTree.wE8.d8                   ..... SKIPPED\n",
      "DTree.wE8.d9                   ..... SKIPPED\n",
      "DTree.wE8.d10                  ..... SKIPPED\n",
      "DTree.wE8.d25                  ..... SKIPPED\n",
      "DTree.wE8.d40                  ..... SKIPPED\n",
      "DTree.wE8.d50                  ..... SKIPPED\n",
      "DTree.wE8.d60                  ..... SKIPPED\n",
      "DTree.wE8.d100                 ..... SKIPPED\n",
      "DTree.w1*5E8                   ..... SKIPPED\n",
      "DTree.w1*5E8.wfE-9             ..... SKIPPED\n",
      "DTree.w1*5E8.wfE-10            ..... SKIPPED\n",
      "DTree.w1*5E8.wfE-11            ..... SKIPPED\n",
      "DTree.w2E8                     ..... SKIPPED\n",
      "DTree.wRatioE7                 ..... SKIPPED\n",
      "DTree.wE9                      ..... SKIPPED\n",
      "\n",
      "  Model                                   Recall       Metric       TP       FP\n",
      "--------------------------------------------------------------------------------\n",
      "fn: 229\n",
      "  DTree                                   0.6691       0.7822      463      136\n",
      "fn: 148\n",
      "  DTree.balanced                          0.7861       0.8521      544      455\n",
      "fn: 152\n",
      "  DTree.wE3                               0.7803       0.8484      540      452\n",
      "fn: 155\n",
      "  DTree.wE4                               0.7760       0.8458      537      443\n",
      "fn: 155\n",
      "  DTree.wE5                               0.7760       0.8458      537      444\n",
      "fn: 158\n",
      "  DTree.wE6                               0.7717       0.8431      534      437\n",
      "fn: 149\n",
      "  DTree.wE7                               0.7847       0.8509      543      468\n",
      "fn: 98\n",
      "  DTree.wE8                               0.8584       0.8785      594     1510\n",
      "fn: 0\n",
      "  DTree.wE8.wf-2                          1.0000       0.6500      692    17953\n",
      "fn: 0\n",
      "  DTree.wE8.wfE-1                         1.0000       0.6500      692    17953\n",
      "fn: 0\n",
      "  DTree.wE8.wfE-2                         1.0000       0.6500      692    17953\n",
      "fn: 0\n",
      "  DTree.wE8.wfE-3                         1.0000       0.6500      692    17953\n",
      "fn: 0\n",
      "  DTree.wE8.wfE-4                         1.0000       0.6500      692    17953\n",
      "fn: 0\n",
      "  DTree.wE8.wfE-5                         1.0000       0.6500      692    17953\n",
      "fn: 0\n",
      "  DTree.wE8.wfE-6                         1.0000       0.6500      692    17953\n",
      "fn: 0\n",
      "  DTree.wE8.wfE-7                         1.0000       0.6500      692    17953\n",
      "fn: 4\n",
      "  DTree.wE8.wfE-8                         0.9942       0.7744      688    11377\n",
      "fn: 54\n",
      "  DTree.wE8.wfE-9                         0.9220       0.8795      638     3581\n",
      "fn: 93\n",
      "  DTree.wE8.wfE-10                        0.8656       0.8820      599     1573\n",
      "fn: 13\n",
      "  DTree.wE8.wfE-10.d10                    0.9812       0.7377      679    12829\n",
      "fn: 41\n",
      "  DTree.wE8.wfE-10.d20                    0.9408       0.8401      651     6228\n",
      "fn: 80\n",
      "  DTree.wE8.wfE-10.d30                    0.8844       0.8778      612     2413\n",
      "fn: 93\n",
      "  DTree.wE8.wfE-10.d40                    0.8656       0.8821      599     1567\n",
      "fn: 93\n",
      "  DTree.wE8.wfE-10.d50                    0.8656       0.8820      599     1573\n",
      "fn: 93\n",
      "  DTree.wE8.wfE-10.d60                    0.8656       0.8820      599     1574\n",
      "fn: 93\n",
      "  DTree.wE8.wfE-10.d70                    0.8656       0.8820      599     1573\n",
      "fn: 93\n",
      "  DTree.wE8.wfE-10.d80                    0.8656       0.8820      599     1572\n",
      "fn: 93\n",
      "  DTree.wE8.wfE-10.d90                    0.8656       0.8820      599     1574\n",
      "fn: 93\n",
      "  DTree.wE8.wfE-10.d100                   0.8656       0.8820      599     1573\n",
      "fn: 93\n",
      "  DTree.wE8.wfE-10.d110                   0.8656       0.8821      599     1568\n",
      "fn: 93\n",
      "  DTree.wE8.wfE-10.d120                   0.8656       0.8820      599     1572\n",
      "fn: 98\n",
      "  DTree.wE8.wfE-11                        0.8584       0.8786      594     1504\n",
      "fn: 1\n",
      "  DTree.wE8.d3                            0.9986       0.7105      691    14802\n",
      "fn: 6\n",
      "  DTree.wE8.d4                            0.9913       0.7202      686    14062\n",
      "fn: 9\n",
      "  DTree.wE8.d5                            0.9870       0.7292      683    13457\n",
      "fn: 10\n",
      "  DTree.wE8.d6                            0.9855       0.7319      682    13268\n",
      "fn: 11\n",
      "  DTree.wE8.d7                            0.9841       0.7346      681    13084\n",
      "fn: 13\n",
      "  DTree.wE8.d8                            0.9812       0.7340      679    13020\n",
      "fn: 13\n",
      "  DTree.wE8.d9                            0.9812       0.7343      679    13000\n",
      "fn: 13\n",
      "  DTree.wE8.d10                           0.9812       0.7347      679    12981\n",
      "fn: 43\n",
      "  DTree.wE8.d25                           0.9379       0.8422      649     6021\n",
      "fn: 96\n",
      "  DTree.wE8.d40                           0.8613       0.8690      596     2093\n",
      "fn: 97\n",
      "  DTree.wE8.d50                           0.8598       0.8793      595     1517\n",
      "fn: 98\n",
      "  DTree.wE8.d60                           0.8584       0.8786      594     1507\n",
      "fn: 98\n",
      "  DTree.wE8.d100                          0.8584       0.8786      594     1507\n",
      "fn: 40\n",
      "  DTree.w1*5E8                            0.9422       0.8829      652     4077\n",
      "fn: 30\n",
      "  DTree.w1*5E8.wfE-9                      0.9566       0.8602      662     5725\n",
      "fn: 38\n",
      "  DTree.w1*5E8.wfE-10                     0.9451       0.8835      654     4146\n",
      "fn: 40\n",
      "  DTree.w1*5E8.wfE-11                     0.9422       0.8830      652     4076\n",
      "fn: 39\n",
      "  DTree.w2E8                              0.9436       0.8827      653     4138\n",
      "fn: 38\n",
      "  DTree.wRatioE7                          0.9451       0.8828      654     4180\n",
      "fn: 0\n",
      "  DTree.wE9                               1.0000       0.6500      692    17953\n",
      "--------------------------------------------------------------------------------\n",
      "  DTree.wE8.wfE-10.d90                    0.8656       0.8820      599     1574\n"
     ]
    }
   ],
   "source": [
    "train(dt_models)\n",
    "dt_test = test(dt_models, dt_best)"
   ]
  },
  {
   "cell_type": "code",
   "execution_count": 64,
   "metadata": {},
   "outputs": [
    {
     "name": "stdout",
     "output_type": "stream",
     "text": [
      "  DTree.wE8.wfE-10.d90                    0.8656       0.8820      599     1574\n"
     ]
    }
   ],
   "source": [
    "result(dt_test)"
   ]
  },
  {
   "cell_type": "markdown",
   "metadata": {},
   "source": [
    "### Logistic Regression"
   ]
  },
  {
   "cell_type": "code",
   "execution_count": 15,
   "metadata": {
    "code_folding": [
     2
    ],
    "collapsed": true
   },
   "outputs": [],
   "source": [
    "from sklearn.linear_model import LogisticRegression as LogR\n",
    "\n",
    "logR_models = [\n",
    "    ['LogR',             LogR()],\n",
    "    ['LogR.balanced',    LogR(class_weight='balanced')],\n",
    "    ['LogR.wE3',         LogR(class_weight={0:1, 1:1000})],\n",
    "    ['LogR.wE4',         LogR(class_weight={0:1, 1:10000})],\n",
    "    ['LogR.wE5',         LogR(class_weight={0:1, 1:100000})],\n",
    "    ['LogR.wE6',         LogR(class_weight={0:1, 1:1000000})],\n",
    "    ['LogR.l1',          LogR(penalty='l1')],\n",
    "    ['LogR.l1.balanced', LogR(penalty='l1', class_weight='balanced')],\n",
    "    ['LogR.l1.wE3',      LogR(penalty='l1', class_weight={0:1, 1:1000})],\n",
    "    ['LogR.l1.wE4',      LogR(penalty='l1', class_weight={0:1, 1:10000})],\n",
    "    ['LogR.l1.wE5',      LogR(penalty='l1', class_weight={0:1, 1:100000})],\n",
    "    ['LogR.l1.wE6',      LogR(penalty='l1', class_weight={0:1, 1:1000000})],\n",
    "]"
   ]
  },
  {
   "cell_type": "code",
   "execution_count": 16,
   "metadata": {},
   "outputs": [
    {
     "name": "stdout",
     "output_type": "stream",
     "text": [
      "  Model                                   Recall       Metric       TP       FP\n",
      "--------------------------------------------------------------------------------\n",
      "  LogR                                    0.6717       0.7859     1692      164\n",
      "  LogR.balanced                           0.8944       0.8986     2253     7538\n",
      "  LogR.wE3                                0.9913       0.8008     2497    44564\n",
      "  LogR.wE4                                0.9980       0.7325     2514    61321\n",
      "  LogR.wE5                                0.9992       0.7091     2517    66883\n",
      "  LogR.wE6                                0.9996       0.6945     2518    70296\n",
      "  LogR.l1                                 0.6721       0.7861     1693      164\n",
      "  LogR.l1.balanced                        0.8940       0.8984     2252     7537\n",
      "  LogR.l1.wE3                             0.9913       0.8009     2497    44558\n",
      "  LogR.l1.wE4                             0.9980       0.7326     2514    61301\n",
      "  LogR.l1.wE5                             0.9992       0.7107     2517    66508\n",
      "  LogR.l1.wE6                             0.9996       0.6924     2518    70787\n",
      "--------------------------------------------------------------------------------\n",
      "  LogR.balanced                           0.8944       0.8986     2253     7538\n"
     ]
    }
   ],
   "source": [
    "logR_best = validate(logR_models)"
   ]
  },
  {
   "cell_type": "code",
   "execution_count": 66,
   "metadata": {},
   "outputs": [
    {
     "name": "stdout",
     "output_type": "stream",
     "text": [
      "LogR                           ..... SKIPPED\n",
      "LogR.balanced                  ..... SKIPPED\n",
      "LogR.wE3                       ..... SKIPPED\n",
      "LogR.wE4                       ..... SKIPPED\n",
      "LogR.wE5                       ..... SKIPPED\n",
      "LogR.wE6                       ..... SKIPPED\n",
      "LogR.l1                        ..... SKIPPED\n",
      "LogR.l1.balanced               ..... SKIPPED\n",
      "LogR.l1.wE3                    ..... SKIPPED\n",
      "LogR.l1.wE4                    ..... SKIPPED\n",
      "LogR.l1.wE5                    ..... SKIPPED\n",
      "LogR.l1.wE6                    ..... SKIPPED\n",
      "\n",
      "  Model                                   Recall       Metric       TP       FP\n",
      "--------------------------------------------------------------------------------\n",
      "fn: 255\n",
      "  LogR                                    0.6315       0.7596      437       47\n",
      "fn: 94\n",
      "  LogR.balanced                           0.8642       0.8777      598     1743\n",
      "fn: 6\n",
      "  LogR.wE3                                0.9913       0.7998      686     9982\n",
      "fn: 1\n",
      "  LogR.wE4                                0.9986       0.7312      691    13740\n",
      "fn: 1\n",
      "  LogR.wE5                                0.9986       0.7080      691    14930\n",
      "fn: 0\n",
      "  LogR.wE6                                1.0000       0.6933      692    15732\n",
      "fn: 255\n",
      "  LogR.l1                                 0.6315       0.7596      437       47\n",
      "fn: 94\n",
      "  LogR.l1.balanced                        0.8642       0.8777      598     1744\n",
      "fn: 6\n",
      "  LogR.l1.wE3                             0.9913       0.7998      686     9982\n",
      "fn: 1\n",
      "  LogR.l1.wE4                             0.9986       0.7312      691    13739\n",
      "fn: 1\n",
      "  LogR.l1.wE5                             0.9986       0.7088      691    14887\n",
      "fn: 0\n",
      "  LogR.l1.wE6                             1.0000       0.6908      692    15862\n",
      "--------------------------------------------------------------------------------\n",
      "  LogR.balanced                           0.8642       0.8777      598     1743\n"
     ]
    }
   ],
   "source": [
    "train(logR_models)\n",
    "logR_test = test(logR_models, logR_best)"
   ]
  },
  {
   "cell_type": "code",
   "execution_count": 18,
   "metadata": {},
   "outputs": [
    {
     "name": "stdout",
     "output_type": "stream",
     "text": [
      "  LogR.balanced                           0.8642       0.8777      598     1743\n"
     ]
    }
   ],
   "source": [
    "result(logR_test)"
   ]
  },
  {
   "cell_type": "markdown",
   "metadata": {},
   "source": [
    "### Random Forest"
   ]
  },
  {
   "cell_type": "code",
   "execution_count": 19,
   "metadata": {
    "code_folding": [
     2
    ],
    "collapsed": true
   },
   "outputs": [],
   "source": [
    "from sklearn.ensemble import RandomForestClassifier as RF\n",
    "\n",
    "rf_models = [\n",
    "    ['RF',                 RF()],\n",
    "    ['RF.balanced',        RF(n_jobs=-1, class_weight='balanced')],\n",
    "    ['RF.balancedSub',     RF(n_jobs=-1, class_weight='balanced_subsample')],\n",
    "    ['RF.wE3',             RF(n_jobs=-1, class_weight={0:1, 1:1000})],\n",
    "    ['RF.wE4',             RF(n_jobs=-1, class_weight={0:1, 1:10000})],\n",
    "    ['RF.sE5',             RF(n_jobs=-1, class_weight={0:1, 1:100000})],\n",
    "    ['RF.wE6',             RF(n_jobs=-1, class_weight={0:1, 1:1000000})],\n",
    "    ['RF.wE7',             RF(n_jobs=-1, class_weight={0:1, 1:10000000})],\n",
    "    ['RF.wE8',             RF(n_jobs=-1, class_weight={0:1, 1:100000000})],\n",
    "    ['RF.t50.wE8',         RF(n_jobs=-1, n_estimators=50, class_weight={0:1, 1:100000000})],\n",
    "    ['RF.t100.wE8',        RF(n_jobs=-1, n_estimators=100, class_weight={0:1, 1:100000000})],\n",
    "    ['RF.t200.wE8',        RF(n_jobs=-1, n_estimators=200, class_weight={0:1, 1:100000000})],\n",
    "    ['RF.w2E8',            RF(n_jobs=-1, class_weight={0:1, 1:200000000})],\n",
    "    #\n",
    "    ['RF.wRatioE7',        RF(n_jobs=-1, class_weight={0:1, 1: 1 / COE_B * 10000000})],\n",
    "    ['RF.t5.wRatioE7',     RF(n_jobs=-1, n_estimators=5, class_weight={0:1, 1: 1 / COE_B * 10000000})],\n",
    "    ['RF.t20.wRatioE7',    RF(n_jobs=-1, n_estimators=20, class_weight={0:1, 1: 1 / COE_B * 10000000})],\n",
    "    ['RF.t30.wRatioE7',    RF(n_jobs=-1, n_estimators=30, class_weight={0:1, 1: 1 / COE_B * 10000000})],\n",
    "    ['RF.t50.wRatioE7',    RF(n_jobs=-1, n_estimators=50, class_weight={0:1, 1: 1 / COE_B * 10000000})],\n",
    "    ['RF.t100.wRatioE7',   RF(n_jobs=-1, n_estimators=100, class_weight={0:1, 1: 1 / COE_B * 10000000})],\n",
    "    ['RF.t200.wRatioE7',   RF(n_jobs=-1, n_estimators=200, class_weight={0:1, 1: 1 / COE_B * 10000000})],\n",
    "    ['RF.t300.wRatioE7',   RF(n_jobs=-1, n_estimators=300, class_weight={0:1, 1: 1 / COE_B * 10000000})],\n",
    "    ['RF.t400.wRatioE7',   RF(n_jobs=-1, n_estimators=400, class_weight={0:1, 1: 1 / COE_B * 10000000})],\n",
    "    ['RF.wRatioE7.wfE-9',  RF(n_jobs=-1, class_weight={0:1, 1: 1 / COE_B * 10000000}, min_weight_fraction_leaf=0.000000001)],\n",
    "    ['RF.wRatioE7.wfE-10', RF(n_jobs=-1, class_weight={0:1, 1: 1 / COE_B * 10000000}, min_weight_fraction_leaf=0.0000000001)],\n",
    "    ['RF.wRatioE7.wfE-11', RF(n_jobs=-1, class_weight={0:1, 1: 1 / COE_B * 10000000}, min_weight_fraction_leaf=0.00000000001)],\n",
    "    ['RF.wRatioE7.wfE-12', RF(n_jobs=-1, class_weight={0:1, 1: 1 / COE_B * 10000000}, min_weight_fraction_leaf=0.000000000001)],\n",
    "    ['RF.wRatioE7.wfE-13', RF(n_jobs=-1, class_weight={0:1, 1: 1 / COE_B * 10000000}, min_weight_fraction_leaf=0.0000000000001)],\n",
    "    ['RF.wRatioE7.wfE-14', RF(n_jobs=-1, class_weight={0:1, 1: 1 / COE_B * 10000000}, min_weight_fraction_leaf=0.00000000000001)],\n",
    "    ['RF.wRatioE7.wfE-15', RF(n_jobs=-1, class_weight={0:1, 1: 1 / COE_B * 10000000}, min_weight_fraction_leaf=0.000000000000001)],\n",
    "    ['RF.w3E8',            RF(n_jobs=-1, class_weight={0:1, 1:300000000})],\n",
    "    ['RF.w4E8',            RF(n_jobs=-1, class_weight={0:1, 1:400000000})],\n",
    "    ['RF.wE9',             RF(n_jobs=-1,class_weight={0:1, 1:1000000000})],\n",
    "]"
   ]
  },
  {
   "cell_type": "code",
   "execution_count": 20,
   "metadata": {},
   "outputs": [
    {
     "name": "stdout",
     "output_type": "stream",
     "text": [
      "  Model                                   Recall       Metric       TP       FP\n",
      "--------------------------------------------------------------------------------\n",
      "  RF                                      0.6971       0.8021     1756      241\n",
      "  RF.balanced                             0.8281       0.8800     2086     1894\n",
      "  RF.balancedSub                          0.8317       0.8823     2095     1905\n",
      "  RF.wE3                                  0.8269       0.8793     2083     1893\n",
      "  RF.wE4                                  0.8321       0.8827     2096     1882\n",
      "  RF.sE5                                  0.8289       0.8806     2088     1895\n",
      "  RF.wE6                                  0.8309       0.8818     2093     1899\n",
      "  RF.wE7                                  0.8372       0.8859     2109     1920\n",
      "  RF.wE8                                  0.8829       0.9058     2224     4164\n",
      "  RF.t50.wE8                              0.8805       0.9067     2218     3601\n",
      "  RF.t100.wE8                             0.8813       0.9077     2220     3496\n",
      "  RF.t200.wE8                             0.8837       0.9084     2226     3693\n",
      "  RF.w2E8                                 0.9277       0.9131     2337     9199\n",
      "  RF.wRatioE7                             0.9353       0.9085     2356    11382\n",
      "  RF.t5.wRatioE7                          0.9408       0.9046     2370    13119\n",
      "  RF.t20.wRatioE7                         0.9361       0.9092     2358    11348\n",
      "  RF.t30.wRatioE7                         0.9420       0.9108     2373    11873\n",
      "  RF.t50.wRatioE7                         0.9408       0.9085     2370    12226\n",
      "  RF.t100.wRatioE7                        0.9405       0.9098     2369    11862\n",
      "  RF.t200.wRatioE7                        0.9412       0.9106     2371    11803\n",
      "  RF.t300.wRatioE7                        0.9416       0.9096     2372    12076\n",
      "  RF.t400.wRatioE7                        0.9408       0.9092     2370    12051\n",
      "  RF.wRatioE7.wfE-9                       0.9913       0.7842     2497    48407\n",
      "  RF.wRatioE7.wfE-10                      0.9821       0.8214     2474    38467\n",
      "  RF.wRatioE7.wfE-11                      0.9611       0.8801     2421    21793\n",
      "  RF.wRatioE7.wfE-12                      0.9337       0.9096     2352    10901\n",
      "  RF.wRatioE7.wfE-13                      0.9317       0.9071     2347    11185\n",
      "  RF.wRatioE7.wfE-14                      0.9301       0.9108     2343    10093\n",
      "  RF.wRatioE7.wfE-15                      0.9361       0.9091     2358    11364\n",
      "  RF.w3E8                                 0.9401       0.9045     2368    13026\n",
      "  RF.w4E8                                 0.9671       0.8676     2436    25573\n",
      "  RF.wE9                                  1.0000       0.6500     2519    80613\n",
      "--------------------------------------------------------------------------------\n",
      "  RF.w2E8                                 0.9277       0.9131     2337     9199\n"
     ]
    }
   ],
   "source": [
    "rf_best = validate(rf_models)"
   ]
  },
  {
   "cell_type": "code",
   "execution_count": 67,
   "metadata": {},
   "outputs": [
    {
     "name": "stdout",
     "output_type": "stream",
     "text": [
      "  Model                                   Recall       Metric       TP       FP\n",
      "--------------------------------------------------------------------------------\n",
      "fn: 237\n",
      "  RF                                      0.6575       0.7763      455       56\n",
      "fn: 154\n",
      "  RF.balanced                             0.7775       0.8476      538      398\n",
      "fn: 156\n",
      "  RF.balancedSub                          0.7746       0.8458      536      392\n",
      "fn: 157\n",
      "  RF.wE3                                  0.7731       0.8448      535      399\n",
      "fn: 152\n",
      "  RF.wE4                                  0.7803       0.8495      540      396\n",
      "fn: 153\n",
      "  RF.sE5                                  0.7789       0.8487      539      391\n",
      "fn: 154\n",
      "  RF.wE6                                  0.7775       0.8476      538      395\n",
      "fn: 151\n",
      "  RF.wE7                                  0.7818       0.8504      541      396\n",
      "fn: 116\n",
      "  RF.wE8                                  0.8324       0.8749      576      828\n",
      "fn: 110\n",
      "  RF.t50.wE8                              0.8410       0.8805      582      832\n",
      "fn: 103\n",
      "  RF.t100.wE8                             0.8512       0.8844      589      968\n",
      "fn: 108\n",
      "  RF.t200.wE8                             0.8439       0.8823      584      835\n",
      "fn: 65\n",
      "  RF.w2E8                                 0.9061       0.8972      627     2140\n",
      "fn: 49\n",
      "  RF.wRatioE7                             0.9292       0.8965      643     2946\n",
      "fn: 76\n",
      "  RF.t5.wRatioE7                          0.8902       0.8800      616     2496\n",
      "fn: 55\n",
      "  RF.t20.wRatioE7                         0.9205       0.8907      637     2958\n",
      "fn: 64\n",
      "  RF.t30.wRatioE7                         0.9075       0.8938      628     2362\n",
      "fn: 55\n",
      "  RF.t50.wRatioE7                         0.9205       0.8941      637     2784\n",
      "fn: 52\n",
      "  RF.t100.wRatioE7                        0.9249       0.8993      640     2661\n",
      "fn: 56\n",
      "  RF.t200.wRatioE7                        0.9191       0.8978      636     2545\n",
      "fn: 50\n",
      "  RF.t300.wRatioE7                        0.9277       0.8979      642     2829\n",
      "fn: 49\n",
      "  RF.t400.wRatioE7                        0.9292       0.8978      643     2883\n",
      "fn: 4\n",
      "  RF.wRatioE7.wfE-9                       0.9942       0.7766      688    11264\n",
      "fn: 7\n",
      "  RF.wRatioE7.wfE-10                      0.9899       0.7555      685    12203\n",
      "fn: 29\n",
      "  RF.wRatioE7.wfE-11                      0.9581       0.8770      663     4912\n",
      "fn: 63\n",
      "  RF.wRatioE7.wfE-12                      0.9090       0.8906      629     2577\n",
      "fn: 66\n",
      "  RF.wRatioE7.wfE-13                      0.9046       0.8968      626     2112\n",
      "fn: 63\n",
      "  RF.wRatioE7.wfE-14                      0.9090       0.8953      629     2333\n",
      "fn: 54\n",
      "  RF.wRatioE7.wfE-15                      0.9220       0.8969      638     2686\n",
      "fn: 57\n",
      "  RF.w3E8                                 0.9176       0.8927      635     2756\n",
      "fn: 29\n",
      "  RF.w4E8                                 0.9581       0.8655      663     5500\n",
      "fn: 0\n",
      "  RF.wE9                                  1.0000       0.6500      692    17953\n",
      "--------------------------------------------------------------------------------\n",
      "  RF.w2E8                                 0.9061       0.8972      627     2140\n"
     ]
    }
   ],
   "source": [
    "train(rf_models, log=False)\n",
    "rf_test = test(rf_models, rf_best)"
   ]
  },
  {
   "cell_type": "code",
   "execution_count": 22,
   "metadata": {},
   "outputs": [
    {
     "name": "stdout",
     "output_type": "stream",
     "text": [
      "  RF.w2E8                                 0.9061       0.8972      627     2140\n"
     ]
    }
   ],
   "source": [
    "result(rf_test)"
   ]
  },
  {
   "cell_type": "markdown",
   "metadata": {},
   "source": [
    "### Extra Tree"
   ]
  },
  {
   "cell_type": "code",
   "execution_count": 23,
   "metadata": {
    "code_folding": [
     2
    ],
    "collapsed": true
   },
   "outputs": [],
   "source": [
    "from sklearn.ensemble import ExtraTreesClassifier as ETree\n",
    "\n",
    "et_models = [\n",
    "    ['ETree',                ETree()],\n",
    "    ['ETree.balanced',       ETree(class_weight='balanced')],\n",
    "    ['ETree.wE3',            ETree(class_weight={0:1, 1:1000})],\n",
    "    ['ETree.wE3.t100',       ETree(n_jobs=-1, n_estimators=100, class_weight={0:1, 1:1000})],\n",
    "    ['ETree.wE4',            ETree(class_weight={0:1, 1:10000})],\n",
    "    ['ETree.wE4.t100',       ETree(n_jobs=-1, n_estimators=100, class_weight={0:1, 1:10000})],\n",
    "    ['ETree.wE5',            ETree(class_weight={0:1, 1:100000})],\n",
    "    ['ETree.wE5.t100',       ETree(n_jobs=-1, n_estimators=100, class_weight={0:1, 1:100000})],\n",
    "    ['ETree.wE6',            ETree(class_weight={0:1, 1:1000000})],\n",
    "    ['ETree.wE6.t100',       ETree(n_jobs=-1, n_estimators=100, class_weight={0:1, 1:1000000})],\n",
    "    ['ETree.wE7',            ETree(class_weight={0:1, 1:10000000})],\n",
    "    ['ETree.wE7.t100',       ETree(n_jobs=-1, n_estimators=100, class_weight={0:1, 1:10000000})],\n",
    "    ['ETree.wE8',            ETree(class_weight={0:1, 1:100000000})],\n",
    "    ['ETree.wE8.t100',       ETree(n_jobs=-1, n_estimators=100, class_weight={0:1, 1:100000000})],\n",
    "    ['ETree.w2E8',            ETree(class_weight={0:1, 1:200000000})],\n",
    "    ['ETree.w2E8.t100',       ETree(n_jobs=-1, n_estimators=100, class_weight={0:1, 1:200000000})],\n",
    "    ['ETree.wRatioE7',       ETree(n_jobs=-1, class_weight={0:1, 1: 1 / COE_B * 10000000})],\n",
    "    ['ETree.wRatioE7.wfE-10', ETree(n_jobs=-1, class_weight={0:1, 1: 1 / COE_B * 10000000}, min_weight_fraction_leaf=0.0000000001)],\n",
    "    ['ETree.wRatioE7.wfE-11', ETree(n_jobs=-1, class_weight={0:1, 1: 1 / COE_B * 10000000}, min_weight_fraction_leaf=0.00000000001)],\n",
    "    ['ETree.wRatioE7.wfE-12', ETree(n_jobs=-1, class_weight={0:1, 1: 1 / COE_B * 10000000}, min_weight_fraction_leaf=0.000000000001)],\n",
    "    ['ETree.wRatioE7.wfE-13', ETree(n_jobs=-1, class_weight={0:1, 1: 1 / COE_B * 10000000}, min_weight_fraction_leaf=0.0000000000001)],\n",
    "    ['ETree.wRatioE7.wfE-14', ETree(n_jobs=-1, class_weight={0:1, 1: 1 / COE_B * 10000000}, min_weight_fraction_leaf=0.00000000000001)],\n",
    "    ['ETree.wRatioE7.wfE-15', ETree(n_jobs=-1, class_weight={0:1, 1: 1 / COE_B * 10000000}, min_weight_fraction_leaf=0.000000000000001)],\n",
    "    ['ETree.wRatioE7.wfE-16', ETree(n_jobs=-1, class_weight={0:1, 1: 1 / COE_B * 10000000}, min_weight_fraction_leaf=0.0000000000000001)],\n",
    "    ['ETree.wRatioE7.wfE-17', ETree(n_jobs=-1, class_weight={0:1, 1: 1 / COE_B * 10000000}, min_weight_fraction_leaf=0.00000000000000001)],\n",
    "    ['ETree.wRatioE7.wfE-18', ETree(n_jobs=-1, class_weight={0:1, 1: 1 / COE_B * 10000000}, min_weight_fraction_leaf=0.000000000000000001)],\n",
    "    ['ETree.wRatioE7.t100',  ETree(n_jobs=-1, n_estimators=100, class_weight={0:1, 1: 1 / COE_B * 10000000})],\n",
    "    ['ETree.wRatioE7.t200',  ETree(n_jobs=-1, n_estimators=200, class_weight={0:1, 1: 1 / COE_B * 10000000})],\n",
    "    ['ETree.wRatioE7.t300',  ETree(n_jobs=-1, n_estimators=300, class_weight={0:1, 1: 1 / COE_B * 10000000})],\n",
    "    ['ETree.wRatioE7.t400',  ETree(n_jobs=-1, n_estimators=400, class_weight={0:1, 1: 1 / COE_B * 10000000})],\n",
    "    ['ETree.wRatioE7.t500',  ETree(n_jobs=-1, n_estimators=500, class_weight={0:1, 1: 1 / COE_B * 10000000})],\n",
    "    ['ETree.w3E8',       ETree(n_jobs=-1, class_weight={0:1, 1:300000000})],\n",
    "    ['ETree.w3E8.t100',       ETree(n_jobs=-1, n_estimators=100, class_weight={0:1, 1:300000000})],\n",
    "    ['ETree.w3E8.t100.wfE-10',       ETree(n_jobs=-1, n_estimators=100, class_weight={0:1, 1:300000000}, min_weight_fraction_leaf=0.0000000001)],\n",
    "    ['ETree.w3E8.t100.wfE-11',       ETree(n_jobs=-1, n_estimators=100, class_weight={0:1, 1:300000000}, min_weight_fraction_leaf=0.00000000001)],\n",
    "    ['ETree.w3E8.t100.wfE-12',       ETree(n_jobs=-1, n_estimators=100, class_weight={0:1, 1:300000000}, min_weight_fraction_leaf=0.000000000001)],\n",
    "    ['ETree.w3E8.t100.wfE-13',       ETree(n_jobs=-1, n_estimators=100, class_weight={0:1, 1:300000000}, min_weight_fraction_leaf=0.0000000000001)],\n",
    "    ['ETree.w3E8.t100.wfE-14',       ETree(n_jobs=-1, n_estimators=100, class_weight={0:1, 1:300000000}, min_weight_fraction_leaf=0.00000000000001)],\n",
    "    ['ETree.w3E8.t100.wfE-15',       ETree(n_jobs=-1, n_estimators=100, class_weight={0:1, 1:300000000}, min_weight_fraction_leaf=0.000000000000001)],\n",
    "    ['ETree.w3E8.t100.wfE-16',       ETree(n_jobs=-1, n_estimators=100, class_weight={0:1, 1:300000000}, min_weight_fraction_leaf=0.0000000000000001)],\n",
    "    ['ETree.w3E8.t100.wfE-17',       ETree(n_jobs=-1, n_estimators=100, class_weight={0:1, 1:300000000}, min_weight_fraction_leaf=0.00000000000000001)],\n",
    "    ['ETree.w3E8.t100.wfE-18',       ETree(n_jobs=-1, n_estimators=100, class_weight={0:1, 1:300000000}, min_weight_fraction_leaf=0.000000000000000001)],\n",
    "    ['ETree.w3E8.t100.wfE-19',       ETree(n_jobs=-1, n_estimators=100, class_weight={0:1, 1:300000000}, min_weight_fraction_leaf=0.0000000000000000001)],\n",
    "    ['ETree.w3E8.t200',       ETree(n_jobs=-1, n_estimators=200, class_weight={0:1, 1:300000000})],\n",
    "    ['ETree.w3E8.t300',       ETree(n_jobs=-1, n_estimators=300, class_weight={0:1, 1:300000000})],\n",
    "    ['ETree.w3E8.t400',       ETree(n_jobs=-1, n_estimators=400, class_weight={0:1, 1:300000000})],\n",
    "    ['ETree.wE9',            ETree(class_weight={0:1, 1:1000000000})],\n",
    "]"
   ]
  },
  {
   "cell_type": "code",
   "execution_count": 24,
   "metadata": {},
   "outputs": [
    {
     "name": "stdout",
     "output_type": "stream",
     "text": [
      "  Model                                   Recall       Metric       TP       FP\n",
      "--------------------------------------------------------------------------------\n",
      "  ETree                                   0.7054       0.8073     1777      274\n",
      "  ETree.balanced                          0.8380       0.8863     2111     1932\n",
      "  ETree.wE3                               0.8353       0.8845     2104     1943\n",
      "  ETree.wE3.t100                          0.8400       0.8876     2116     1943\n",
      "  ETree.wE4                               0.8353       0.8845     2104     1936\n",
      "  ETree.wE4.t100                          0.8388       0.8868     2113     1942\n",
      "  ETree.wE5                               0.8349       0.8843     2103     1932\n",
      "  ETree.wE5.t100                          0.8380       0.8863     2111     1947\n",
      "  ETree.wE6                               0.8372       0.8858     2109     1933\n",
      "  ETree.wE6.t100                          0.8388       0.8868     2113     1947\n",
      "  ETree.wE7                               0.8392       0.8870     2114     1967\n",
      "  ETree.wE7.t100                          0.8428       0.8893     2123     1965\n",
      "  ETree.wE8                               0.8769       0.9003     2209     4536\n",
      "  ETree.wE8.t100                          0.8825       0.9007     2223     5288\n",
      "  ETree.w2E8                              0.9139       0.9054     2302     8886\n",
      "  ETree.w2E8.t100                         0.9154       0.9061     2306     8965\n",
      "  ETree.wRatioE7                          0.9289       0.9010     2340    12169\n",
      "  ETree.wRatioE7.wfE-10                   0.9936       0.7205     2503    63422\n",
      "  ETree.wRatioE7.wfE-11                   0.9837       0.8077     2478    41862\n",
      "  ETree.wRatioE7.wfE-12                   0.9246       0.8972     2329    12395\n",
      "  ETree.wRatioE7.wfE-13                   0.9242       0.9007     2328    11523\n",
      "  ETree.wRatioE7.wfE-14                   0.9281       0.9059     2338    10914\n",
      "  ETree.wRatioE7.wfE-15                   0.9285       0.9006     2339    12193\n",
      "  ETree.wRatioE7.wfE-16                   0.9333       0.9004     2351    12965\n",
      "  ETree.wRatioE7.wfE-17                   0.9341       0.9000     2353    13165\n",
      "  ETree.wRatioE7.wfE-18                   0.9285       0.9022     2339    11820\n",
      "  ETree.wRatioE7.t100                     0.9305       0.9032     2344    11886\n",
      "  ETree.wRatioE7.t200                     0.9317       0.9040     2347    11888\n",
      "  ETree.wRatioE7.t300                     0.9333       0.9042     2351    12080\n",
      "  ETree.wRatioE7.t400                     0.9317       0.9037     2347    11950\n",
      "  ETree.wRatioE7.t500                     0.9329       0.9034     2350    12195\n",
      "  ETree.w3E8                              0.9373       0.8998     2361    13678\n",
      "  ETree.w3E8.t100                         0.9488       0.8982     2390    15787\n",
      "  ETree.w3E8.t100.wfE-10                  0.9964       0.6848     2510    72069\n",
      "  ETree.w3E8.t100.wfE-11                  0.9901       0.8009     2494    44372\n",
      "  ETree.w3E8.t100.wfE-12                  0.9436       0.8999     2377    14620\n",
      "  ETree.w3E8.t100.wfE-13                  0.9504       0.8968     2394    16340\n",
      "  ETree.w3E8.t100.wfE-14                  0.9424       0.8986     2374    14740\n",
      "  ETree.w3E8.t100.wfE-15                  0.9468       0.8972     2385    15705\n",
      "  ETree.w3E8.t100.wfE-16                  0.9436       0.9005     2377    14483\n",
      "  ETree.w3E8.t100.wfE-17                  0.9480       0.9001     2388    15228\n",
      "  ETree.w3E8.t100.wfE-18                  0.9484       0.8993     2389    15458\n",
      "  ETree.w3E8.t100.wfE-19                  0.9460       0.8988     2383    15218\n",
      "  ETree.w3E8.t200                         0.9460       0.8992     2383    15132\n",
      "  ETree.w3E8.t300                         0.9472       0.8992     2386    15308\n",
      "  ETree.w3E8.t400                         0.9476       0.8985     2387    15532\n",
      "  ETree.wE9                               1.0000       0.6500     2519    80613\n",
      "--------------------------------------------------------------------------------\n",
      "  ETree.w2E8.t100                         0.9154       0.9061     2306     8965\n"
     ]
    }
   ],
   "source": [
    "et_best = validate(et_models)"
   ]
  },
  {
   "cell_type": "code",
   "execution_count": 68,
   "metadata": {},
   "outputs": [
    {
     "name": "stdout",
     "output_type": "stream",
     "text": [
      "ETree                          ..... SKIPPED\n",
      "ETree.balanced                 ..... SKIPPED\n",
      "ETree.wE3                      ..... SKIPPED\n",
      "ETree.wE3.t100                 ..... SKIPPED\n",
      "ETree.wE4                      ..... SKIPPED\n",
      "ETree.wE4.t100                 ..... SKIPPED\n",
      "ETree.wE5                      ..... SKIPPED\n",
      "ETree.wE5.t100                 ..... SKIPPED\n",
      "ETree.wE6                      ..... SKIPPED\n",
      "ETree.wE6.t100                 ..... SKIPPED\n",
      "ETree.wE7                      ..... SKIPPED\n",
      "ETree.wE7.t100                 ..... SKIPPED\n",
      "ETree.wE8                      ..... SKIPPED\n",
      "ETree.wE8.t100                 ..... SKIPPED\n",
      "ETree.w2E8                     ..... SKIPPED\n",
      "ETree.w2E8.t100                ..... SKIPPED\n",
      "ETree.wRatioE7                 ..... SKIPPED\n",
      "ETree.wRatioE7.wfE-10          ..... SKIPPED\n",
      "ETree.wRatioE7.wfE-11          ..... SKIPPED\n",
      "ETree.wRatioE7.wfE-12          ..... SKIPPED\n",
      "ETree.wRatioE7.wfE-13          ..... SKIPPED\n",
      "ETree.wRatioE7.wfE-14          ..... SKIPPED\n",
      "ETree.wRatioE7.wfE-15          ..... SKIPPED\n",
      "ETree.wRatioE7.wfE-16          ..... SKIPPED\n",
      "ETree.wRatioE7.wfE-17          ..... SKIPPED\n",
      "ETree.wRatioE7.wfE-18          ..... SKIPPED\n",
      "ETree.wRatioE7.t100            ..... SKIPPED\n",
      "ETree.wRatioE7.t200            ..... SKIPPED\n",
      "ETree.wRatioE7.t300            ..... SKIPPED\n",
      "ETree.wRatioE7.t400            ..... SKIPPED\n",
      "ETree.wRatioE7.t500            ..... SKIPPED\n",
      "ETree.w3E8                     ..... SKIPPED\n",
      "ETree.w3E8.t100                ..... SKIPPED\n",
      "ETree.w3E8.t100.wfE-10         ..... SKIPPED\n",
      "ETree.w3E8.t100.wfE-11         ..... SKIPPED\n",
      "ETree.w3E8.t100.wfE-12         ..... SKIPPED\n",
      "ETree.w3E8.t100.wfE-13         ..... SKIPPED\n",
      "ETree.w3E8.t100.wfE-14         ..... SKIPPED\n",
      "ETree.w3E8.t100.wfE-15         ..... SKIPPED\n",
      "ETree.w3E8.t100.wfE-16         ..... SKIPPED\n",
      "ETree.w3E8.t100.wfE-17         ..... SKIPPED\n",
      "ETree.w3E8.t100.wfE-18         ..... SKIPPED\n",
      "ETree.w3E8.t100.wfE-19         ..... SKIPPED\n",
      "ETree.w3E8.t200                ..... SKIPPED\n",
      "ETree.w3E8.t300                ..... SKIPPED\n",
      "ETree.w3E8.t400                ..... SKIPPED\n",
      "ETree.wE9                      ..... SKIPPED\n",
      "\n",
      "  Model                                   Recall       Metric       TP       FP\n",
      "--------------------------------------------------------------------------------\n",
      "fn: 232\n",
      "  ETree                                   0.6647       0.7810      460       58\n",
      "fn: 152\n",
      "  ETree.balanced                          0.7803       0.8493      540      404\n",
      "fn: 152\n",
      "  ETree.wE3                               0.7803       0.8494      540      401\n",
      "fn: 150\n",
      "  ETree.wE3.t100                          0.7832       0.8512      542      403\n",
      "fn: 155\n",
      "  ETree.wE4                               0.7760       0.8465      537      407\n",
      "fn: 150\n",
      "  ETree.wE4.t100                          0.7832       0.8512      542      403\n",
      "fn: 153\n",
      "  ETree.wE5                               0.7789       0.8484      539      403\n",
      "fn: 150\n",
      "  ETree.wE5.t100                          0.7832       0.8512      542      403\n",
      "fn: 152\n",
      "  ETree.wE6                               0.7803       0.8493      540      404\n",
      "fn: 150\n",
      "  ETree.wE6.t100                          0.7832       0.8512      542      403\n",
      "fn: 144\n",
      "  ETree.wE7                               0.7919       0.8567      548      411\n",
      "fn: 143\n",
      "  ETree.wE7.t100                          0.7934       0.8577      549      411\n",
      "fn: 100\n",
      "  ETree.wE8                               0.8555       0.8799      592     1343\n",
      "fn: 111\n",
      "  ETree.wE8.t100                          0.8396       0.8820      581      705\n",
      "fn: 75\n",
      "  ETree.w2E8                              0.8916       0.8933      617     1861\n",
      "fn: 59\n",
      "  ETree.w2E8.t100                         0.9147       0.8983      633     2373\n",
      "fn: 54\n",
      "  ETree.wRatioE7                          0.9220       0.8943      638     2818\n",
      "fn: 2\n",
      "  ETree.wRatioE7.wfE-10                   0.9971       0.7133      690    14609\n",
      "fn: 12\n",
      "  ETree.wRatioE7.wfE-11                   0.9827       0.8020      680     9578\n",
      "fn: 49\n",
      "  ETree.wRatioE7.wfE-12                   0.9292       0.8904      643     3262\n",
      "fn: 54\n",
      "  ETree.wRatioE7.wfE-13                   0.9220       0.8826      638     3420\n",
      "fn: 72\n",
      "  ETree.wRatioE7.wfE-14                   0.8960       0.8872      620     2318\n",
      "fn: 67\n",
      "  ETree.wRatioE7.wfE-15                   0.9032       0.8888      625     2474\n",
      "fn: 81\n",
      "  ETree.wRatioE7.wfE-16                   0.8829       0.8839      611     2051\n",
      "fn: 69\n",
      "  ETree.wRatioE7.wfE-17                   0.9003       0.8818      623     2739\n",
      "fn: 62\n",
      "  ETree.wRatioE7.wfE-18                   0.9104       0.8912      630     2593\n",
      "fn: 63\n",
      "  ETree.wRatioE7.t100                     0.9090       0.8924      629     2483\n",
      "fn: 57\n",
      "  ETree.wRatioE7.t200                     0.9176       0.8945      635     2664\n",
      "fn: 52\n",
      "  ETree.wRatioE7.t300                     0.9249       0.8953      640     2866\n",
      "fn: 47\n",
      "  ETree.wRatioE7.t400                     0.9321       0.8962      645     3062\n",
      "fn: 50\n",
      "  ETree.wRatioE7.t500                     0.9277       0.8967      642     2890\n",
      "fn: 31\n",
      "  ETree.w3E8                              0.9552       0.8859      661     4360\n",
      "fn: 41\n",
      "  ETree.w3E8.t100                         0.9408       0.8930      651     3514\n",
      "fn: 1\n",
      "  ETree.w3E8.t100.wfE-10                  0.9986       0.6764      691    16552\n",
      "fn: 6\n",
      "  ETree.w3E8.t100.wfE-11                  0.9913       0.7742      686    11295\n",
      "fn: 40\n",
      "  ETree.w3E8.t100.wfE-12                  0.9422       0.8960      652     3409\n",
      "fn: 46\n",
      "  ETree.w3E8.t100.wfE-13                  0.9335       0.8918      646     3334\n",
      "fn: 40\n",
      "  ETree.w3E8.t100.wfE-14                  0.9422       0.8964      652     3387\n",
      "fn: 41\n",
      "  ETree.w3E8.t100.wfE-15                  0.9408       0.8930      651     3513\n",
      "fn: 42\n",
      "  ETree.w3E8.t100.wfE-16                  0.9393       0.8955      650     3336\n",
      "fn: 40\n",
      "  ETree.w3E8.t100.wfE-17                  0.9422       0.8934      652     3540\n",
      "fn: 43\n",
      "  ETree.w3E8.t100.wfE-18                  0.9379       0.8997      649     3074\n",
      "fn: 43\n",
      "  ETree.w3E8.t100.wfE-19                  0.9379       0.8928      649     3428\n",
      "fn: 40\n",
      "  ETree.w3E8.t200                         0.9422       0.8901      652     3712\n",
      "fn: 35\n",
      "  ETree.w3E8.t300                         0.9494       0.8895      657     3983\n",
      "fn: 38\n",
      "  ETree.w3E8.t400                         0.9451       0.8937      654     3620\n",
      "fn: 0\n",
      "  ETree.wE9                               1.0000       0.6500      692    17953\n",
      "--------------------------------------------------------------------------------\n",
      "  ETree.w2E8.t100                         0.9147       0.8983      633     2373\n"
     ]
    }
   ],
   "source": [
    "train(et_models)\n",
    "et_test = test(et_models, et_best)"
   ]
  },
  {
   "cell_type": "code",
   "execution_count": 26,
   "metadata": {},
   "outputs": [
    {
     "name": "stdout",
     "output_type": "stream",
     "text": [
      "  ETree.w2E8.t100                         0.9147       0.8983      633     2373\n"
     ]
    }
   ],
   "source": [
    "result(et_test)"
   ]
  },
  {
   "cell_type": "markdown",
   "metadata": {},
   "source": [
    "### Isolation Forest"
   ]
  },
  {
   "cell_type": "code",
   "execution_count": 27,
   "metadata": {
    "code_folding": [
     4
    ],
    "collapsed": true
   },
   "outputs": [],
   "source": [
    "from sklearn.ensemble import IsolationForest\n",
    "\n",
    "_IsoF = lambda **kwargs: IsolationForest(n_jobs=-1, **kwargs)\n",
    "\n",
    "isoF_models = [\n",
    "    ['IsoF',                _IsoF()],\n",
    "    ['IsoF.E-1',            _IsoF(contamination=0.1)],\n",
    "    ['IsoF.E-1_1',          _IsoF(contamination=0.1)],\n",
    "    ['IsoF.cE-2',           _IsoF(contamination=0.01)],\n",
    "    ['IsoF.c15E-2',         _IsoF(contamination=0.15)],\n",
    "    ['IsoF.c2E-1',          _IsoF(contamination=0.2)],\n",
    "    ['IsoF.c3E-1',          _IsoF(contamination=0.3)],\n",
    "    ['IsoF.c4E-1',          _IsoF(contamination=0.4)],\n",
    "    ['IsoF.c5E-1',          _IsoF(contamination=0.5)],\n",
    "    ['IsoF.s500.cE-1',      _IsoF(max_samples=500, contamination=0.1)],\n",
    "    ['IsoF.s400.cE-1',      _IsoF(max_samples=400, contamination=0.1)],\n",
    "    ['IsoF.s300.cE-1',      _IsoF(max_samples=300, contamination=0.1)],\n",
    "    ['IsoF.s200.cE-1',      _IsoF(max_samples=200, contamination=0.1)],\n",
    "    ['IsoF.s100.cE-1',      _IsoF(max_samples=100, contamination=0.1)],\n",
    "    ['IsoF.s50.cE-1',       _IsoF(max_samples=50, contamination=0.1)],\n",
    "    ['IsoF.s500.c2E-1',      _IsoF(max_samples=500, contamination=0.2)],\n",
    "    ['IsoF.s400.c2E-1',      _IsoF(max_samples=400, contamination=0.2)],\n",
    "    ['IsoF.s300.c2E-1',      _IsoF(max_samples=300, contamination=0.2)],\n",
    "    ['IsoF.s200.c2E-1',      _IsoF(max_samples=200, contamination=0.2)],\n",
    "    ['IsoF.s100.c2E-1',      _IsoF(max_samples=100, contamination=0.2)],\n",
    "    ['IsoF.s50.c2E-1',       _IsoF(max_samples=50, contamination=0.2)],\n",
    "    ['IsoF.E-1',            _IsoF(max_samples=200, contamination=0.1)],\n",
    "    ['IsoF.t100.E-1',       _IsoF(n_estimators=100, contamination=0.1)],\n",
    "    ['IsoF.t100.2E-1',      _IsoF(n_estimators=100, contamination=0.2)],\n",
    "    ['IsoF.t100.3E-1',      _IsoF(n_estimators=100, contamination=0.3)],\n",
    "    ['IsoF.t100.4E-1',      _IsoF(n_estimators=100, contamination=0.4)],\n",
    "    ['IsoF.t100.5E-1',      _IsoF(n_estimators=100, contamination=0.5)],\n",
    "]"
   ]
  },
  {
   "cell_type": "code",
   "execution_count": 28,
   "metadata": {},
   "outputs": [
    {
     "name": "stdout",
     "output_type": "stream",
     "text": [
      "  Model                                   Recall       Metric       TP       FP\n",
      "--------------------------------------------------------------------------------\n",
      "  IsoF                                    0.3843       0.5678      968     7367\n",
      "  IsoF.E-1                                0.3879       0.5703      977     7328\n",
      "  IsoF.E-1_1                              0.3795       0.5647      956     7360\n",
      "  IsoF.cE-2                               0.1703       0.4589      429      405\n",
      "  IsoF.c15E-2                             0.4442       0.5896     1119    11328\n",
      "  IsoF.c2E-1                              0.6106       0.6808     1538    15205\n",
      "  IsoF.c3E-1                              0.6896       0.6980     1737    23078\n",
      "  IsoF.c4E-1                              0.7308       0.6889     1841    31347\n",
      "  IsoF.c5E-1                              0.7388       0.6575     1861    39790\n",
      "  IsoF.s500.cE-1                          0.3962       0.5757      998     7321\n",
      "  IsoF.s400.cE-1                          0.3898       0.5715      982     7339\n",
      "  IsoF.s300.cE-1                          0.3748       0.5617      944     7351\n",
      "  IsoF.s200.cE-1                          0.3851       0.5685      970     7326\n",
      "  IsoF.s100.cE-1                          0.3116       0.5195      785     7618\n",
      "  IsoF.s50.cE-1                           0.0969       0.3785      244     7934\n",
      "  IsoF.s500.c2E-1                         0.5030       0.6101     1267    15396\n",
      "  IsoF.s400.c2E-1                         0.5415       0.6352     1364    15378\n",
      "  IsoF.s300.c2E-1                         0.5042       0.6104     1270    15493\n",
      "  IsoF.s200.c2E-1                         0.5967       0.6717     1503    15239\n",
      "  IsoF.s100.c2E-1                         0.4653       0.5857     1172    15367\n",
      "  IsoF.s50.c2E-1                          0.3755       0.5261      946    15665\n",
      "  IsoF.E-1                                0.3879       0.5703      977     7328\n",
      "  IsoF.t100.E-1                           0.3652       0.5551      920     7435\n",
      "  IsoF.t100.2E-1                          0.4970       0.6061     1252    15433\n",
      "  IsoF.t100.3E-1                          0.7031       0.7060     1771    23251\n",
      "  IsoF.t100.4E-1                          0.7297       0.6876     1838    31476\n",
      "  IsoF.t100.5E-1                          0.7396       0.6582     1863    39734\n",
      "--------------------------------------------------------------------------------\n",
      "  IsoF.t100.3E-1                          0.7031       0.7060     1771    23251\n"
     ]
    }
   ],
   "source": [
    "isoF_best = validate(isoF_models, anomaly=True)"
   ]
  },
  {
   "cell_type": "code",
   "execution_count": 29,
   "metadata": {},
   "outputs": [
    {
     "name": "stdout",
     "output_type": "stream",
     "text": [
      "IsoF                           ..... SKIPPED\n",
      "IsoF.E-1                       ..... SKIPPED\n",
      "IsoF.E-1_1                     ..... SKIPPED\n",
      "IsoF.cE-2                      ..... SKIPPED\n",
      "IsoF.c15E-2                    ..... SKIPPED\n",
      "IsoF.c2E-1                     ..... SKIPPED\n",
      "IsoF.c3E-1                     ..... SKIPPED\n",
      "IsoF.c4E-1                     ..... SKIPPED\n",
      "IsoF.c5E-1                     ..... SKIPPED\n",
      "IsoF.s500.cE-1                 ..... SKIPPED\n",
      "IsoF.s400.cE-1                 ..... SKIPPED\n",
      "IsoF.s300.cE-1                 ..... SKIPPED\n",
      "IsoF.s200.cE-1                 ..... SKIPPED\n",
      "IsoF.s100.cE-1                 ..... SKIPPED\n",
      "IsoF.s50.cE-1                  ..... SKIPPED\n",
      "IsoF.s500.c2E-1                ..... SKIPPED\n",
      "IsoF.s400.c2E-1                ..... SKIPPED\n",
      "IsoF.s300.c2E-1                ..... SKIPPED\n",
      "IsoF.s200.c2E-1                ..... SKIPPED\n",
      "IsoF.s100.c2E-1                ..... SKIPPED\n",
      "IsoF.s50.c2E-1                 ..... SKIPPED\n",
      "IsoF.E-1                       ..... SKIPPED\n",
      "IsoF.t100.E-1                  ..... SKIPPED\n",
      "IsoF.t100.2E-1                 ..... SKIPPED\n",
      "IsoF.t100.3E-1                 ..... SKIPPED\n",
      "IsoF.t100.4E-1                 ..... SKIPPED\n",
      "IsoF.t100.5E-1                 ..... SKIPPED\n",
      "\n",
      "  Model                                   Recall       Metric       TP       FP\n",
      "--------------------------------------------------------------------------------\n",
      "  IsoF                                    0.3512       0.5455      243     1678\n",
      "  IsoF.E-1                                0.3064       0.5160      212     1699\n",
      "  IsoF.E-1_1                              0.3786       0.5629      262     1701\n",
      "  IsoF.cE-2                               0.1590       0.4520      110       69\n",
      "  IsoF.c15E-2                             0.3887       0.5491      269     2746\n",
      "  IsoF.c2E-1                              0.4061       0.5436      281     3610\n",
      "  IsoF.c3E-1                              0.6994       0.7013      484     5299\n",
      "  IsoF.c4E-1                              0.7009       0.6667      485     7124\n",
      "  IsoF.c5E-1                              0.7168       0.6411      496     8966\n",
      "  IsoF.s500.cE-1                          0.3627       0.5526      251     1701\n",
      "  IsoF.s400.cE-1                          0.3699       0.5569      256     1720\n",
      "  IsoF.s300.cE-1                          0.3642       0.5535      252     1702\n",
      "  IsoF.s200.cE-1                          0.3656       0.5555      253     1647\n",
      "  IsoF.s100.cE-1                          0.2413       0.4721      167     1781\n",
      "  IsoF.s50.cE-1                           0.0260       0.3297       18     1910\n",
      "  IsoF.s500.c2E-1                         0.4263       0.5565      295     3619\n",
      "  IsoF.s400.c2E-1                         0.4046       0.5440      280     3538\n",
      "  IsoF.s300.c2E-1                         0.4408       0.5657      305     3629\n",
      "  IsoF.s200.c2E-1                         0.6720       0.7188      465     3485\n",
      "  IsoF.s100.c2E-1                         0.3266       0.4911      226     3653\n",
      "  IsoF.s50.c2E-1                          0.6431       0.7013      445     3419\n",
      "  IsoF.E-1                                0.3064       0.5160      212     1699\n",
      "  IsoF.t100.E-1                           0.3772       0.5614      261     1732\n",
      "  IsoF.t100.2E-1                          0.6676       0.7169      462     3439\n",
      "  IsoF.t100.3E-1                          0.7081       0.7068      490     5305\n",
      "  IsoF.t100.4E-1                          0.7124       0.6734      493     7165\n",
      "  IsoF.t100.5E-1                          0.7110       0.6381      492     8925\n",
      "--------------------------------------------------------------------------------\n",
      "  IsoF.t100.3E-1                          0.7081       0.7068      490     5305\n"
     ]
    }
   ],
   "source": [
    "train(isoF_models, anomaly=True)\n",
    "isoF_test = test(isoF_models, isoF_best, anomaly=True)"
   ]
  },
  {
   "cell_type": "code",
   "execution_count": 30,
   "metadata": {},
   "outputs": [
    {
     "name": "stdout",
     "output_type": "stream",
     "text": [
      "  IsoF.t100.3E-1                          0.7081       0.7068      490     5305\n"
     ]
    }
   ],
   "source": [
    "result(isoF_test)"
   ]
  },
  {
   "cell_type": "markdown",
   "metadata": {},
   "source": [
    "### One-Class SVM"
   ]
  },
  {
   "cell_type": "code",
   "execution_count": 31,
   "metadata": {
    "code_folding": [
     4
    ],
    "collapsed": true
   },
   "outputs": [],
   "source": [
    "from sklearn.svm import OneClassSVM as oneClsSVM\n",
    "\n",
    "# NOTE: slow\n",
    "\n",
    "oneClsSVM_models = [\n",
    "    ['oneClsSVM',      oneClsSVM()],\n",
    "]"
   ]
  },
  {
   "cell_type": "code",
   "execution_count": 32,
   "metadata": {},
   "outputs": [
    {
     "name": "stdout",
     "output_type": "stream",
     "text": [
      "  Model                                   Recall       Metric       TP       FP\n",
      "--------------------------------------------------------------------------------\n",
      "  oneClsSVM                               0.9436       0.7933     2377    39174\n",
      "--------------------------------------------------------------------------------\n",
      "  oneClsSVM                               0.9436       0.7933     2377    39174\n"
     ]
    }
   ],
   "source": [
    "oneClsSVM_best = validate(oneClsSVM_models, anomaly=True)"
   ]
  },
  {
   "cell_type": "code",
   "execution_count": 33,
   "metadata": {},
   "outputs": [
    {
     "name": "stdout",
     "output_type": "stream",
     "text": [
      "oneClsSVM                      ..... SKIPPED\n",
      "\n",
      "  Model                                   Recall       Metric       TP       FP\n",
      "--------------------------------------------------------------------------------\n",
      "  oneClsSVM                               0.9292       0.7819      643     8826\n",
      "--------------------------------------------------------------------------------\n",
      "  oneClsSVM                               0.9292       0.7819      643     8826\n"
     ]
    }
   ],
   "source": [
    "train(oneClsSVM_models, anomaly=True)\n",
    "oneClsSVM_test = test(oneClsSVM_models, oneClsSVM_best, anomaly=True)"
   ]
  },
  {
   "cell_type": "code",
   "execution_count": 34,
   "metadata": {},
   "outputs": [
    {
     "name": "stdout",
     "output_type": "stream",
     "text": [
      "  oneClsSVM                               0.9292       0.7819      643     8826\n"
     ]
    }
   ],
   "source": [
    "result(oneClsSVM_test)"
   ]
  },
  {
   "cell_type": "markdown",
   "metadata": {},
   "source": [
    "## Tree-Based Feature Selection"
   ]
  },
  {
   "cell_type": "markdown",
   "metadata": {},
   "source": [
    "We evaluate the importance of each feature in correctness prediction. We extract the feature importance value in the best performing Ext"
   ]
  },
  {
   "cell_type": "code",
   "execution_count": 35,
   "metadata": {},
   "outputs": [
    {
     "ename": "Exception",
     "evalue": "stop here",
     "output_type": "error",
     "traceback": [
      "\u001b[0;31m---------------------------------------------------------------------------\u001b[0m",
      "\u001b[0;31mException\u001b[0m                                 Traceback (most recent call last)",
      "\u001b[0;32m<ipython-input-35-b06fe05a54c7>\u001b[0m in \u001b[0;36m<module>\u001b[0;34m()\u001b[0m\n\u001b[1;32m      1\u001b[0m \u001b[0;31m# stop here\u001b[0m\u001b[0;34m\u001b[0m\u001b[0;34m\u001b[0m\u001b[0m\n\u001b[0;32m----> 2\u001b[0;31m \u001b[0;32mraise\u001b[0m \u001b[0mException\u001b[0m\u001b[0;34m(\u001b[0m\u001b[0;34m\"stop here\"\u001b[0m\u001b[0;34m)\u001b[0m\u001b[0;34m\u001b[0m\u001b[0m\n\u001b[0m",
      "\u001b[0;31mException\u001b[0m: stop here"
     ]
    }
   ],
   "source": [
    "# stop here\n",
    "raise Exception(\"stop here\")"
   ]
  },
  {
   "cell_type": "code",
   "execution_count": 60,
   "metadata": {},
   "outputs": [],
   "source": [
    "import numpy as np\n",
    "import matplotlib.pyplot as plt\n",
    "from sklearn import ensemble\n",
    " \n",
    "def get_mean_importance(clf):\n",
    "    importances = clf.feature_importances_\n",
    "    return sum(importances) / FEATS_TEST.shape[1]\n",
    "\n",
    "def get_char(feat_name):\n",
    "    if 'CharacterExistenceFeature' not in feat_name:\n",
    "        raise Exception('Given feature is not an CharacterExistenceFeature.')\n",
    "    return chr(int(feat_name[26:]))\n",
    "\n",
    "def get_feat_name(feat_name):\n",
    "    \"\"\" Return the feature name. If the given name is an CharacterExistenceFeature, include\n",
    "    the character name.\n",
    "    \"\"\"\n",
    "    if 'CharacterExistenceFeature' in feat_name:\n",
    "        return '%s (%s)'% (feat_name, get_char(feat_name))\n",
    "    else:\n",
    "        return feat_name\n",
    "\n",
    "def eval_feat_importances(clf):\n",
    "    if isinstance(clf, model_selection.GridSearchCV):\n",
    "        clf = clf.best_estimator_\n",
    "    importances = clf.feature_importances_\n",
    "    if isinstance(clf, ensemble.GradientBoostingClassifier):\n",
    "        std = np.std([tree[0].feature_importances_ for tree in clf.estimators_], axis=0)\n",
    "    else:\n",
    "        std = np.std([tree.feature_importances_ for tree in clf.estimators_], axis=0)\n",
    "    indices = np.argsort(importances)[::-1]\n",
    "    \n",
    "    print(type(clf).__name__)\n",
    "    print()\n",
    "    \n",
    "    print(get_mean_importance(clf))\n",
    "\n",
    "    # Plot importance\n",
    "    plt.figure(figsize=(14,5))\n",
    "    plt.title('Tree-based feature importances')\n",
    "    plt.bar(range(FEATS_TRAIN.shape[1]), importances[indices],\n",
    "           color=\"r\", yerr=std[indices], align=\"center\")\n",
    "    plt.xticks(range(FEATS_TRAIN.shape[1]), indices)\n",
    "    plt.xlim([-1, FEATS_TRAIN.shape[1]])\n",
    "    plt.show()\n",
    "\n",
    "    # Print importance rank\n",
    "    print(\"Feature ranking:\")\n",
    "    for f in range(FEATS_TRAIN.shape[1]):\n",
    "        print(\"%2d. %-50s %f %.4f %7.4f %7.4f\"\n",
    "              % (f + 1, get_feat_name(FEATS_TRAIN.columns[indices[f]]),\n",
    "                 importances[indices[f]], std[indices[f]],\n",
    "                 importances[indices[f]] - std[indices[f]],\n",
    "                 importances[indices[f]] + std[indices[f]]\n",
    "                )"
   ]
  },
  {
   "cell_type": "code",
   "execution_count": 61,
   "metadata": {},
   "outputs": [
    {
     "name": "stdout",
     "output_type": "stream",
     "text": [
      "ExtraTreesClassifier\n",
      "\n",
      "0.0238095238095\n"
     ]
    },
    {
     "data": {
      "image/png": "[encoded data removed]",
      "text/plain": [
       "<matplotlib.figure.Figure at 0x7fe118044748>"
      ]
     },
     "metadata": {},
     "output_type": "display_data"
    },
    {
     "name": "stdout",
     "output_type": "stream",
     "text": [
      "Feature ranking:\n",
      " 1. ContextCoherenceFeature$bigram                     0.137545 0.0526  0.0850  0.1901\n",
      " 2. ApproximateContextCoherenceFeature$fivegram        0.136649 0.0647  0.0720  0.2013\n",
      " 3. ApproximateContextCoherenceFeature$bigram          0.132444 0.0432  0.0893  0.1756\n",
      " 4. ContextCoherenceFeature$trigram                    0.109013 0.0355  0.0735  0.1445\n",
      " 5. ApproximateContextCoherenceFeature$fourgram        0.101055 0.0347  0.0663  0.1358\n",
      " 6. ApproximateContextCoherenceFeature$trigram         0.100054 0.0357  0.0643  0.1358\n",
      " 7. ContextCoherenceFeature$fourgram                   0.084254 0.0369  0.0474  0.1211\n",
      " 8. ContextCoherenceFeature$fivegram                   0.079666 0.0540  0.0257  0.1336\n",
      " 9. CharacterExistenceFeature$45 (-)                   0.053229 0.0554 -0.0022  0.1086\n",
      "10. CharacterExistenceFeature$44 (,)                   0.030947 0.0310 -0.0000  0.0619\n",
      "11. CharacterExistenceFeature$46 (.)                   0.011562 0.0094  0.0021  0.0210\n",
      "12. CharacterExistenceFeature$34 (\")                   0.005544 0.0075 -0.0020  0.0130\n",
      "13. CharacterExistenceFeature$59 (;)                   0.005005 0.0042  0.0008  0.0092\n",
      "14. CharacterExistenceFeature$41 ())                   0.004457 0.0102 -0.0058  0.0147\n",
      "15. CharacterExistenceFeature$58 (:)                   0.003887 0.0042 -0.0003  0.0081\n",
      "16. CharacterExistenceFeature$40 (()                   0.002286 0.0041 -0.0018  0.0063\n",
      "17. CharacterExistenceFeature$39 (')                   0.001556 0.0023 -0.0007  0.0038\n",
      "18. CharacterExistenceFeature$42 (*)                   0.000612 0.0002  0.0004  0.0008\n",
      "19. CharacterExistenceFeature$63 (?)                   0.000107 0.0003 -0.0002  0.0004\n",
      "20. WordValidityFeature                                0.000070 0.0003 -0.0002  0.0003\n",
      "21. CharacterExistenceFeature$33 (!)                   0.000042 0.0000  0.0000  0.0001\n",
      "22. CharacterExistenceFeature$47 (/)                   0.000017 0.0001 -0.0001  0.0001\n",
      "23. CharacterExistenceFeature$38 (&)                   0.000000 0.0000 -0.0000  0.0000\n",
      "24. CharacterExistenceFeature$125 (})                  0.000000 0.0000 -0.0000  0.0000\n",
      "25. CharacterExistenceFeature$94 (^)                   0.000000 0.0000 -0.0000  0.0000\n",
      "26. CharacterExistenceFeature$92 (\\)                   0.000000 0.0000 -0.0000  0.0000\n",
      "27. CharacterExistenceFeature$95 (_)                   0.000000 0.0000 -0.0000  0.0000\n",
      "28. CharacterExistenceFeature$62 (>)                   0.000000 0.0000 -0.0000  0.0000\n",
      "29. CharacterExistenceFeature$93 (])                   0.000000 0.0000 -0.0000  0.0000\n",
      "30. CharacterExistenceFeature$37 (%)                   0.000000 0.0000  0.0000  0.0000\n",
      "31. CharacterExistenceFeature$36 ($)                   0.000000 0.0000  0.0000  0.0000\n",
      "32. CharacterExistenceFeature$35 (#)                   0.000000 0.0000  0.0000  0.0000\n",
      "33. CharacterExistenceFeature$64 (@)                   0.000000 0.0000  0.0000  0.0000\n",
      "34. CharacterExistenceFeature$32 ( )                   0.000000 0.0000  0.0000  0.0000\n",
      "35. CharacterExistenceFeature$126 (~)                  0.000000 0.0000  0.0000  0.0000\n",
      "36. CharacterExistenceFeature$61 (=)                   0.000000 0.0000  0.0000  0.0000\n",
      "37. CharacterExistenceFeature$60 (<)                   0.000000 0.0000  0.0000  0.0000\n",
      "38. CharacterExistenceFeature$43 (+)                   0.000000 0.0000  0.0000  0.0000\n",
      "39. CharacterExistenceFeature$96 (`)                   0.000000 0.0000  0.0000  0.0000\n",
      "40. CharacterExistenceFeature$91 ([)                   0.000000 0.0000  0.0000  0.0000\n",
      "41. CharacterExistenceFeature$123 ({)                  -0.000000 0.0000 -0.0000  0.0000\n",
      "42. CharacterExistenceFeature$124 (|)                  -0.000000 0.0000 -0.0000  0.0000\n"
     ]
    }
   ],
   "source": [
    "eval_feat_importances(get_clf('ETree.w2E8.t100'))"
   ]
  },
  {
   "cell_type": "code",
   "execution_count": null,
   "metadata": {
    "collapsed": true
   },
   "outputs": [],
   "source": [
    "eval_feat_importances(get_clf('GSCV-RF-2'))"
   ]
  },
  {
   "cell_type": "code",
   "execution_count": null,
   "metadata": {
    "collapsed": true
   },
   "outputs": [],
   "source": [
    "eval_feat_importances(get_clf('GSCV-GradBoost'))"
   ]
  },
  {
   "cell_type": "code",
   "execution_count": null,
   "metadata": {
    "collapsed": true
   },
   "outputs": [],
   "source": [
    "eval_feat_importances(get_clf('GSCV-GradBoost-2'))"
   ]
  },
  {
   "cell_type": "code",
   "execution_count": null,
   "metadata": {
    "collapsed": true
   },
   "outputs": [],
   "source": [
    "eval_feat_importances(get_clf('ETree.w3E8.t100'))"
   ]
  },
  {
   "cell_type": "code",
   "execution_count": null,
   "metadata": {
    "collapsed": true
   },
   "outputs": [],
   "source": [
    "eval_feat_importances(get_clf('GSCV-ETree').best_estimator_)"
   ]
  },
  {
   "cell_type": "code",
   "execution_count": null,
   "metadata": {
    "collapsed": true
   },
   "outputs": [],
   "source": [
    "eval_feat_importances(get_clf('GSCV-ETree-2').best_estimator_)"
   ]
  },
  {
   "cell_type": "code",
   "execution_count": null,
   "metadata": {
    "collapsed": true
   },
   "outputs": [],
   "source": [
    "eval_feat_importances(get_clf('GSCV-ETree-full-sqrt').best_estimator_)"
   ]
  },
  {
   "cell_type": "code",
   "execution_count": null,
   "metadata": {
    "collapsed": true
   },
   "outputs": [],
   "source": [
    "eval_feat_importances(get_clf('GSCV-ETree-full-all').best_estimator_)"
   ]
  },
  {
   "cell_type": "code",
   "execution_count": null,
   "metadata": {
    "collapsed": true
   },
   "outputs": [],
   "source": [
    "import operator\n",
    "\n",
    "def eval_opt_feats(rfecv):\n",
    "    print('Optimal number of features : %d' % rfecv.n_features_)\n",
    "\n",
    "    # Plot number of features VS. cross-validation scores\n",
    "    plt.figure()\n",
    "    plt.xlabel('Number of features selected')\n",
    "    plt.ylabel('Cross validation score (nb of correct classifications)')\n",
    "    plt.plot(range(1, len(rfecv.grid_scores_) + 1), rfecv.grid_scores_)\n",
    "    plt.show()\n",
    "    \n",
    "    ranked = [(k, v) for k, v in sorted(zip(FEATS_TRAIN.columns, rfecv.ranking_),\n",
    "                                        key=operator.itemgetter(1))]\n",
    "    for name, rank in ranked:\n",
    "        sys.stdout.write('%2s. %s' % (rank, name))\n",
    "        if 'CharacterExistenceFeature' in name:\n",
    "            char = chr(int(name[26:]))\n",
    "            sys.stdout.write(' ' + char)\n",
    "        print()"
   ]
  },
  {
   "cell_type": "code",
   "execution_count": null,
   "metadata": {
    "collapsed": true
   },
   "outputs": [],
   "source": [
    "eval_opt_feats(get_clf('RFECV-ETree'))"
   ]
  },
  {
   "cell_type": "code",
   "execution_count": null,
   "metadata": {
    "collapsed": true
   },
   "outputs": [],
   "source": [
    "eval_opt_feats(get_clf('RFECV-GradBoost'))"
   ]
  },
  {
   "cell_type": "markdown",
   "metadata": {},
   "source": [
    "## Writeout Results"
   ]
  },
  {
   "cell_type": "code",
   "execution_count": 36,
   "metadata": {
    "collapsed": true
   },
   "outputs": [],
   "source": [
    "CLF_NAME = 'ETree.w2E8.t100'"
   ]
  },
  {
   "cell_type": "code",
   "execution_count": 44,
   "metadata": {
    "collapsed": true
   },
   "outputs": [],
   "source": [
    "LABEL_PATH = TEMP_PATH + '/detect/label'\n",
    "OUT_LABEL_TRAIN_PATH = LABEL_PATH + '/labels.train.tsv'\n",
    "OUT_LABEL_TEST_PATH  = LABEL_PATH + '/labels.test.tsv'\n",
    "OUT_WORDS_TRAIN_PATH = LABEL_PATH + '/words.train.tsv'\n",
    "OUT_WORDS_TEST_PATH  = LABEL_PATH + '/words.test.tsv'\n",
    "OUT_WORDS_TRAIN_SPLIT_PREFIX = LABEL_PATH + '/words.train.tsv.part'\n",
    "OUT_WORDS_TEST_SPLIT_PREFIX  = LABEL_PATH + '/words.test.tsv.part'"
   ]
  },
  {
   "cell_type": "markdown",
   "metadata": {},
   "source": [
    "Write out Labels and words that are detected as errors."
   ]
  },
  {
   "cell_type": "code",
   "execution_count": 38,
   "metadata": {
    "collapsed": true
   },
   "outputs": [],
   "source": [
    "if not os.path.exists(LABEL_PATH):\n",
    "    os.makedirs(LABEL_PATH)\n",
    "\n",
    "clf = joblib.load(get_pkl_path(CLF_NAME))\n",
    "\n",
    "# Predict and write train labels.\n",
    "label_train = clf.predict(FEATS_TRAIN)\n",
    "with open(OUT_LABEL_TRAIN_PATH, 'w') as f:\n",
    "    f.write('\\n'.join(str(v) for v in label_train))\n",
    "with open(OUT_WORDS_TRAIN_PATH, 'w') as f:\n",
    "    word_lines = [l.rstrip() for l in open(WORDS_TRAIN_PATH, 'r').readlines()]\n",
    "    f.write('\\n'.join(word_lines[i] for i, v in enumerate(label_train) if v))\n",
    "\n",
    "# Predict and write test labels.\n",
    "label_test = clf.predict(FEATS_TEST)\n",
    "with open(OUT_LABEL_TEST_PATH, 'w') as f:\n",
    "    f.write('\\n'.join(str(v) for v in label_test))\n",
    "with open(OUT_WORDS_TEST_PATH, 'w') as f:\n",
    "    word_lines = [l.rstrip() for l in open(WORDS_TEST_PATH, 'r').readlines()]\n",
    "    f.write('\\n'.join(word_lines[i] for i, v in enumerate(label_test) if v))"
   ]
  },
  {
   "cell_type": "markdown",
   "metadata": {},
   "source": [
    "Split words into parts"
   ]
  },
  {
   "cell_type": "code",
   "execution_count": 54,
   "metadata": {},
   "outputs": [
    {
     "name": "stdout",
     "output_type": "stream",
     "text": [
      "12858\n",
      "11858\n",
      "10858\n",
      "9858\n",
      "8858\n",
      "7858\n",
      "6858\n",
      "5858\n",
      "4858\n",
      "3858\n",
      "2858\n",
      "1858\n",
      "858\n",
      "3006\n",
      "2006\n",
      "1006\n",
      "6\n"
     ]
    }
   ],
   "source": [
    "def split(word_file, out_file_prefix):\n",
    "    word_lines = [l.rstrip() for l in open(word_file, 'r')]\n",
    "    idx = 1\n",
    "    remain_lines = word_lines\n",
    "    while len(remain_lines):\n",
    "        with open(out_file_prefix + '%02d' % idx, 'w') as file:\n",
    "            print(len(remain_lines))\n",
    "            file.write('\\n'.join(remain_lines[:1000]))\n",
    "            remain_lines = remain_lines[1000:]\n",
    "            idx += 1\n",
    "            \n",
    "split(OUT_WORDS_TRAIN_PATH, OUT_WORDS_TRAIN_SPLIT_PREFIX)\n",
    "split(OUT_WORDS_TEST_PATH, OUT_WORDS_TEST_SPLIT_PREFIX)"
   ]
  }
 ],
 "metadata": {
  "kernelspec": {
   "display_name": "Python 3",
   "language": "python",
   "name": "python3"
  },
  "language_info": {
   "codemirror_mode": {
    "name": "ipython",
    "version": 3
   },
   "file_extension": ".py",
   "mimetype": "text/x-python",
   "name": "python",
   "nbconvert_exporter": "python",
   "pygments_lexer": "ipython3",
   "version": "3.6.1"
  },
  "toc": {
   "colors": {
    "hover_highlight": "#DAA520",
    "navigate_num": "#000000",
    "navigate_text": "#333333",
    "running_highlight": "#FF0000",
    "selected_highlight": "#FFD700",
    "sidebar_border": "#EEEEEE",
    "wrapper_background": "#FFFFFF"
   },
   "moveMenuLeft": true,
   "navigate_menu": false,
   "number_sections": true,
   "sideBar": true,
   "skip_h1_title": false,
   "threshold": 4,
   "toc_cell": false,
   "toc_position": {
    "height": "1124px",
    "left": "0px",
    "right": "1111.5px",
    "top": "43.75px",
    "width": "306px"
   },
   "toc_section_display": "block",
   "toc_window_display": true,
   "widenNotebook": false
  }
 },
 "nbformat": 4,
 "nbformat_minor": 2
}
