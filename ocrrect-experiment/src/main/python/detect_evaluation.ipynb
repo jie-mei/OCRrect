{
 "cells": [
  {
   "cell_type": "markdown",
   "metadata": {},
   "source": [
    "## Resources"
   ]
  },
  {
   "cell_type": "code",
   "execution_count": 142,
   "metadata": {
    "collapsed": true
   },
   "outputs": [
    {
     "data": {
      "text/plain": [
       "['../../../../tmp/detect/data/ApproximateContextCoherenceFeature$bigram.tsv',\n",
       " '../../../../tmp/detect/data/ApproximateContextCoherenceFeature$fivegram.tsv',\n",
       " '../../../../tmp/detect/data/ApproximateContextCoherenceFeature$fourgram.tsv',\n",
       " '../../../../tmp/detect/data/ApproximateContextCoherenceFeature$trigram.tsv',\n",
       " '../../../../tmp/detect/data/CharacterExistenceFeature$123.tsv',\n",
       " '../../../../tmp/detect/data/CharacterExistenceFeature$124.tsv',\n",
       " '../../../../tmp/detect/data/CharacterExistenceFeature$125.tsv',\n",
       " '../../../../tmp/detect/data/CharacterExistenceFeature$126.tsv',\n",
       " '../../../../tmp/detect/data/CharacterExistenceFeature$127.tsv',\n",
       " '../../../../tmp/detect/data/CharacterExistenceFeature$32.tsv',\n",
       " '../../../../tmp/detect/data/CharacterExistenceFeature$33.tsv',\n",
       " '../../../../tmp/detect/data/CharacterExistenceFeature$34.tsv',\n",
       " '../../../../tmp/detect/data/CharacterExistenceFeature$35.tsv',\n",
       " '../../../../tmp/detect/data/CharacterExistenceFeature$36.tsv',\n",
       " '../../../../tmp/detect/data/CharacterExistenceFeature$37.tsv',\n",
       " '../../../../tmp/detect/data/CharacterExistenceFeature$38.tsv',\n",
       " '../../../../tmp/detect/data/CharacterExistenceFeature$39.tsv',\n",
       " '../../../../tmp/detect/data/CharacterExistenceFeature$40.tsv',\n",
       " '../../../../tmp/detect/data/CharacterExistenceFeature$41.tsv',\n",
       " '../../../../tmp/detect/data/CharacterExistenceFeature$42.tsv',\n",
       " '../../../../tmp/detect/data/CharacterExistenceFeature$43.tsv',\n",
       " '../../../../tmp/detect/data/CharacterExistenceFeature$44.tsv',\n",
       " '../../../../tmp/detect/data/CharacterExistenceFeature$45.tsv',\n",
       " '../../../../tmp/detect/data/CharacterExistenceFeature$46.tsv',\n",
       " '../../../../tmp/detect/data/CharacterExistenceFeature$47.tsv',\n",
       " '../../../../tmp/detect/data/CharacterExistenceFeature$59.tsv',\n",
       " '../../../../tmp/detect/data/CharacterExistenceFeature$60.tsv',\n",
       " '../../../../tmp/detect/data/CharacterExistenceFeature$61.tsv',\n",
       " '../../../../tmp/detect/data/CharacterExistenceFeature$62.tsv',\n",
       " '../../../../tmp/detect/data/CharacterExistenceFeature$63.tsv',\n",
       " '../../../../tmp/detect/data/CharacterExistenceFeature$64.tsv',\n",
       " '../../../../tmp/detect/data/CharacterExistenceFeature$91.tsv',\n",
       " '../../../../tmp/detect/data/CharacterExistenceFeature$92.tsv',\n",
       " '../../../../tmp/detect/data/CharacterExistenceFeature$93.tsv',\n",
       " '../../../../tmp/detect/data/CharacterExistenceFeature$94.tsv',\n",
       " '../../../../tmp/detect/data/CharacterExistenceFeature$95.tsv',\n",
       " '../../../../tmp/detect/data/CharacterExistenceFeature$96.tsv',\n",
       " '../../../../tmp/detect/data/ContextCoherenceFeature$bigram.tsv',\n",
       " '../../../../tmp/detect/data/ContextCoherenceFeature$fivegram.tsv',\n",
       " '../../../../tmp/detect/data/ContextCoherenceFeature$fourgram.tsv',\n",
       " '../../../../tmp/detect/data/ContextCoherenceFeature$trigram.tsv',\n",
       " '../../../../tmp/detect/data/WordValidityFeature.tsv']"
      ]
     },
     "execution_count": 142,
     "metadata": {},
     "output_type": "execute_result"
    }
   ],
   "source": [
    "PROJECT_ROOT_PATH = '../../../..'\n",
    "TEMP_PATH = PROJECT_ROOT_PATH + '/tmp'\n",
    "DATA_PATH = TEMP_PATH + '/detect/data'\n",
    "\n",
    "WORDS_TRAIN_PATH = DATA_PATH + '/words.train.tsv'\n",
    "WORDS_TEST_PATH = DATA_PATH + '/words.test.tsv'\n",
    "LABELS_TRAIN_PATH = DATA_PATH + '/labels.train.tsv'\n",
    "LABELS_TEST_PATH = DATA_PATH + '/labels.test.tsv'\n",
    "\n",
    "import glob\n",
    "FEATURES_TEST_PATH = sorted(glob.glob(DATA_PATH + \"/*Feature*\"))\n",
    "FEATURES_TEST_PATH"
   ]
  },
  {
   "cell_type": "markdown",
   "metadata": {},
   "source": [
    "## Data"
   ]
  },
  {
   "cell_type": "code",
   "execution_count": 138,
   "metadata": {
    "collapsed": false
   },
   "outputs": [],
   "source": [
    "import csv\n",
    "import pandas as pd\n",
    "\n",
    "def read_words(path):\n",
    "    col_names = [\"w-4\", \"w-3\", \"w-2\", \"w-1\", \"w\", \"w+1\", \"w+2\", \"w+3\", \"pos\"]\n",
    "    return pd.read_table(open(path, 'r'),\n",
    "                         header=None,\n",
    "                         quoting=csv.QUOTE_NONE,\n",
    "                         names=col_names,\n",
    "                        )\n",
    "\n",
    "def read_vals(path, name=None):\n",
    "    return pd.read_table(open(path, 'r'),\n",
    "                         header=None,\n",
    "                         names=[name],\n",
    "                        )\n",
    "\n",
    "def read_labels(path):\n",
    "    return read_vals(path, 'label')\n",
    "\n",
    "def read_feat_vals(path):\n",
    "    name = path[path[:-4].rfind('.') + 1:-4]\n",
    "    return read_vals(path, name)\n",
    "\n",
    "def read_feats(paths):\n",
    "    feats_vals = [read_feat_vals(p) for p in paths]\n",
    "    return pd.concat(feats_vals, axis=1)\n",
    "\n",
    "WORDS_TRAIN = read_words(WORDS_TRAIN_PATH)\n",
    "WORDS_TEST  = read_words(WORDS_TEST_PATH)\n",
    "LABELS_TRAIN = read_labels(LABELS_TRAIN_PATH)\n",
    "LABELS_TEST  = read_labels(LABELS_TEST_PATH)\n",
    "\n",
    "feats = read_feats(FEATURES_TEST_PATH)\n",
    "FEATS_TRAIN = feats[:WORDS_TRAIN.shape[0]]\n",
    "FEATS_TEST = feats[WORDS_TRAIN.shape[0]:]\n",
    "feats = None"
   ]
  },
  {
   "cell_type": "markdown",
   "metadata": {},
   "source": [
    "## Training"
   ]
  },
  {
   "cell_type": "code",
   "execution_count": 155,
   "metadata": {
    "collapsed": false
   },
   "outputs": [
    {
     "name": "stdout",
     "output_type": "stream",
     "text": [
      "DecisionTreeClassifier... TRAINED (DecisionTreeClassifier.pkl)\n"
     ]
    }
   ],
   "source": [
    "import os\n",
    "import shutil\n",
    "from sklearn import tree\n",
    "from sklearn.externals import joblib\n",
    "import sys\n",
    "\n",
    "FORCE_RETRAIN = True\n",
    "MODEL_PATH = TEMP_PATH + '/detect/model'\n",
    "MODELS = [\n",
    "    tree.DecisionTreeClassifier()\n",
    "]\n",
    "\n",
    "def get_name(clf):\n",
    "    return type(clf).__name__\n",
    "\n",
    "def get_pkl_path(clf):\n",
    "    return MODEL_PATH + '/' + '%s.pkl' % type(clf).__name__\n",
    "\n",
    "if FORCE_RETRAIN:\n",
    "    shutil.rmtree(MODEL_PATH)\n",
    "if not os.path.exists(MODEL_PATH):\n",
    "    os.makedirs(MODEL_PATH)\n",
    "for clf in MODELS:\n",
    "    sys.stdout.write(get_name(clf) + '... ')\n",
    "    pkl_path = get_pkl_path(clf)\n",
    "    if not os.path.exists(pkl_path):\n",
    "        clf.fit(FEATS_TRAIN, LABELS_TRAIN)\n",
    "        joblib.dump(clf, pkl_path, compress=9)\n",
    "        print('TRAINED (%s)' % os.path.basename(pkl_path))\n",
    "    else:\n",
    "        print('SKIP')"
   ]
  },
  {
   "cell_type": "code",
   "execution_count": 156,
   "metadata": {
    "collapsed": false
   },
   "outputs": [
    {
     "name": "stdout",
     "output_type": "stream",
     "text": [
      "DecisionTreeClassifier         0.980433\n"
     ]
    }
   ],
   "source": [
    "from sklearn import metrics\n",
    "from sklearn.externals import joblib\n",
    "\n",
    "for clf in MODELS:\n",
    "    clf = joblib.load(get_pkl_path(clf))\n",
    "    preds = clf.predict(FEATS_TEST)\n",
    "    acc = metrics.accuracy_score(LABELS_TEST, preds)\n",
    "    print('%-30s %.6f' % (get_name(clf), acc))"
   ]
  }
 ],
 "metadata": {
  "kernelspec": {
   "display_name": "Python 3",
   "language": "python",
   "name": "python3"
  },
  "language_info": {
   "codemirror_mode": {
    "name": "ipython",
    "version": 3
   },
   "file_extension": ".py",
   "mimetype": "text/x-python",
   "name": "python",
   "nbconvert_exporter": "python",
   "pygments_lexer": "ipython3",
   "version": "3.6.0"
  }
 },
 "nbformat": 4,
 "nbformat_minor": 2
}
