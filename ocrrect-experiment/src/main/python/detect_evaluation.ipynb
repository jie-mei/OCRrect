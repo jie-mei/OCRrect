{
 "cells": [
  {
   "cell_type": "markdown",
   "metadata": {},
   "source": [
    "## Resources"
   ]
  },
  {
   "cell_type": "code",
   "execution_count": 142,
   "metadata": {
    "collapsed": true
   },
   "outputs": [
    {
     "data": {
      "text/plain": [
       "['../../../../tmp/detect/data/ApproximateContextCoherenceFeature$bigram.tsv',\n",
       " '../../../../tmp/detect/data/ApproximateContextCoherenceFeature$fivegram.tsv',\n",
       " '../../../../tmp/detect/data/ApproximateContextCoherenceFeature$fourgram.tsv',\n",
       " '../../../../tmp/detect/data/ApproximateContextCoherenceFeature$trigram.tsv',\n",
       " '../../../../tmp/detect/data/CharacterExistenceFeature$123.tsv',\n",
       " '../../../../tmp/detect/data/CharacterExistenceFeature$124.tsv',\n",
       " '../../../../tmp/detect/data/CharacterExistenceFeature$125.tsv',\n",
       " '../../../../tmp/detect/data/CharacterExistenceFeature$126.tsv',\n",
       " '../../../../tmp/detect/data/CharacterExistenceFeature$127.tsv',\n",
       " '../../../../tmp/detect/data/CharacterExistenceFeature$32.tsv',\n",
       " '../../../../tmp/detect/data/CharacterExistenceFeature$33.tsv',\n",
       " '../../../../tmp/detect/data/CharacterExistenceFeature$34.tsv',\n",
       " '../../../../tmp/detect/data/CharacterExistenceFeature$35.tsv',\n",
       " '../../../../tmp/detect/data/CharacterExistenceFeature$36.tsv',\n",
       " '../../../../tmp/detect/data/CharacterExistenceFeature$37.tsv',\n",
       " '../../../../tmp/detect/data/CharacterExistenceFeature$38.tsv',\n",
       " '../../../../tmp/detect/data/CharacterExistenceFeature$39.tsv',\n",
       " '../../../../tmp/detect/data/CharacterExistenceFeature$40.tsv',\n",
       " '../../../../tmp/detect/data/CharacterExistenceFeature$41.tsv',\n",
       " '../../../../tmp/detect/data/CharacterExistenceFeature$42.tsv',\n",
       " '../../../../tmp/detect/data/CharacterExistenceFeature$43.tsv',\n",
       " '../../../../tmp/detect/data/CharacterExistenceFeature$44.tsv',\n",
       " '../../../../tmp/detect/data/CharacterExistenceFeature$45.tsv',\n",
       " '../../../../tmp/detect/data/CharacterExistenceFeature$46.tsv',\n",
       " '../../../../tmp/detect/data/CharacterExistenceFeature$47.tsv',\n",
       " '../../../../tmp/detect/data/CharacterExistenceFeature$59.tsv',\n",
       " '../../../../tmp/detect/data/CharacterExistenceFeature$60.tsv',\n",
       " '../../../../tmp/detect/data/CharacterExistenceFeature$61.tsv',\n",
       " '../../../../tmp/detect/data/CharacterExistenceFeature$62.tsv',\n",
       " '../../../../tmp/detect/data/CharacterExistenceFeature$63.tsv',\n",
       " '../../../../tmp/detect/data/CharacterExistenceFeature$64.tsv',\n",
       " '../../../../tmp/detect/data/CharacterExistenceFeature$91.tsv',\n",
       " '../../../../tmp/detect/data/CharacterExistenceFeature$92.tsv',\n",
       " '../../../../tmp/detect/data/CharacterExistenceFeature$93.tsv',\n",
       " '../../../../tmp/detect/data/CharacterExistenceFeature$94.tsv',\n",
       " '../../../../tmp/detect/data/CharacterExistenceFeature$95.tsv',\n",
       " '../../../../tmp/detect/data/CharacterExistenceFeature$96.tsv',\n",
       " '../../../../tmp/detect/data/ContextCoherenceFeature$bigram.tsv',\n",
       " '../../../../tmp/detect/data/ContextCoherenceFeature$fivegram.tsv',\n",
       " '../../../../tmp/detect/data/ContextCoherenceFeature$fourgram.tsv',\n",
       " '../../../../tmp/detect/data/ContextCoherenceFeature$trigram.tsv',\n",
       " '../../../../tmp/detect/data/WordValidityFeature.tsv']"
      ]
     },
     "execution_count": 142,
     "metadata": {},
     "output_type": "execute_result"
    }
   ],
   "source": [
    "PROJECT_ROOT_PATH = '../../../..'\n",
    "TEMP_PATH = PROJECT_ROOT_PATH + '/tmp'\n",
    "DATA_PATH = TEMP_PATH + '/detect/data'\n",
    "\n",
    "WORDS_TRAIN_PATH = DATA_PATH + '/words.train.tsv'\n",
    "WORDS_TEST_PATH = DATA_PATH + '/words.test.tsv'\n",
    "LABELS_TRAIN_PATH = DATA_PATH + '/labels.train.tsv'\n",
    "LABELS_TEST_PATH = DATA_PATH + '/labels.test.tsv'\n",
    "\n",
    "import glob\n",
    "FEATURES_TEST_PATH = sorted(glob.glob(DATA_PATH + \"/*Feature*\"))\n",
    "FEATURES_TEST_PATH"
   ]
  },
  {
   "cell_type": "markdown",
   "metadata": {},
   "source": [
    "## Data"
   ]
  },
  {
   "cell_type": "code",
   "execution_count": 202,
   "metadata": {
    "collapsed": false
   },
   "outputs": [],
   "source": [
    "import csv\n",
    "import pandas as pd\n",
    "\n",
    "def read_words(path):\n",
    "    col_names = [\"w-4\", \"w-3\", \"w-2\", \"w-1\", \"w\", \"w+1\", \"w+2\", \"w+3\", \"pos\"]\n",
    "    return pd.read_table(open(path, 'r'),\n",
    "                         header=None,\n",
    "                         quoting=csv.QUOTE_NONE,\n",
    "                         names=col_names,\n",
    "                        )\n",
    "\n",
    "def read_vals(path, name=None):\n",
    "    return pd.read_table(open(path, 'r'),\n",
    "                         header=None,\n",
    "                         names=[name],\n",
    "                        )\n",
    "\n",
    "def read_labels(path):\n",
    "    return read_vals(path, 'label')\n",
    "\n",
    "def read_feat_vals(path):\n",
    "    name = path[path[:-4].rfind('/') + 1:-4]\n",
    "    return read_vals(path, name)\n",
    "\n",
    "def read_feats(paths):\n",
    "    feats_vals = [read_feat_vals(p) for p in paths]\n",
    "    return pd.concat(feats_vals, axis=1)\n",
    "\n",
    "WORDS_TRAIN = read_words(WORDS_TRAIN_PATH)\n",
    "WORDS_TEST  = read_words(WORDS_TEST_PATH)\n",
    "LABELS_TRAIN = read_labels(LABELS_TRAIN_PATH)\n",
    "LABELS_TEST  = read_labels(LABELS_TEST_PATH)\n",
    "\n",
    "feats = read_feats(FEATURES_TEST_PATH)\n",
    "FEATS_TRAIN = feats[:WORDS_TRAIN.shape[0]]\n",
    "FEATS_TEST = feats[WORDS_TRAIN.shape[0]:]\n",
    "feats = None"
   ]
  },
  {
   "cell_type": "markdown",
   "metadata": {
    "deletable": true,
    "editable": true
   },
   "source": [
    "## Evaluation"
   ]
  },
  {
   "cell_type": "code",
   "execution_count": 285,
   "metadata": {
    "collapsed": false
   },
   "outputs": [],
   "source": [
    "import os\n",
    "import shutil\n",
    "from sklearn import metrics\n",
    "from sklearn.externals import joblib\n",
    "import sys\n",
    "import time\n",
    "\n",
    "FORCE_RETRAIN = False\n",
    "MODEL_PATH = TEMP_PATH + '/detect/model'\n",
    "\n",
    "def get_pkl_path(name):\n",
    "    return MODEL_PATH + '/' + '%s.pkl' % name\n",
    "\n",
    "def train(models, retrain=False):\n",
    "    if FORCE_RETRAIN:\n",
    "        shutil.rmtree(MODEL_PATH)\n",
    "    if not os.path.exists(MODEL_PATH):\n",
    "        os.makedirs(MODEL_PATH)\n",
    "    for (name, clf) in models:\n",
    "        sys.stdout.write('%-30s ..... ' % name)\n",
    "        pkl_path = get_pkl_path(name)\n",
    "        if not os.path.exists(pkl_path):\n",
    "            str_time = time.time()\n",
    "            clf.fit(FEATS_TRAIN, LABELS_TRAIN.as_matrix().ravel())\n",
    "            elapsed_time = (time.time() - str_time)\n",
    "            joblib.dump(clf, pkl_path, compress=9)\n",
    "            print('TRAINED (%.3f seconds)' % elapsed_time)\n",
    "        else:\n",
    "            print('SKIPPED') \n",
    "\n",
    "def test(models):\n",
    "    for (name, _) in models:\n",
    "        clf = joblib.load(get_pkl_path(name))\n",
    "        preds = clf.predict(FEATS_TEST)\n",
    "        acc = metrics.accuracy_score(LABELS_TEST, preds)\n",
    "        print('%-30s ..... %.6f' % (name, acc))\n",
    "\n",
    "def get_clf(name):\n",
    "    return joblib.load(get_pkl_path(name))"
   ]
  },
  {
   "cell_type": "markdown",
   "metadata": {
    "deletable": true,
    "editable": true
   },
   "source": [
    "### Evalutaion: Models without Optimization"
   ]
  },
  {
   "cell_type": "code",
   "execution_count": 306,
   "metadata": {
    "collapsed": true,
    "deletable": true,
    "editable": true
   },
   "outputs": [],
   "source": [
    "from sklearn import ensemble\n",
    "from sklearn import feature_selection\n",
    "from sklearn import neural_network\n",
    "from sklearn import neighbors\n",
    "from sklearn import pipeline\n",
    "from sklearn import tree\n",
    "from sklearn import svm\n",
    "\n",
    "MODELS_NO_OPT = [\n",
    "    ['DTree', tree.DecisionTreeClassifier()],\n",
    "    ['MLP', neural_network.MLPClassifier()],\n",
    "    ['KNN', neighbors.KNeighborsClassifier()],\n",
    "    ['RF', ensemble.RandomForestClassifier()],\n",
    "    ['AdaBoost', ensemble.AdaBoostClassifier()],\n",
    "    ['ETree', ensemble.ExtraTreesClassifier()],\n",
    "    ['GradBoost', ensemble.GradientBoostingClassifier()],\n",
    "    ['svc', svm.SVC()],\n",
    "]"
   ]
  },
  {
   "cell_type": "code",
   "execution_count": 307,
   "metadata": {
    "collapsed": false
   },
   "outputs": [
    {
     "name": "stdout",
     "output_type": "stream",
     "text": [
      "DTree                          ..... SKIPPED\n",
      "MLP                            ..... SKIPPED\n",
      "KNN                            ..... SKIPPED\n",
      "RF                             ..... SKIPPED\n",
      "AdaBoost                       ..... SKIPPED\n",
      "ETree                          ..... SKIPPED\n",
      "GradBoost                      ..... SKIPPED\n",
      "svc                            ..... TRAINED (210.140 seconds)\n"
     ]
    }
   ],
   "source": [
    "train(MODELS_NO_OPT)"
   ]
  },
  {
   "cell_type": "code",
   "execution_count": 314,
   "metadata": {
    "collapsed": false
   },
   "outputs": [
    {
     "name": "stdout",
     "output_type": "stream",
     "text": [
      "DTree                          ..... 0.980810\n",
      "MLP                            ..... 0.983551\n",
      "KNN                            ..... 0.983874\n",
      "RF                             ..... 0.983981\n",
      "AdaBoost                       ..... 0.983336\n",
      "ETree                          ..... 0.984196\n",
      "GradBoost                      ..... 0.984035\n",
      "svc                            ..... 0.983444\n"
     ]
    }
   ],
   "source": [
    "test(MODELS_NO_OPT)"
   ]
  },
  {
   "cell_type": "markdown",
   "metadata": {},
   "source": [
    "## Evalutaion: Tree-Based Feature Selection"
   ]
  },
  {
   "cell_type": "code",
   "execution_count": 295,
   "metadata": {
    "collapsed": false
   },
   "outputs": [],
   "source": [
    "import numpy as np\n",
    "import matplotlib.pyplot as plt\n",
    "\n",
    "def eval_feat_importances(clf):\n",
    "    importances = clf.feature_importances_\n",
    "    std = np.std([tree.feature_importances_ for tree in clf.estimators_], axis=0)\n",
    "    indices = np.argsort(importances)[::-1]\n",
    "    \n",
    "    print(type(clf).__name__)\n",
    "    print()\n",
    "    \n",
    "    print(sum(importances) / FEATS_TEST.shape[1])\n",
    "\n",
    "    # Plot importance\n",
    "    plt.figure(figsize=(14,5))\n",
    "    plt.title('Tree-based feature importances')\n",
    "    plt.bar(range(FEATS_TRAIN.shape[1]), importances[indices],\n",
    "           color=\"r\", yerr=std[indices], align=\"center\")\n",
    "    plt.xticks(range(FEATS_TRAIN.shape[1]), indices)\n",
    "    plt.xlim([-1, FEATS_TRAIN.shape[1]])\n",
    "    plt.show()\n",
    "\n",
    "    # Print importance rank\n",
    "    print(\"Feature ranking:\")\n",
    "    for f in range(FEATS_TRAIN.shape[1]):\n",
    "        print(\"%2d. %-50s (%f)\"\n",
    "              % (f + 1, FEATS_TRAIN.columns[indices[f]], importances[indices[f]]))\n",
    "        \n",
    "def get_mean_importance(clf):\n",
    "    importances = clf.feature_importances_\n",
    "    return sum(importances) / FEATS_TEST.shape[1]"
   ]
  },
  {
   "cell_type": "code",
   "execution_count": 293,
   "metadata": {
    "collapsed": true
   },
   "outputs": [
    {
     "name": "stdout",
     "output_type": "stream",
     "text": [
      "RandomForestClassifier\n",
      "\n",
      "0.0238095238095\n"
     ]
    },
    {
     "data": {
      "image/png": "[encoded data removed]",
      "text/plain": [
       "<matplotlib.figure.Figure at 0x7fcd71264cf8>"
      ]
     },
     "metadata": {},
     "output_type": "display_data"
    },
    {
     "name": "stdout",
     "output_type": "stream",
     "text": [
      "Feature ranking:\n",
      " 1. WordValidityFeature                                (0.325780)\n",
      " 2. ApproximateContextCoherenceFeature$trigram         (0.200525)\n",
      " 3. ApproximateContextCoherenceFeature$bigram          (0.102877)\n",
      " 4. ContextCoherenceFeature$bigram                     (0.082887)\n",
      " 5. CharacterExistenceFeature$39                       (0.072323)\n",
      " 6. ApproximateContextCoherenceFeature$fourgram        (0.055910)\n",
      " 7. CharacterExistenceFeature$125                      (0.051472)\n",
      " 8. ContextCoherenceFeature$trigram                    (0.030419)\n",
      " 9. CharacterExistenceFeature$94                       (0.029422)\n",
      "10. ContextCoherenceFeature$fourgram                   (0.010717)\n",
      "11. CharacterExistenceFeature$45                       (0.010660)\n",
      "12. ApproximateContextCoherenceFeature$fivegram        (0.006682)\n",
      "13. CharacterExistenceFeature$47                       (0.004110)\n",
      "14. CharacterExistenceFeature$92                       (0.003240)\n",
      "15. CharacterExistenceFeature$41                       (0.002926)\n",
      "16. CharacterExistenceFeature$46                       (0.002325)\n",
      "17. CharacterExistenceFeature$44                       (0.001260)\n",
      "18. CharacterExistenceFeature$95                       (0.001210)\n",
      "19. CharacterExistenceFeature$40                       (0.001107)\n",
      "20. CharacterExistenceFeature$34                       (0.000858)\n",
      "21. ContextCoherenceFeature$fivegram                   (0.000750)\n",
      "22. CharacterExistenceFeature$63                       (0.000715)\n",
      "23. CharacterExistenceFeature$59                       (0.000519)\n",
      "24. CharacterExistenceFeature$37                       (0.000415)\n",
      "25. CharacterExistenceFeature$38                       (0.000227)\n",
      "26. CharacterExistenceFeature$42                       (0.000222)\n",
      "27. CharacterExistenceFeature$33                       (0.000200)\n",
      "28. CharacterExistenceFeature$62                       (0.000118)\n",
      "29. CharacterExistenceFeature$124                      (0.000057)\n",
      "30. CharacterExistenceFeature$60                       (0.000030)\n",
      "31. CharacterExistenceFeature$93                       (0.000018)\n",
      "32. CharacterExistenceFeature$123                      (0.000016)\n",
      "33. CharacterExistenceFeature$36                       (0.000001)\n",
      "34. CharacterExistenceFeature$61                       (0.000000)\n",
      "35. CharacterExistenceFeature$35                       (0.000000)\n",
      "36. CharacterExistenceFeature$32                       (0.000000)\n",
      "37. CharacterExistenceFeature$127                      (0.000000)\n",
      "38. CharacterExistenceFeature$126                      (0.000000)\n",
      "39. CharacterExistenceFeature$64                       (0.000000)\n",
      "40. CharacterExistenceFeature$91                       (0.000000)\n",
      "41. CharacterExistenceFeature$96                       (0.000000)\n",
      "42. CharacterExistenceFeature$43                       (0.000000)\n"
     ]
    }
   ],
   "source": [
    "eval_feat_importances(get_clf('RF'))"
   ]
  },
  {
   "cell_type": "code",
   "execution_count": 294,
   "metadata": {
    "collapsed": true
   },
   "outputs": [
    {
     "name": "stdout",
     "output_type": "stream",
     "text": [
      "AdaBoostClassifier\n",
      "\n",
      "0.0238095238095\n"
     ]
    },
    {
     "data": {
      "image/png": "[encoded data removed]",
      "text/plain": [
       "<matplotlib.figure.Figure at 0x7fcd70f93fd0>"
      ]
     },
     "metadata": {},
     "output_type": "display_data"
    },
    {
     "name": "stdout",
     "output_type": "stream",
     "text": [
      "Feature ranking:\n",
      " 1. ContextCoherenceFeature$trigram                    (0.180000)\n",
      " 2. ApproximateContextCoherenceFeature$trigram         (0.160000)\n",
      " 3. WordValidityFeature                                (0.100000)\n",
      " 4. ApproximateContextCoherenceFeature$fourgram        (0.100000)\n",
      " 5. ContextCoherenceFeature$fourgram                   (0.080000)\n",
      " 6. ApproximateContextCoherenceFeature$bigram          (0.060000)\n",
      " 7. ContextCoherenceFeature$bigram                     (0.060000)\n",
      " 8. ApproximateContextCoherenceFeature$fivegram        (0.040000)\n",
      " 9. ContextCoherenceFeature$fivegram                   (0.040000)\n",
      "10. CharacterExistenceFeature$45                       (0.040000)\n",
      "11. CharacterExistenceFeature$44                       (0.020000)\n",
      "12. CharacterExistenceFeature$39                       (0.020000)\n",
      "13. CharacterExistenceFeature$94                       (0.020000)\n",
      "14. CharacterExistenceFeature$125                      (0.020000)\n",
      "15. CharacterExistenceFeature$34                       (0.020000)\n",
      "16. CharacterExistenceFeature$47                       (0.020000)\n",
      "17. CharacterExistenceFeature$46                       (0.020000)\n",
      "18. CharacterExistenceFeature$95                       (0.000000)\n",
      "19. CharacterExistenceFeature$35                       (0.000000)\n",
      "20. CharacterExistenceFeature$33                       (0.000000)\n",
      "21. CharacterExistenceFeature$32                       (0.000000)\n",
      "22. CharacterExistenceFeature$37                       (0.000000)\n",
      "23. CharacterExistenceFeature$127                      (0.000000)\n",
      "24. CharacterExistenceFeature$126                      (0.000000)\n",
      "25. CharacterExistenceFeature$124                      (0.000000)\n",
      "26. CharacterExistenceFeature$123                      (0.000000)\n",
      "27. CharacterExistenceFeature$36                       (0.000000)\n",
      "28. CharacterExistenceFeature$40                       (0.000000)\n",
      "29. CharacterExistenceFeature$38                       (0.000000)\n",
      "30. CharacterExistenceFeature$41                       (0.000000)\n",
      "31. CharacterExistenceFeature$42                       (0.000000)\n",
      "32. CharacterExistenceFeature$96                       (0.000000)\n",
      "33. CharacterExistenceFeature$59                       (0.000000)\n",
      "34. CharacterExistenceFeature$60                       (0.000000)\n",
      "35. CharacterExistenceFeature$61                       (0.000000)\n",
      "36. CharacterExistenceFeature$62                       (0.000000)\n",
      "37. CharacterExistenceFeature$63                       (0.000000)\n",
      "38. CharacterExistenceFeature$64                       (0.000000)\n",
      "39. CharacterExistenceFeature$91                       (0.000000)\n",
      "40. CharacterExistenceFeature$92                       (0.000000)\n",
      "41. CharacterExistenceFeature$93                       (0.000000)\n",
      "42. CharacterExistenceFeature$43                       (0.000000)\n"
     ]
    }
   ],
   "source": [
    "eval_feat_importances(get_clf('AdaBoost'))"
   ]
  },
  {
   "cell_type": "code",
   "execution_count": 305,
   "metadata": {
    "collapsed": true,
    "deletable": true,
    "editable": true
   },
   "outputs": [
    {
     "name": "stdout",
     "output_type": "stream",
     "text": [
      "ExtraTreesClassifier\n",
      "\n",
      "0.0238095238095\n"
     ]
    },
    {
     "data": {
      "image/png": "[encoded data removed]",
      "text/plain": [
       "<matplotlib.figure.Figure at 0x7fcd71264e48>"
      ]
     },
     "metadata": {},
     "output_type": "display_data"
    },
    {
     "name": "stdout",
     "output_type": "stream",
     "text": [
      "Feature ranking:\n",
      " 1. WordValidityFeature                                (0.484715)\n",
      " 2. ApproximateContextCoherenceFeature$bigram          (0.098709)\n",
      " 3. ApproximateContextCoherenceFeature$trigram         (0.081648)\n",
      " 4. ContextCoherenceFeature$bigram                     (0.077856)\n",
      " 5. CharacterExistenceFeature$39                       (0.069700)\n",
      " 6. CharacterExistenceFeature$125                      (0.047400)\n",
      " 7. ApproximateContextCoherenceFeature$fourgram        (0.033016)\n",
      " 8. CharacterExistenceFeature$45                       (0.024407)\n",
      " 9. ContextCoherenceFeature$trigram                    (0.022647)\n",
      "10. ApproximateContextCoherenceFeature$fivegram        (0.015885)\n",
      "11. CharacterExistenceFeature$94                       (0.012934)\n",
      "12. CharacterExistenceFeature$47                       (0.010899)\n",
      "13. ContextCoherenceFeature$fourgram                   (0.004977)\n",
      "14. CharacterExistenceFeature$92                       (0.002671)\n",
      "15. CharacterExistenceFeature$41                       (0.002615)\n",
      "16. ContextCoherenceFeature$fivegram                   (0.002508)\n",
      "17. CharacterExistenceFeature$46                       (0.001798)\n",
      "18. CharacterExistenceFeature$95                       (0.001031)\n",
      "19. CharacterExistenceFeature$34                       (0.000908)\n",
      "20. CharacterExistenceFeature$63                       (0.000724)\n",
      "21. CharacterExistenceFeature$40                       (0.000686)\n",
      "22. CharacterExistenceFeature$59                       (0.000482)\n",
      "23. CharacterExistenceFeature$37                       (0.000425)\n",
      "24. CharacterExistenceFeature$42                       (0.000382)\n",
      "25. CharacterExistenceFeature$44                       (0.000319)\n",
      "26. CharacterExistenceFeature$38                       (0.000205)\n",
      "27. CharacterExistenceFeature$124                      (0.000138)\n",
      "28. CharacterExistenceFeature$33                       (0.000125)\n",
      "29. CharacterExistenceFeature$123                      (0.000085)\n",
      "30. CharacterExistenceFeature$62                       (0.000058)\n",
      "31. CharacterExistenceFeature$93                       (0.000020)\n",
      "32. CharacterExistenceFeature$60                       (0.000016)\n",
      "33. CharacterExistenceFeature$36                       (0.000011)\n",
      "34. CharacterExistenceFeature$96                       (0.000000)\n",
      "35. CharacterExistenceFeature$91                       (0.000000)\n",
      "36. CharacterExistenceFeature$127                      (0.000000)\n",
      "37. CharacterExistenceFeature$64                       (0.000000)\n",
      "38. CharacterExistenceFeature$126                      (0.000000)\n",
      "39. CharacterExistenceFeature$32                       (0.000000)\n",
      "40. CharacterExistenceFeature$35                       (0.000000)\n",
      "41. CharacterExistenceFeature$61                       (0.000000)\n",
      "42. CharacterExistenceFeature$43                       (0.000000)\n"
     ]
    }
   ],
   "source": [
    "eval_feat_importances(get_clf('ETree'))"
   ]
  },
  {
   "cell_type": "code",
   "execution_count": 330,
   "metadata": {
    "collapsed": false,
    "deletable": true,
    "editable": true
   },
   "outputs": [],
   "source": [
    "from sklearn import feature_selection\n",
    "\n",
    "MODELS_FEAT_OPT_TREE = [\n",
    "    ['SFM-RF.RF', pipeline.Pipeline([\n",
    "        ('SFM_RF', feature_selection.SelectFromModel(get_clf('RF'))),\n",
    "        ('RF', ensemble.RandomForestClassifier()),\n",
    "        ])\n",
    "    ],\n",
    "    ['SFM-RF-d5mean.RF', pipeline.Pipeline([\n",
    "        ('SFM_RF', feature_selection.SelectFromModel(\n",
    "            get_clf('RF'),\n",
    "            threshold=get_mean_importance(get_clf('RF')) * 0.5)),\n",
    "        ('RF', ensemble.RandomForestClassifier()),\n",
    "        ])\n",
    "    ],\n",
    "    ['SFM-RF-d1mean.RF', pipeline.Pipeline([\n",
    "        ('SFM_RF', feature_selection.SelectFromModel(\n",
    "            get_clf('RF'),\n",
    "            threshold=get_mean_importance(get_clf('RF')) * 0.1)),\n",
    "        ('RF', ensemble.RandomForestClassifier()),\n",
    "        ])\n",
    "    ],\n",
    "    ['SFM-AdaBoost.AdaBoost', pipeline.Pipeline([\n",
    "        ('SFM_AdaBoost', feature_selection.SelectFromModel(get_clf('AdaBoost'))),\n",
    "        ('AdaBoost', ensemble.AdaBoostClassifier()),\n",
    "        ])\n",
    "    ],\n",
    "    ['SFM-AdaBoost-d5mean.AdaBoost', pipeline.Pipeline([\n",
    "        ('SFM_AdaBoost', feature_selection.SelectFromModel(\n",
    "            get_clf('AdaBoost'),\n",
    "            threshold=get_mean_importance(get_clf('AdaBoost')) * 0.5)),\n",
    "        ('AdaBoost', ensemble.AdaBoostClassifier()),\n",
    "        ])\n",
    "    ],\n",
    "    ['SFM-AdaBoost-d1mean.AdaBoost', pipeline.Pipeline([\n",
    "        ('SFM_AdaBoost', feature_selection.SelectFromModel(\n",
    "            get_clf('AdaBoost'),\n",
    "            threshold=get_mean_importance(get_clf('AdaBoost')) * 0.1)),\n",
    "        ('AdaBoost', ensemble.AdaBoostClassifier()),\n",
    "        ])\n",
    "    ],\n",
    "    ['SFM-ETree.ETree', pipeline.Pipeline([\n",
    "        ('SFM_ETree', feature_selection.SelectFromModel(get_clf('ETree'))),\n",
    "        ('ETree', ensemble.ExtraTreesClassifier()),\n",
    "        ])\n",
    "    ],\n",
    "    ['SFM-ETree-d5mean.ETree', pipeline.Pipeline([\n",
    "        ('SFM_AdaBoost', feature_selection.SelectFromModel(\n",
    "            get_clf('ETree'),\n",
    "            threshold=get_mean_importance(get_clf('ETree')) * 0.5)),\n",
    "        ('ETree', ensemble.ExtraTreesClassifier()),\n",
    "        ])\n",
    "    ],\n",
    "    ['SFM-ETree-d1mean.ETree', pipeline.Pipeline([\n",
    "        ('SFM_AdaBoost', feature_selection.SelectFromModel(\n",
    "            get_clf('ETree'),\n",
    "            threshold=get_mean_importance(get_clf('ETree')) * 0.1)),\n",
    "        ('ETree', ensemble.ExtraTreesClassifier()),\n",
    "        ])\n",
    "    ],\n",
    "    ['RFECV-ETree', feature_selection.RFECV(\n",
    "        estimator=get_clf('ETree'),\n",
    "        cv=10,\n",
    "        scoring='accuracy')\n",
    "    ],\n",
    "    ['RFECV-ETree.ETree', pipeline.Pipeline([\n",
    "        ('SFM_ETree', feature_selection.RFECV(\n",
    "            estimator=get_clf('ETree'),\n",
    "            cv=10,\n",
    "            scoring='accuracy')),\n",
    "        ('ETree', ensemble.ExtraTreesClassifier()),\n",
    "        ])\n",
    "    ],\n",
    "]"
   ]
  },
  {
   "cell_type": "code",
   "execution_count": 322,
   "metadata": {
    "collapsed": false,
    "deletable": true,
    "editable": true
   },
   "outputs": [
    {
     "name": "stdout",
     "output_type": "stream",
     "text": [
      "SFM-RF.RF                      ..... SKIPPED\n",
      "SFM-RF-d5mean.RF               ..... SKIPPED\n",
      "SFM-RF-d1mean.RF               ..... SKIPPED\n",
      "SFM-AdaBoost.AdaBoost          ..... SKIPPED\n",
      "SFM-AdaBoost-d5mean.AdaBoost   ..... SKIPPED\n",
      "SFM-AdaBoost-d1mean.AdaBoost   ..... SKIPPED\n",
      "SFM-ETree.ETree                ..... SKIPPED\n",
      "SFM-ETree-d5mean.ETree         ..... SKIPPED\n",
      "SFM-ETree-d1mean.ETree         ..... SKIPPED\n",
      "SFM_ETree                      ..... TRAINED (156.875 seconds)\n",
      "RFECV-ETree.ETree              ..... SKIPPED\n"
     ]
    }
   ],
   "source": [
    "train(MODELS_FEAT_OPT_TREE)"
   ]
  },
  {
   "cell_type": "code",
   "execution_count": 323,
   "metadata": {
    "collapsed": false,
    "deletable": true,
    "editable": true
   },
   "outputs": [
    {
     "name": "stdout",
     "output_type": "stream",
     "text": [
      "SFM-RF.RF                      ..... 0.983874\n",
      "SFM-RF-d5mean.RF               ..... 0.984089\n",
      "SFM-RF-d1mean.RF               ..... 0.983659\n",
      "SFM-AdaBoost.AdaBoost          ..... 0.983229\n",
      "SFM-AdaBoost-d5mean.AdaBoost   ..... 0.983336\n",
      "SFM-AdaBoost-d1mean.AdaBoost   ..... 0.983336\n",
      "SFM-ETree.ETree                ..... 0.984250\n",
      "SFM-ETree-d5mean.ETree         ..... 0.984357\n",
      "SFM-ETree-d1mean.ETree         ..... 0.983874\n",
      "SFM_ETree                      ..... 0.984196\n",
      "RFECV-ETree.ETree              ..... 0.984357\n"
     ]
    }
   ],
   "source": [
    "test(MODELS_FEAT_OPT_TREE)"
   ]
  },
  {
   "cell_type": "code",
   "execution_count": 334,
   "metadata": {
    "collapsed": true
   },
   "outputs": [],
   "source": [
    "def eval_opt_feats(rfecv):\n",
    "    print(\"Optimal number of features : %d\" % rfecv.n_features_)\n",
    "\n",
    "    # Plot number of features VS. cross-validation scores\n",
    "    plt.figure()\n",
    "    plt.xlabel(\"Number of features selected\")\n",
    "    plt.ylabel(\"Cross validation score (nb of correct classifications)\")\n",
    "    plt.plot(range(1, len(rfecv.grid_scores_) + 1), rfecv.grid_scores_)\n",
    "    plt.show()\n",
    "    \n",
    "    for name, rank in zip(FEATS_TRAIN.columns, rfecv.ranking_):\n",
    "        print(name, rank)\n",
    "    "
   ]
  },
  {
   "cell_type": "code",
   "execution_count": 335,
   "metadata": {
    "collapsed": false
   },
   "outputs": [
    {
     "name": "stdout",
     "output_type": "stream",
     "text": [
      "Optimal number of features : 39\n"
     ]
    },
    {
     "data": {
      "image/png": "[encoded data removed]",
      "text/plain": [
       "<matplotlib.figure.Figure at 0x7fcd7116c1d0>"
      ]
     },
     "metadata": {},
     "output_type": "display_data"
    },
    {
     "name": "stdout",
     "output_type": "stream",
     "text": [
      "ApproximateContextCoherenceFeature$bigram 1\n",
      "ApproximateContextCoherenceFeature$fivegram 1\n",
      "ApproximateContextCoherenceFeature$fourgram 1\n",
      "ApproximateContextCoherenceFeature$trigram 1\n",
      "CharacterExistenceFeature$123 1\n",
      "CharacterExistenceFeature$124 1\n",
      "CharacterExistenceFeature$125 1\n",
      "CharacterExistenceFeature$126 1\n",
      "CharacterExistenceFeature$127 1\n",
      "CharacterExistenceFeature$32 3\n",
      "CharacterExistenceFeature$33 1\n",
      "CharacterExistenceFeature$34 1\n",
      "CharacterExistenceFeature$35 1\n",
      "CharacterExistenceFeature$36 1\n",
      "CharacterExistenceFeature$37 1\n",
      "CharacterExistenceFeature$38 1\n",
      "CharacterExistenceFeature$39 1\n",
      "CharacterExistenceFeature$40 1\n",
      "CharacterExistenceFeature$41 1\n",
      "CharacterExistenceFeature$42 1\n",
      "CharacterExistenceFeature$43 4\n",
      "CharacterExistenceFeature$44 1\n",
      "CharacterExistenceFeature$45 1\n",
      "CharacterExistenceFeature$46 1\n",
      "CharacterExistenceFeature$47 1\n",
      "CharacterExistenceFeature$59 1\n",
      "CharacterExistenceFeature$60 1\n",
      "CharacterExistenceFeature$61 1\n",
      "CharacterExistenceFeature$62 1\n",
      "CharacterExistenceFeature$63 1\n",
      "CharacterExistenceFeature$64 1\n",
      "CharacterExistenceFeature$91 1\n",
      "CharacterExistenceFeature$92 1\n",
      "CharacterExistenceFeature$93 1\n",
      "CharacterExistenceFeature$94 1\n",
      "CharacterExistenceFeature$95 1\n",
      "CharacterExistenceFeature$96 2\n",
      "ContextCoherenceFeature$bigram 1\n",
      "ContextCoherenceFeature$fivegram 1\n",
      "ContextCoherenceFeature$fourgram 1\n",
      "ContextCoherenceFeature$trigram 1\n",
      "WordValidityFeature 1\n"
     ]
    }
   ],
   "source": [
    "eval_opt_feats(get_clf('RFECV-ETree'))"
   ]
  }
 ],
 "metadata": {
  "kernelspec": {
   "display_name": "Python 3",
   "language": "python",
   "name": "python3"
  },
  "language_info": {
   "codemirror_mode": {
    "name": "ipython",
    "version": 3
   },
   "file_extension": ".py",
   "mimetype": "text/x-python",
   "name": "python",
   "nbconvert_exporter": "python",
   "pygments_lexer": "ipython3",
   "version": "3.6.0"
  }
 },
 "nbformat": 4,
 "nbformat_minor": 2
}
