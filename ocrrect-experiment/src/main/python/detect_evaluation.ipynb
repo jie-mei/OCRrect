{
 "cells": [
  {
   "cell_type": "markdown",
   "metadata": {
    "deletable": true,
    "editable": true
   },
   "source": [
    "## Resources"
   ]
  },
  {
   "cell_type": "code",
   "execution_count": 1,
   "metadata": {
    "collapsed": true,
    "deletable": true,
    "editable": true
   },
   "outputs": [
    {
     "data": {
      "text/plain": [
       "['../../../../tmp/detect/data/ApproximateContextCoherenceFeature$bigram.tsv',\n",
       " '../../../../tmp/detect/data/ApproximateContextCoherenceFeature$fivegram.tsv',\n",
       " '../../../../tmp/detect/data/ApproximateContextCoherenceFeature$fourgram.tsv',\n",
       " '../../../../tmp/detect/data/ApproximateContextCoherenceFeature$trigram.tsv',\n",
       " '../../../../tmp/detect/data/CharacterExistenceFeature$123.tsv',\n",
       " '../../../../tmp/detect/data/CharacterExistenceFeature$124.tsv',\n",
       " '../../../../tmp/detect/data/CharacterExistenceFeature$125.tsv',\n",
       " '../../../../tmp/detect/data/CharacterExistenceFeature$126.tsv',\n",
       " '../../../../tmp/detect/data/CharacterExistenceFeature$127.tsv',\n",
       " '../../../../tmp/detect/data/CharacterExistenceFeature$32.tsv',\n",
       " '../../../../tmp/detect/data/CharacterExistenceFeature$33.tsv',\n",
       " '../../../../tmp/detect/data/CharacterExistenceFeature$34.tsv',\n",
       " '../../../../tmp/detect/data/CharacterExistenceFeature$35.tsv',\n",
       " '../../../../tmp/detect/data/CharacterExistenceFeature$36.tsv',\n",
       " '../../../../tmp/detect/data/CharacterExistenceFeature$37.tsv',\n",
       " '../../../../tmp/detect/data/CharacterExistenceFeature$38.tsv',\n",
       " '../../../../tmp/detect/data/CharacterExistenceFeature$39.tsv',\n",
       " '../../../../tmp/detect/data/CharacterExistenceFeature$40.tsv',\n",
       " '../../../../tmp/detect/data/CharacterExistenceFeature$41.tsv',\n",
       " '../../../../tmp/detect/data/CharacterExistenceFeature$42.tsv',\n",
       " '../../../../tmp/detect/data/CharacterExistenceFeature$43.tsv',\n",
       " '../../../../tmp/detect/data/CharacterExistenceFeature$44.tsv',\n",
       " '../../../../tmp/detect/data/CharacterExistenceFeature$45.tsv',\n",
       " '../../../../tmp/detect/data/CharacterExistenceFeature$46.tsv',\n",
       " '../../../../tmp/detect/data/CharacterExistenceFeature$47.tsv',\n",
       " '../../../../tmp/detect/data/CharacterExistenceFeature$59.tsv',\n",
       " '../../../../tmp/detect/data/CharacterExistenceFeature$60.tsv',\n",
       " '../../../../tmp/detect/data/CharacterExistenceFeature$61.tsv',\n",
       " '../../../../tmp/detect/data/CharacterExistenceFeature$62.tsv',\n",
       " '../../../../tmp/detect/data/CharacterExistenceFeature$63.tsv',\n",
       " '../../../../tmp/detect/data/CharacterExistenceFeature$64.tsv',\n",
       " '../../../../tmp/detect/data/CharacterExistenceFeature$91.tsv',\n",
       " '../../../../tmp/detect/data/CharacterExistenceFeature$92.tsv',\n",
       " '../../../../tmp/detect/data/CharacterExistenceFeature$93.tsv',\n",
       " '../../../../tmp/detect/data/CharacterExistenceFeature$94.tsv',\n",
       " '../../../../tmp/detect/data/CharacterExistenceFeature$95.tsv',\n",
       " '../../../../tmp/detect/data/CharacterExistenceFeature$96.tsv',\n",
       " '../../../../tmp/detect/data/ContextCoherenceFeature$bigram.tsv',\n",
       " '../../../../tmp/detect/data/ContextCoherenceFeature$fivegram.tsv',\n",
       " '../../../../tmp/detect/data/ContextCoherenceFeature$fourgram.tsv',\n",
       " '../../../../tmp/detect/data/ContextCoherenceFeature$trigram.tsv',\n",
       " '../../../../tmp/detect/data/WordValidityFeature.tsv']"
      ]
     },
     "execution_count": 1,
     "metadata": {},
     "output_type": "execute_result"
    }
   ],
   "source": [
    "PROJECT_ROOT_PATH = '../../../..'\n",
    "TEMP_PATH = PROJECT_ROOT_PATH + '/tmp'\n",
    "DATA_PATH = TEMP_PATH + '/detect/data'\n",
    "\n",
    "WORDS_TRAIN_PATH = DATA_PATH + '/words.train.tsv'\n",
    "WORDS_TEST_PATH = DATA_PATH + '/words.test.tsv'\n",
    "LABELS_TRAIN_PATH = DATA_PATH + '/labels.train.tsv'\n",
    "LABELS_TEST_PATH = DATA_PATH + '/labels.test.tsv'\n",
    "\n",
    "import glob\n",
    "FEATURES_TEST_PATH = sorted(glob.glob(DATA_PATH + \"/*Feature*\"))\n",
    "FEATURES_TEST_PATH"
   ]
  },
  {
   "cell_type": "markdown",
   "metadata": {
    "deletable": true,
    "editable": true
   },
   "source": [
    "## Data"
   ]
  },
  {
   "cell_type": "code",
   "execution_count": 2,
   "metadata": {
    "collapsed": true,
    "deletable": true,
    "editable": true
   },
   "outputs": [],
   "source": [
    "import csv\n",
    "import pandas as pd\n",
    "\n",
    "def read_words(path):\n",
    "    col_names = [\"w-4\", \"w-3\", \"w-2\", \"w-1\", \"w\", \"w+1\", \"w+2\", \"w+3\", \"pos\"]\n",
    "    return pd.read_table(open(path, 'r'),\n",
    "                         header=None,\n",
    "                         quoting=csv.QUOTE_NONE,\n",
    "                         names=col_names,\n",
    "                        )\n",
    "\n",
    "def read_vals(path, name=None):\n",
    "    return pd.read_table(open(path, 'r'),\n",
    "                         header=None,\n",
    "                         names=[name],\n",
    "                        )\n",
    "\n",
    "def read_labels(path):\n",
    "    return read_vals(path, 'label')\n",
    "\n",
    "def read_feat_vals(path):\n",
    "    name = path[path[:-4].rfind('/') + 1:-4]\n",
    "    return read_vals(path, name)\n",
    "\n",
    "def read_feats(paths):\n",
    "    feats_vals = [read_feat_vals(p) for p in paths]\n",
    "    return pd.concat(feats_vals, axis=1)\n",
    "\n",
    "WORDS_TRAIN = read_words(WORDS_TRAIN_PATH)\n",
    "WORDS_TEST  = read_words(WORDS_TEST_PATH)\n",
    "LABELS_TRAIN = read_labels(LABELS_TRAIN_PATH)\n",
    "LABELS_TEST  = read_labels(LABELS_TEST_PATH)\n",
    "\n",
    "feats = read_feats(FEATURES_TEST_PATH)\n",
    "FEATS_TRAIN = feats[:WORDS_TRAIN.shape[0]]\n",
    "FEATS_TEST = feats[WORDS_TRAIN.shape[0]:]\n",
    "feats = None"
   ]
  },
  {
   "cell_type": "markdown",
   "metadata": {
    "deletable": true,
    "editable": true
   },
   "source": [
    "## Evaluation"
   ]
  },
  {
   "cell_type": "code",
   "execution_count": 3,
   "metadata": {
    "collapsed": true,
    "deletable": true,
    "editable": true
   },
   "outputs": [],
   "source": [
    "import os\n",
    "import shutil\n",
    "from sklearn import metrics\n",
    "from sklearn.externals import joblib\n",
    "import sys\n",
    "import time\n",
    "\n",
    "FORCE_RETRAIN = False\n",
    "MODEL_PATH = TEMP_PATH + '/detect/model'\n",
    "\n",
    "def get_pkl_path(name):\n",
    "    return MODEL_PATH + '/' + '%s.pkl' % name\n",
    "\n",
    "__train_time = {}  # cached training time\n",
    "\n",
    "def train(models, retrain=False):\n",
    "    if FORCE_RETRAIN:\n",
    "        shutil.rmtree(MODEL_PATH)\n",
    "    if not os.path.exists(MODEL_PATH):\n",
    "        os.makedirs(MODEL_PATH)\n",
    "    for (name, clf) in models:\n",
    "        sys.stdout.write('%-30s ..... ' % name)\n",
    "        pkl_path = get_pkl_path(name)\n",
    "        if retrain or not os.path.exists(pkl_path):\n",
    "            str_time = time.time()\n",
    "            clf.fit(FEATS_TRAIN, LABELS_TRAIN.as_matrix().ravel())\n",
    "            elapsed_time = (time.time() - str_time)\n",
    "            joblib.dump(clf, pkl_path, compress=9)\n",
    "            __train_time[name] = elapsed_time\n",
    "            sys.stdout.write('TRAINED')\n",
    "        else:\n",
    "            elapsed_time = __train_time[name] if name in __train_time else None\n",
    "            sys.stdout.write('SKIPPED') \n",
    "        if elapsed_time:\n",
    "            sys.stdout.write(' (%.3f seconds)' % elapsed_time)\n",
    "        print()\n",
    "\n",
    "def test(models):\n",
    "    for (name, _) in models:\n",
    "        clf = joblib.load(get_pkl_path(name))\n",
    "        preds = clf.predict(FEATS_TEST)\n",
    "        acc = metrics.accuracy_score(LABELS_TEST, preds)\n",
    "        print('%-30s ..... %.6f' % (name, acc))\n",
    "\n",
    "def get_clf(name):\n",
    "    return joblib.load(get_pkl_path(name))"
   ]
  },
  {
   "cell_type": "markdown",
   "metadata": {
    "deletable": true,
    "editable": true
   },
   "source": [
    "### Evalutaion: Models without Optimization"
   ]
  },
  {
   "cell_type": "code",
   "execution_count": 4,
   "metadata": {
    "collapsed": true,
    "deletable": true,
    "editable": true
   },
   "outputs": [],
   "source": [
    "from sklearn import ensemble\n",
    "from sklearn import feature_selection\n",
    "from sklearn import neural_network\n",
    "from sklearn import neighbors\n",
    "from sklearn import pipeline\n",
    "from sklearn import tree\n",
    "from sklearn import svm\n",
    "\n",
    "MODELS_NO_OPT = [\n",
    "    ['DTree', tree.DecisionTreeClassifier()],\n",
    "    ['MLP', neural_network.MLPClassifier()],\n",
    "    ['KNN', neighbors.KNeighborsClassifier()],\n",
    "    ['RF', ensemble.RandomForestClassifier()],\n",
    "    ['AdaBoost', ensemble.AdaBoostClassifier()],\n",
    "    ['ETree', ensemble.ExtraTreesClassifier()],\n",
    "    ['GradBoost', ensemble.GradientBoostingClassifier()],\n",
    "    ['svc', svm.SVC()],\n",
    "]"
   ]
  },
  {
   "cell_type": "code",
   "execution_count": 5,
   "metadata": {
    "collapsed": false,
    "deletable": true,
    "editable": true
   },
   "outputs": [
    {
     "name": "stdout",
     "output_type": "stream",
     "text": [
      "DTree                          ..... SKIPPED\n",
      "MLP                            ..... SKIPPED\n",
      "KNN                            ..... SKIPPED\n",
      "RF                             ..... SKIPPED\n",
      "AdaBoost                       ..... SKIPPED\n",
      "ETree                          ..... SKIPPED\n",
      "GradBoost                      ..... SKIPPED\n",
      "svc                            ..... SKIPPED\n"
     ]
    }
   ],
   "source": [
    "train(MODELS_NO_OPT)"
   ]
  },
  {
   "cell_type": "code",
   "execution_count": 6,
   "metadata": {
    "collapsed": false,
    "deletable": true,
    "editable": true
   },
   "outputs": [
    {
     "name": "stdout",
     "output_type": "stream",
     "text": [
      "DTree                          ..... 0.980433\n",
      "MLP                            ..... 0.983605\n",
      "KNN                            ..... 0.983874\n",
      "RF                             ..... 0.984304\n",
      "AdaBoost                       ..... 0.983336\n",
      "ETree                          ..... 0.984142\n",
      "GradBoost                      ..... 0.984035\n",
      "svc                            ..... 0.983444\n"
     ]
    }
   ],
   "source": [
    "test(MODELS_NO_OPT)"
   ]
  },
  {
   "cell_type": "markdown",
   "metadata": {
    "deletable": true,
    "editable": true
   },
   "source": [
    "## Evalutaion: Grid-Search Model Selection"
   ]
  },
  {
   "cell_type": "code",
   "execution_count": 59,
   "metadata": {
    "collapsed": false,
    "deletable": true,
    "editable": true
   },
   "outputs": [],
   "source": [
    "import numpy as np\n",
    "from sklearn import model_selection\n",
    "\n",
    "def model_selection_GridSearchCV(clf, param_grid):\n",
    "    return model_selection.GridSearchCV(clf,\n",
    "            param_grid=param_grid,\n",
    "            cv=10,\n",
    "            n_jobs=-1,\n",
    "            scoring='accuracy')\n",
    "MODELS_GSCV = [\n",
    "    # SVC (RBF kernel)\n",
    "    ['GSCV-SVC-rbf', model_selection_GridSearchCV(svm.SVC(kernel='rbf'),\n",
    "        {'C': [1e0, 1e1, 1e2],\n",
    "         'gamma': np.logspace(-2, 2, 5)\n",
    "        }\n",
    "    )],\n",
    "    \n",
    "    ['GSCV-RF', model_selection_GridSearchCV(ensemble.RandomForestClassifier(),\n",
    "        {'n_estimators': np.arange(50, 250, 50),\n",
    "         'min_samples_split': np.arange(2, 10)\n",
    "        }\n",
    "    )],\n",
    "    ['GSCV-RF-2', model_selection_GridSearchCV(\n",
    "        ensemble.RandomForestClassifier(\n",
    "            oob_score=True,\n",
    "            bootstrap=True,\n",
    "        ),\n",
    "        {'n_estimators': np.arange(100, 500, 100),\n",
    "         'max_features': ['sqrt', None],\n",
    "         'class_weight': ['balanced', 'balanced_subsample', None],\n",
    "        }\n",
    "    )],\n",
    "    ['GSCV-RF-3', model_selection_GridSearchCV(\n",
    "        ensemble.RandomForestClassifier(\n",
    "            oob_score=True,\n",
    "            bootstrap=True,\n",
    "        ),\n",
    "        {'n_estimators': np.arange(100, 1000, 50),\n",
    "         'max_features': ['log2', 'sqrt', None],\n",
    "         'min_samples_split': np.arange(2, 10)\n",
    "        }\n",
    "    )],\n",
    "    \n",
    "    # Gradient Boosting Trees\n",
    "    ['GSCV-GradBoost', model_selection_GridSearchCV(ensemble.GradientBoostingClassifier(),\n",
    "        {'n_estimators': np.arange(50, 250, 50),\n",
    "         'min_samples_split': np.arange(2, 10)\n",
    "        }\n",
    "    )],\n",
    "    ['GSCV-GradBoost-2', model_selection_GridSearchCV(ensemble.GradientBoostingClassifier(),\n",
    "        {'n_estimators': np.arange(100, 1000, 100),\n",
    "         'max_features': ['sqrt', None],\n",
    "         'subsample': [0.25, 0.5, 0.75, 1],\n",
    "        }\n",
    "    )],\n",
    "    \n",
    "    # Extra Trees Classifier\n",
    "    ['GSCV-ETree', model_selection_GridSearchCV(ensemble.ExtraTreesClassifier(),\n",
    "        {'n_estimators': np.arange(50, 250, 50),\n",
    "         'min_samples_split': np.arange(2, 10)\n",
    "        }\n",
    "    )],\n",
    "    ['GSCV-ETree-2', model_selection_GridSearchCV(\n",
    "        ensemble.ExtraTreesClassifier(\n",
    "            oob_score=True,\n",
    "            bootstrap=True,\n",
    "        ),\n",
    "        {'n_estimators': np.arange(100, 500, 100),\n",
    "         'max_features': ['sqrt', None],\n",
    "         'class_weight': ['balanced', 'balanced_subsample', None],\n",
    "        }\n",
    "    )],\n",
    "    ['GSCV-ETree-3', model_selection_GridSearchCV(\n",
    "        ensemble.ExtraTreesClassifier(\n",
    "            oob_score=True,\n",
    "            bootstrap=True,\n",
    "            max_depth=None,\n",
    "        ),\n",
    "        {'n_estimators': np.arange(100, 500, 100),\n",
    "         'max_features': ['sqrt', None],\n",
    "        }\n",
    "    )],\n",
    "    ['GSCV-ETree-4', model_selection_GridSearchCV(\n",
    "        ensemble.ExtraTreesClassifier(\n",
    "            oob_score=True,\n",
    "            bootstrap=True,\n",
    "        ),\n",
    "        {'n_estimators': np.arange(100, 500, 100),\n",
    "         'max_features': ['sqrt', None],\n",
    "         'max_depth': np.arange(2, 5)\n",
    "        }\n",
    "    )],\n",
    "    ['GSCV-ETree-5', model_selection_GridSearchCV(\n",
    "        ensemble.ExtraTreesClassifier(\n",
    "            oob_score=True,\n",
    "            bootstrap=True,\n",
    "        ),\n",
    "        {'n_estimators': np.arange(100, 500, 100),\n",
    "         'max_features': ['sqrt', None],\n",
    "         'max_depth': np.arange(5, 10)\n",
    "        }\n",
    "    )],\n",
    "    ['GSCV-ETree-full-sqrt', model_selection_GridSearchCV(\n",
    "        ensemble.ExtraTreesClassifier(\n",
    "            oob_score=True,\n",
    "            bootstrap=True,\n",
    "            max_features='sqrt',\n",
    "        ),\n",
    "        {'n_estimators': np.arange(100, 1000, 100),\n",
    "        }\n",
    "    )],\n",
    "    ['GSCV-ETree-full-all', model_selection_GridSearchCV(\n",
    "        ensemble.ExtraTreesClassifier(\n",
    "            oob_score=True,\n",
    "            bootstrap=True,\n",
    "            max_features=None,\n",
    "        ),\n",
    "        {'n_estimators': np.arange(100, 1000, 100),\n",
    "        }\n",
    "    )],\n",
    "]"
   ]
  },
  {
   "cell_type": "code",
   "execution_count": 57,
   "metadata": {
    "collapsed": false
   },
   "outputs": [
    {
     "data": {
      "text/plain": [
       "array([2, 3, 4])"
      ]
     },
     "execution_count": 57,
     "metadata": {},
     "output_type": "execute_result"
    }
   ],
   "source": [
    "np.arange(2, 5)"
   ]
  },
  {
   "cell_type": "code",
   "execution_count": 60,
   "metadata": {
    "collapsed": false
   },
   "outputs": [
    {
     "name": "stdout",
     "output_type": "stream",
     "text": [
      "GSCV-SVC-rbf                   ..... SKIPPED\n",
      "GSCV-RF                        ..... SKIPPED\n",
      "GSCV-RF-2                      ..... SKIPPED (1353.821 seconds)\n",
      "GSCV-RF-3                      ..... SKIPPED (41279.582 seconds)\n",
      "GSCV-GradBoost                 ..... SKIPPED\n",
      "GSCV-GradBoost-2               ..... SKIPPED (1963.795 seconds)\n",
      "GSCV-ETree                     ..... SKIPPED\n",
      "GSCV-ETree-2                   ..... SKIPPED\n",
      "GSCV-ETree-2                   ..... SKIPPED\n",
      "GSCV-ETree-3                   ..... TRAINED (234.378 seconds)\n",
      "GSCV-ETree-4                   ..... TRAINED (246.198 seconds)\n",
      "GSCV-ETree-5                   ..... TRAINED (637.929 seconds)\n",
      "GSCV-ETree-full-sqrt           ..... SKIPPED\n",
      "GSCV-ETree-full-all            ..... SKIPPED\n"
     ]
    }
   ],
   "source": [
    "train(MODELS_GSCV)"
   ]
  },
  {
   "cell_type": "code",
   "execution_count": 61,
   "metadata": {
    "collapsed": false,
    "deletable": true,
    "editable": true
   },
   "outputs": [
    {
     "name": "stdout",
     "output_type": "stream",
     "text": [
      "GSCV-SVC-rbf                   ..... 0.983766\n",
      "GSCV-RF                        ..... 0.984357\n",
      "GSCV-RF-2                      ..... 0.984519\n",
      "GSCV-RF-3                      ..... 0.984196\n",
      "GSCV-GradBoost                 ..... 0.983981\n",
      "GSCV-GradBoost-2               ..... 0.983820\n",
      "GSCV-ETree                     ..... 0.984572\n",
      "GSCV-ETree-2                   ..... 0.984519\n",
      "GSCV-ETree-2                   ..... 0.984519\n",
      "GSCV-ETree-3                   ..... 0.984519\n",
      "GSCV-ETree-4                   ..... 0.983766\n",
      "GSCV-ETree-5                   ..... 0.983927\n",
      "GSCV-ETree-full-sqrt           ..... 0.984411\n",
      "GSCV-ETree-full-all            ..... 0.984304\n"
     ]
    }
   ],
   "source": [
    "test(MODELS_GSCV)"
   ]
  },
  {
   "cell_type": "code",
   "execution_count": 62,
   "metadata": {
    "collapsed": false
   },
   "outputs": [
    {
     "name": "stdout",
     "output_type": "stream",
     "text": [
      "GSCV-RF\n",
      "RandomForestClassifier(bootstrap=True, class_weight=None, criterion='gini',\n",
      "            max_depth=None, max_features='auto', max_leaf_nodes=None,\n",
      "            min_impurity_split=1e-07, min_samples_leaf=1,\n",
      "            min_samples_split=8, min_weight_fraction_leaf=0.0,\n",
      "            n_estimators=50, n_jobs=1, oob_score=False, random_state=None,\n",
      "            verbose=0, warm_start=False)\n",
      "\n",
      "GSCV-RF-2 :  0.987921774524\n",
      "RandomForestClassifier(bootstrap=True, class_weight=None, criterion='gini',\n",
      "            max_depth=None, max_features=None, max_leaf_nodes=None,\n",
      "            min_impurity_split=1e-07, min_samples_leaf=1,\n",
      "            min_samples_split=2, min_weight_fraction_leaf=0.0,\n",
      "            n_estimators=100, n_jobs=1, oob_score=True, random_state=None,\n",
      "            verbose=0, warm_start=False)\n",
      "\n",
      "GSCV-RF-3 :  0.988355290094\n",
      "RandomForestClassifier(bootstrap=True, class_weight=None, criterion='gini',\n",
      "            max_depth=None, max_features='log2', max_leaf_nodes=None,\n",
      "            min_impurity_split=1e-07, min_samples_leaf=1,\n",
      "            min_samples_split=9, min_weight_fraction_leaf=0.0,\n",
      "            n_estimators=200, n_jobs=1, oob_score=True, random_state=None,\n",
      "            verbose=0, warm_start=False)\n",
      "\n",
      "GSCV-GradBoost\n",
      "GradientBoostingClassifier(criterion='friedman_mse', init=None,\n",
      "              learning_rate=0.1, loss='deviance', max_depth=3,\n",
      "              max_features=None, max_leaf_nodes=None,\n",
      "              min_impurity_split=1e-07, min_samples_leaf=1,\n",
      "              min_samples_split=2, min_weight_fraction_leaf=0.0,\n",
      "              n_estimators=50, presort='auto', random_state=None,\n",
      "              subsample=1.0, verbose=0, warm_start=False)\n",
      "\n",
      "GSCV-GradBoost-2\n",
      "GradientBoostingClassifier(criterion='friedman_mse', init=None,\n",
      "              learning_rate=0.1, loss='deviance', max_depth=3,\n",
      "              max_features='sqrt', max_leaf_nodes=None,\n",
      "              min_impurity_split=1e-07, min_samples_leaf=1,\n",
      "              min_samples_split=2, min_weight_fraction_leaf=0.0,\n",
      "              n_estimators=100, presort='auto', random_state=None,\n",
      "              subsample=0.75, verbose=0, warm_start=False)\n",
      "\n",
      "GSCV-ETree\n",
      "ExtraTreesClassifier(bootstrap=False, class_weight=None, criterion='gini',\n",
      "           max_depth=None, max_features='auto', max_leaf_nodes=None,\n",
      "           min_impurity_split=1e-07, min_samples_leaf=1,\n",
      "           min_samples_split=7, min_weight_fraction_leaf=0.0,\n",
      "           n_estimators=50, n_jobs=1, oob_score=False, random_state=None,\n",
      "           verbose=0, warm_start=False)\n",
      "\n",
      "GSCV-ETree-2 :  0.988463668987\n",
      "ExtraTreesClassifier(bootstrap=True, class_weight=None, criterion='gini',\n",
      "           max_depth=None, max_features=None, max_leaf_nodes=None,\n",
      "           min_impurity_split=1e-07, min_samples_leaf=1,\n",
      "           min_samples_split=2, min_weight_fraction_leaf=0.0,\n",
      "           n_estimators=400, n_jobs=1, oob_score=True, random_state=None,\n",
      "           verbose=0, warm_start=False)\n",
      "\n",
      "GSCV-ETree-3 :  0.988487753185\n",
      "ExtraTreesClassifier(bootstrap=True, class_weight=None, criterion='gini',\n",
      "           max_depth=None, max_features=None, max_leaf_nodes=None,\n",
      "           min_impurity_split=1e-07, min_samples_leaf=1,\n",
      "           min_samples_split=2, min_weight_fraction_leaf=0.0,\n",
      "           n_estimators=100, n_jobs=1, oob_score=True, random_state=None,\n",
      "           verbose=0, warm_start=False)\n",
      "\n",
      "GSCV-ETree-4 :  0.988138532309\n",
      "ExtraTreesClassifier(bootstrap=True, class_weight=None, criterion='gini',\n",
      "           max_depth=4, max_features=None, max_leaf_nodes=None,\n",
      "           min_impurity_split=1e-07, min_samples_leaf=1,\n",
      "           min_samples_split=2, min_weight_fraction_leaf=0.0,\n",
      "           n_estimators=300, n_jobs=1, oob_score=True, random_state=None,\n",
      "           verbose=0, warm_start=False)\n",
      "\n",
      "GSCV-ETree-5 :  0.988403458491\n",
      "ExtraTreesClassifier(bootstrap=True, class_weight=None, criterion='gini',\n",
      "           max_depth=8, max_features=None, max_leaf_nodes=None,\n",
      "           min_impurity_split=1e-07, min_samples_leaf=1,\n",
      "           min_samples_split=2, min_weight_fraction_leaf=0.0,\n",
      "           n_estimators=300, n_jobs=1, oob_score=True, random_state=None,\n",
      "           verbose=0, warm_start=False)\n",
      "\n",
      "GSCV-ETree-full-sqrt :  0.988511837383\n",
      "ExtraTreesClassifier(bootstrap=True, class_weight=None, criterion='gini',\n",
      "           max_depth=None, max_features='sqrt', max_leaf_nodes=None,\n",
      "           min_impurity_split=1e-07, min_samples_leaf=1,\n",
      "           min_samples_split=2, min_weight_fraction_leaf=0.0,\n",
      "           n_estimators=900, n_jobs=1, oob_score=True, random_state=None,\n",
      "           verbose=0, warm_start=False)\n",
      "\n",
      "GSCV-ETree-full-all :  0.988535921582\n",
      "ExtraTreesClassifier(bootstrap=True, class_weight=None, criterion='gini',\n",
      "           max_depth=None, max_features=None, max_leaf_nodes=None,\n",
      "           min_impurity_split=1e-07, min_samples_leaf=1,\n",
      "           min_samples_split=2, min_weight_fraction_leaf=0.0,\n",
      "           n_estimators=100, n_jobs=1, oob_score=True, random_state=None,\n",
      "           verbose=0, warm_start=False)\n",
      "\n"
     ]
    }
   ],
   "source": [
    "clf_names = [\n",
    "    'GSCV-RF',\n",
    "    'GSCV-RF-2',\n",
    "    'GSCV-RF-3',\n",
    "    'GSCV-GradBoost',\n",
    "    'GSCV-GradBoost-2',\n",
    "    'GSCV-ETree',\n",
    "    'GSCV-ETree-2',\n",
    "    'GSCV-ETree-3',\n",
    "    'GSCV-ETree-4',\n",
    "    'GSCV-ETree-5',\n",
    "    'GSCV-ETree-full-sqrt',\n",
    "    'GSCV-ETree-full-all',\n",
    "    ]\n",
    "for name in clf_names:\n",
    "    clf = get_clf(name).best_estimator_\n",
    "    try:\n",
    "        print(name, ': ', clf.oob_score_)\n",
    "    except AttributeError:\n",
    "        print(name)\n",
    "    print(clf)\n",
    "    print()"
   ]
  },
  {
   "cell_type": "markdown",
   "metadata": {
    "deletable": true,
    "editable": true
   },
   "source": [
    "## Evalutaion: Tree-Based Feature Selection"
   ]
  },
  {
   "cell_type": "code",
   "execution_count": 36,
   "metadata": {
    "collapsed": true,
    "deletable": true,
    "editable": true
   },
   "outputs": [],
   "source": [
    "import numpy as np\n",
    "import matplotlib.pyplot as plt\n",
    " \n",
    "def get_mean_importance(clf):\n",
    "    importances = clf.feature_importances_\n",
    "    return sum(importances) / FEATS_TEST.shape[1]\n",
    "\n",
    "def get_char(feat_name):\n",
    "    if 'CharacterExistenceFeature' not in feat_name:\n",
    "        raise Exception('Given feature is not an CharacterExistenceFeature.')\n",
    "    return chr(int(feat_name[26:]))\n",
    "\n",
    "def get_feat_name(feat_name):\n",
    "    \"\"\" Return the feature name. If the given name is an CharacterExistenceFeature, include\n",
    "    the character name.\n",
    "    \"\"\"\n",
    "    if 'CharacterExistenceFeature' in feat_name:\n",
    "        return '%s (%s)'% (feat_name, get_char(feat_name))\n",
    "    else:\n",
    "        return feat_name\n",
    "\n",
    "def eval_feat_importances(clf):\n",
    "    if isinstance(clf, model_selection.GridSearchCV):\n",
    "        clf = clf.best_estimator_\n",
    "    importances = clf.feature_importances_\n",
    "    if isinstance(clf, ensemble.GradientBoostingClassifier):\n",
    "        std = np.std([tree[0].feature_importances_ for tree in clf.estimators_], axis=0)\n",
    "    else:\n",
    "        std = np.std([tree.feature_importances_ for tree in clf.estimators_], axis=0)\n",
    "    indices = np.argsort(importances)[::-1]\n",
    "    \n",
    "    print(type(clf).__name__)\n",
    "    print()\n",
    "    \n",
    "    print(get_mean_importance(clf))\n",
    "\n",
    "    # Plot importance\n",
    "    plt.figure(figsize=(14,5))\n",
    "    plt.title('Tree-based feature importances')\n",
    "    plt.bar(range(FEATS_TRAIN.shape[1]), importances[indices],\n",
    "           color=\"r\", yerr=std[indices], align=\"center\")\n",
    "    plt.xticks(range(FEATS_TRAIN.shape[1]), indices)\n",
    "    plt.xlim([-1, FEATS_TRAIN.shape[1]])\n",
    "    plt.show()\n",
    "\n",
    "    # Print importance rank\n",
    "    print(\"Feature ranking:\")\n",
    "    for f in range(FEATS_TRAIN.shape[1]):\n",
    "        print(\"%2d. %-50s (%f)\"\n",
    "              % (f + 1, get_feat_name(FEATS_TRAIN.columns[indices[f]]),\n",
    "                 importances[indices[f]]))"
   ]
  },
  {
   "cell_type": "code",
   "execution_count": 37,
   "metadata": {
    "collapsed": false,
    "deletable": true,
    "editable": true,
    "scrolled": true
   },
   "outputs": [
    {
     "name": "stdout",
     "output_type": "stream",
     "text": [
      "RandomForestClassifier\n",
      "\n",
      "0.0238095238095\n"
     ]
    },
    {
     "data": {
      "image/png": "[encoded data removed]",
      "text/plain": [
       "<matplotlib.figure.Figure at 0x7fb68bbce2b0>"
      ]
     },
     "metadata": {},
     "output_type": "display_data"
    },
    {
     "name": "stdout",
     "output_type": "stream",
     "text": [
      "Feature ranking:\n",
      " 1. WordValidityFeature                                (0.381836)\n",
      " 2. ApproximateContextCoherenceFeature$trigram         (0.188405)\n",
      " 3. ApproximateContextCoherenceFeature$bigram          (0.096584)\n",
      " 4. ContextCoherenceFeature$bigram                     (0.079554)\n",
      " 5. CharacterExistenceFeature$125 (})                  (0.073321)\n",
      " 6. CharacterExistenceFeature$39 (')                   (0.049197)\n",
      " 7. ApproximateContextCoherenceFeature$fourgram        (0.035205)\n",
      " 8. ContextCoherenceFeature$trigram                    (0.021124)\n",
      " 9. ApproximateContextCoherenceFeature$fivegram        (0.018005)\n",
      "10. CharacterExistenceFeature$94 (^)                   (0.015129)\n",
      "11. CharacterExistenceFeature$45 (-)                   (0.011830)\n",
      "12. CharacterExistenceFeature$47 (/)                   (0.007077)\n",
      "13. ContextCoherenceFeature$fourgram                   (0.006920)\n",
      "14. CharacterExistenceFeature$41 ())                   (0.002887)\n",
      "15. CharacterExistenceFeature$92 (\\)                   (0.002327)\n",
      "16. CharacterExistenceFeature$46 (.)                   (0.001550)\n",
      "17. CharacterExistenceFeature$95 (_)                   (0.001524)\n",
      "18. CharacterExistenceFeature$34 (\")                   (0.001226)\n",
      "19. ContextCoherenceFeature$fivegram                   (0.001157)\n",
      "20. CharacterExistenceFeature$44 (,)                   (0.001013)\n",
      "21. CharacterExistenceFeature$63 (?)                   (0.001001)\n",
      "22. CharacterExistenceFeature$40 (()                   (0.000809)\n",
      "23. CharacterExistenceFeature$59 (;)                   (0.000443)\n",
      "24. CharacterExistenceFeature$42 (*)                   (0.000406)\n",
      "25. CharacterExistenceFeature$33 (!)                   (0.000347)\n",
      "26. CharacterExistenceFeature$93 (])                   (0.000256)\n",
      "27. CharacterExistenceFeature$37 (%)                   (0.000255)\n",
      "28. CharacterExistenceFeature$38 (&)                   (0.000246)\n",
      "29. CharacterExistenceFeature$62 (>)                   (0.000175)\n",
      "30. CharacterExistenceFeature$124 (|)                  (0.000117)\n",
      "31. CharacterExistenceFeature$60 (<)                   (0.000051)\n",
      "32. CharacterExistenceFeature$123 ({)                  (0.000020)\n",
      "33. CharacterExistenceFeature$36 ($)                   (0.000003)\n",
      "34. CharacterExistenceFeature$96 (`)                   (0.000000)\n",
      "35. CharacterExistenceFeature$91 ([)                   (0.000000)\n",
      "36. CharacterExistenceFeature$127 ()                  (0.000000)\n",
      "37. CharacterExistenceFeature$64 (@)                   (0.000000)\n",
      "38. CharacterExistenceFeature$126 (~)                  (0.000000)\n",
      "39. CharacterExistenceFeature$61 (=)                   (0.000000)\n",
      "40. CharacterExistenceFeature$32 ( )                   (0.000000)\n",
      "41. CharacterExistenceFeature$35 (#)                   (0.000000)\n",
      "42. CharacterExistenceFeature$43 (+)                   (0.000000)\n"
     ]
    }
   ],
   "source": [
    "eval_feat_importances(get_clf('GSCV-RF'))"
   ]
  },
  {
   "cell_type": "code",
   "execution_count": 39,
   "metadata": {
    "collapsed": false,
    "deletable": true,
    "editable": true,
    "scrolled": true
   },
   "outputs": [
    {
     "name": "stdout",
     "output_type": "stream",
     "text": [
      "RandomForestClassifier\n",
      "\n",
      "0.0238095238095\n"
     ]
    },
    {
     "data": {
      "image/png": "[encoded data removed]",
      "text/plain": [
       "<matplotlib.figure.Figure at 0x7fb68b91b860>"
      ]
     },
     "metadata": {},
     "output_type": "display_data"
    },
    {
     "name": "stdout",
     "output_type": "stream",
     "text": [
      "Feature ranking:\n",
      " 1. WordValidityFeature                                (0.712972)\n",
      " 2. ApproximateContextCoherenceFeature$trigram         (0.094789)\n",
      " 3. ApproximateContextCoherenceFeature$bigram          (0.051231)\n",
      " 4. ContextCoherenceFeature$bigram                     (0.050993)\n",
      " 5. ApproximateContextCoherenceFeature$fourgram        (0.028207)\n",
      " 6. ContextCoherenceFeature$trigram                    (0.019035)\n",
      " 7. CharacterExistenceFeature$39 (')                   (0.012946)\n",
      " 8. ApproximateContextCoherenceFeature$fivegram        (0.009042)\n",
      " 9. ContextCoherenceFeature$fourgram                   (0.003327)\n",
      "10. CharacterExistenceFeature$41 ())                   (0.002459)\n",
      "11. CharacterExistenceFeature$45 (-)                   (0.002305)\n",
      "12. CharacterExistenceFeature$125 (})                  (0.002206)\n",
      "13. CharacterExistenceFeature$46 (.)                   (0.001803)\n",
      "14. CharacterExistenceFeature$94 (^)                   (0.001340)\n",
      "15. CharacterExistenceFeature$47 (/)                   (0.001149)\n",
      "16. CharacterExistenceFeature$34 (\")                   (0.000880)\n",
      "17. ContextCoherenceFeature$fivegram                   (0.000859)\n",
      "18. CharacterExistenceFeature$63 (?)                   (0.000739)\n",
      "19. CharacterExistenceFeature$44 (,)                   (0.000722)\n",
      "20. CharacterExistenceFeature$40 (()                   (0.000647)\n",
      "21. CharacterExistenceFeature$59 (;)                   (0.000573)\n",
      "22. CharacterExistenceFeature$42 (*)                   (0.000404)\n",
      "23. CharacterExistenceFeature$92 (\\)                   (0.000369)\n",
      "24. CharacterExistenceFeature$33 (!)                   (0.000320)\n",
      "25. CharacterExistenceFeature$38 (&)                   (0.000264)\n",
      "26. CharacterExistenceFeature$95 (_)                   (0.000226)\n",
      "27. CharacterExistenceFeature$37 (%)                   (0.000076)\n",
      "28. CharacterExistenceFeature$62 (>)                   (0.000047)\n",
      "29. CharacterExistenceFeature$124 (|)                  (0.000033)\n",
      "30. CharacterExistenceFeature$93 (])                   (0.000014)\n",
      "31. CharacterExistenceFeature$123 ({)                  (0.000013)\n",
      "32. CharacterExistenceFeature$60 (<)                   (0.000010)\n",
      "33. CharacterExistenceFeature$126 (~)                  (0.000000)\n",
      "34. CharacterExistenceFeature$96 (`)                   (0.000000)\n",
      "35. CharacterExistenceFeature$32 ( )                   (0.000000)\n",
      "36. CharacterExistenceFeature$127 ()                  (0.000000)\n",
      "37. CharacterExistenceFeature$61 (=)                   (0.000000)\n",
      "38. CharacterExistenceFeature$91 ([)                   (0.000000)\n",
      "39. CharacterExistenceFeature$35 (#)                   (0.000000)\n",
      "40. CharacterExistenceFeature$36 ($)                   (0.000000)\n",
      "41. CharacterExistenceFeature$64 (@)                   (0.000000)\n",
      "42. CharacterExistenceFeature$43 (+)                   (0.000000)\n"
     ]
    }
   ],
   "source": [
    "eval_feat_importances(get_clf('GSCV-RF-2'))"
   ]
  },
  {
   "cell_type": "code",
   "execution_count": 40,
   "metadata": {
    "collapsed": false,
    "deletable": true,
    "editable": true,
    "scrolled": true
   },
   "outputs": [
    {
     "name": "stdout",
     "output_type": "stream",
     "text": [
      "GradientBoostingClassifier\n",
      "\n",
      "0.0238095238095\n"
     ]
    },
    {
     "data": {
      "image/png": "[encoded data removed]",
      "text/plain": [
       "<matplotlib.figure.Figure at 0x7fb68b91bf60>"
      ]
     },
     "metadata": {},
     "output_type": "display_data"
    },
    {
     "name": "stdout",
     "output_type": "stream",
     "text": [
      "Feature ranking:\n",
      " 1. WordValidityFeature                                (0.454334)\n",
      " 2. ApproximateContextCoherenceFeature$trigram         (0.095107)\n",
      " 3. ApproximateContextCoherenceFeature$fivegram        (0.060504)\n",
      " 4. CharacterExistenceFeature$39 (')                   (0.058071)\n",
      " 5. ContextCoherenceFeature$trigram                    (0.053832)\n",
      " 6. ContextCoherenceFeature$bigram                     (0.050877)\n",
      " 7. CharacterExistenceFeature$125 (})                  (0.037389)\n",
      " 8. CharacterExistenceFeature$46 (.)                   (0.032149)\n",
      " 9. CharacterExistenceFeature$94 (^)                   (0.027946)\n",
      "10. ApproximateContextCoherenceFeature$fourgram        (0.025495)\n",
      "11. CharacterExistenceFeature$47 (/)                   (0.019845)\n",
      "12. CharacterExistenceFeature$45 (-)                   (0.016444)\n",
      "13. ApproximateContextCoherenceFeature$bigram          (0.014287)\n",
      "14. CharacterExistenceFeature$92 (\\)                   (0.011984)\n",
      "15. CharacterExistenceFeature$41 ())                   (0.010906)\n",
      "16. CharacterExistenceFeature$38 (&)                   (0.008562)\n",
      "17. CharacterExistenceFeature$95 (_)                   (0.008172)\n",
      "18. CharacterExistenceFeature$63 (?)                   (0.005546)\n",
      "19. CharacterExistenceFeature$44 (,)                   (0.004572)\n",
      "20. CharacterExistenceFeature$34 (\")                   (0.002302)\n",
      "21. CharacterExistenceFeature$42 (*)                   (0.001229)\n",
      "22. CharacterExistenceFeature$33 (!)                   (0.000446)\n",
      "23. CharacterExistenceFeature$123 ({)                  (0.000000)\n",
      "24. CharacterExistenceFeature$96 (`)                   (0.000000)\n",
      "25. CharacterExistenceFeature$124 (|)                  (0.000000)\n",
      "26. ContextCoherenceFeature$fivegram                   (0.000000)\n",
      "27. ContextCoherenceFeature$fourgram                   (0.000000)\n",
      "28. CharacterExistenceFeature$126 (~)                  (0.000000)\n",
      "29. CharacterExistenceFeature$127 ()                  (0.000000)\n",
      "30. CharacterExistenceFeature$32 ( )                   (0.000000)\n",
      "31. CharacterExistenceFeature$62 (>)                   (0.000000)\n",
      "32. CharacterExistenceFeature$37 (%)                   (0.000000)\n",
      "33. CharacterExistenceFeature$35 (#)                   (0.000000)\n",
      "34. CharacterExistenceFeature$36 ($)                   (0.000000)\n",
      "35. CharacterExistenceFeature$61 (=)                   (0.000000)\n",
      "36. CharacterExistenceFeature$93 (])                   (0.000000)\n",
      "37. CharacterExistenceFeature$40 (()                   (0.000000)\n",
      "38. CharacterExistenceFeature$91 ([)                   (0.000000)\n",
      "39. CharacterExistenceFeature$64 (@)                   (0.000000)\n",
      "40. CharacterExistenceFeature$59 (;)                   (0.000000)\n",
      "41. CharacterExistenceFeature$60 (<)                   (0.000000)\n",
      "42. CharacterExistenceFeature$43 (+)                   (0.000000)\n"
     ]
    }
   ],
   "source": [
    "eval_feat_importances(get_clf('GSCV-GradBoost'))"
   ]
  },
  {
   "cell_type": "code",
   "execution_count": 41,
   "metadata": {
    "collapsed": false,
    "deletable": true,
    "editable": true,
    "scrolled": true
   },
   "outputs": [
    {
     "name": "stdout",
     "output_type": "stream",
     "text": [
      "GradientBoostingClassifier\n",
      "\n",
      "0.0238095238095\n"
     ]
    },
    {
     "data": {
      "image/png": "[encoded data removed]",
      "text/plain": [
       "<matplotlib.figure.Figure at 0x7fb68b9bee48>"
      ]
     },
     "metadata": {},
     "output_type": "display_data"
    },
    {
     "name": "stdout",
     "output_type": "stream",
     "text": [
      "Feature ranking:\n",
      " 1. WordValidityFeature                                (0.207071)\n",
      " 2. ApproximateContextCoherenceFeature$trigram         (0.116331)\n",
      " 3. CharacterExistenceFeature$39 (')                   (0.087629)\n",
      " 4. ContextCoherenceFeature$bigram                     (0.060784)\n",
      " 5. ApproximateContextCoherenceFeature$bigram          (0.058215)\n",
      " 6. ApproximateContextCoherenceFeature$fourgram        (0.048491)\n",
      " 7. CharacterExistenceFeature$45 (-)                   (0.047312)\n",
      " 8. CharacterExistenceFeature$94 (^)                   (0.044734)\n",
      " 9. ContextCoherenceFeature$trigram                    (0.039135)\n",
      "10. CharacterExistenceFeature$46 (.)                   (0.034916)\n",
      "11. CharacterExistenceFeature$38 (&)                   (0.034822)\n",
      "12. CharacterExistenceFeature$92 (\\)                   (0.027514)\n",
      "13. ApproximateContextCoherenceFeature$fivegram        (0.025411)\n",
      "14. CharacterExistenceFeature$125 (})                  (0.022700)\n",
      "15. ContextCoherenceFeature$fourgram                   (0.019347)\n",
      "16. CharacterExistenceFeature$95 (_)                   (0.016078)\n",
      "17. CharacterExistenceFeature$41 ())                   (0.016007)\n",
      "18. CharacterExistenceFeature$63 (?)                   (0.015048)\n",
      "19. CharacterExistenceFeature$37 (%)                   (0.014249)\n",
      "20. CharacterExistenceFeature$34 (\")                   (0.012447)\n",
      "21. CharacterExistenceFeature$47 (/)                   (0.010559)\n",
      "22. CharacterExistenceFeature$62 (>)                   (0.008650)\n",
      "23. CharacterExistenceFeature$40 (()                   (0.007937)\n",
      "24. CharacterExistenceFeature$42 (*)                   (0.006498)\n",
      "25. CharacterExistenceFeature$44 (,)                   (0.006154)\n",
      "26. CharacterExistenceFeature$59 (;)                   (0.004346)\n",
      "27. CharacterExistenceFeature$33 (!)                   (0.003263)\n",
      "28. CharacterExistenceFeature$93 (])                   (0.001545)\n",
      "29. CharacterExistenceFeature$124 (|)                  (0.001285)\n",
      "30. CharacterExistenceFeature$123 ({)                  (0.001027)\n",
      "31. ContextCoherenceFeature$fivegram                   (0.000495)\n",
      "32. CharacterExistenceFeature$127 ()                  (0.000000)\n",
      "33. CharacterExistenceFeature$126 (~)                  (0.000000)\n",
      "34. CharacterExistenceFeature$96 (`)                   (0.000000)\n",
      "35. CharacterExistenceFeature$32 ( )                   (0.000000)\n",
      "36. CharacterExistenceFeature$35 (#)                   (0.000000)\n",
      "37. CharacterExistenceFeature$36 ($)                   (0.000000)\n",
      "38. CharacterExistenceFeature$60 (<)                   (0.000000)\n",
      "39. CharacterExistenceFeature$61 (=)                   (0.000000)\n",
      "40. CharacterExistenceFeature$64 (@)                   (0.000000)\n",
      "41. CharacterExistenceFeature$91 ([)                   (0.000000)\n",
      "42. CharacterExistenceFeature$43 (+)                   (0.000000)\n"
     ]
    }
   ],
   "source": [
    "eval_feat_importances(get_clf('GSCV-GradBoost-2'))"
   ]
  },
  {
   "cell_type": "code",
   "execution_count": 42,
   "metadata": {
    "collapsed": false,
    "deletable": true,
    "editable": true,
    "scrolled": true
   },
   "outputs": [
    {
     "name": "stdout",
     "output_type": "stream",
     "text": [
      "ExtraTreesClassifier\n",
      "\n",
      "0.0238095238095\n"
     ]
    },
    {
     "data": {
      "image/png": "[encoded data removed]",
      "text/plain": [
       "<matplotlib.figure.Figure at 0x7fb6899af978>"
      ]
     },
     "metadata": {},
     "output_type": "display_data"
    },
    {
     "name": "stdout",
     "output_type": "stream",
     "text": [
      "Feature ranking:\n",
      " 1. WordValidityFeature                                (0.539270)\n",
      " 2. CharacterExistenceFeature$39 (')                   (0.088932)\n",
      " 3. CharacterExistenceFeature$125 (})                  (0.063202)\n",
      " 4. ApproximateContextCoherenceFeature$bigram          (0.059427)\n",
      " 5. ContextCoherenceFeature$bigram                     (0.050783)\n",
      " 6. ApproximateContextCoherenceFeature$trigram         (0.048300)\n",
      " 7. CharacterExistenceFeature$94 (^)                   (0.039465)\n",
      " 8. ContextCoherenceFeature$trigram                    (0.028295)\n",
      " 9. CharacterExistenceFeature$45 (-)                   (0.019322)\n",
      "10. ApproximateContextCoherenceFeature$fourgram        (0.017449)\n",
      "11. CharacterExistenceFeature$47 (/)                   (0.009665)\n",
      "12. ApproximateContextCoherenceFeature$fivegram        (0.009635)\n",
      "13. ContextCoherenceFeature$fourgram                   (0.007489)\n",
      "14. CharacterExistenceFeature$92 (\\)                   (0.004143)\n",
      "15. CharacterExistenceFeature$41 ())                   (0.002918)\n",
      "16. CharacterExistenceFeature$95 (_)                   (0.002441)\n",
      "17. CharacterExistenceFeature$46 (.)                   (0.002041)\n",
      "18. ContextCoherenceFeature$fivegram                   (0.001433)\n",
      "19. CharacterExistenceFeature$34 (\")                   (0.000963)\n",
      "20. CharacterExistenceFeature$63 (?)                   (0.000938)\n",
      "21. CharacterExistenceFeature$40 (()                   (0.000735)\n",
      "22. CharacterExistenceFeature$44 (,)                   (0.000665)\n",
      "23. CharacterExistenceFeature$59 (;)                   (0.000409)\n",
      "24. CharacterExistenceFeature$37 (%)                   (0.000409)\n",
      "25. CharacterExistenceFeature$33 (!)                   (0.000364)\n",
      "26. CharacterExistenceFeature$42 (*)                   (0.000353)\n",
      "27. CharacterExistenceFeature$38 (&)                   (0.000290)\n",
      "28. CharacterExistenceFeature$62 (>)                   (0.000263)\n",
      "29. CharacterExistenceFeature$93 (])                   (0.000203)\n",
      "30. CharacterExistenceFeature$124 (|)                  (0.000093)\n",
      "31. CharacterExistenceFeature$60 (<)                   (0.000066)\n",
      "32. CharacterExistenceFeature$123 ({)                  (0.000028)\n",
      "33. CharacterExistenceFeature$36 ($)                   (0.000012)\n",
      "34. CharacterExistenceFeature$127 ()                  (0.000000)\n",
      "35. CharacterExistenceFeature$126 (~)                  (0.000000)\n",
      "36. CharacterExistenceFeature$64 (@)                   (0.000000)\n",
      "37. CharacterExistenceFeature$32 ( )                   (0.000000)\n",
      "38. CharacterExistenceFeature$35 (#)                   (0.000000)\n",
      "39. CharacterExistenceFeature$91 ([)                   (0.000000)\n",
      "40. CharacterExistenceFeature$96 (`)                   (0.000000)\n",
      "41. CharacterExistenceFeature$61 (=)                   (0.000000)\n",
      "42. CharacterExistenceFeature$43 (+)                   (0.000000)\n"
     ]
    }
   ],
   "source": [
    "eval_feat_importances(get_clf('GSCV-ETree').best_estimator_)"
   ]
  },
  {
   "cell_type": "code",
   "execution_count": 43,
   "metadata": {
    "collapsed": false,
    "deletable": true,
    "editable": true,
    "scrolled": true
   },
   "outputs": [
    {
     "name": "stdout",
     "output_type": "stream",
     "text": [
      "ExtraTreesClassifier\n",
      "\n",
      "0.0238095238095\n"
     ]
    },
    {
     "data": {
      "image/png": "[encoded data removed]",
      "text/plain": [
       "<matplotlib.figure.Figure at 0x7fb6897d9d68>"
      ]
     },
     "metadata": {},
     "output_type": "display_data"
    },
    {
     "name": "stdout",
     "output_type": "stream",
     "text": [
      "Feature ranking:\n",
      " 1. WordValidityFeature                                (0.713604)\n",
      " 2. ApproximateContextCoherenceFeature$trigram         (0.080500)\n",
      " 3. ApproximateContextCoherenceFeature$bigram          (0.054671)\n",
      " 4. ContextCoherenceFeature$bigram                     (0.054327)\n",
      " 5. ApproximateContextCoherenceFeature$fourgram        (0.027978)\n",
      " 6. ContextCoherenceFeature$trigram                    (0.020013)\n",
      " 7. CharacterExistenceFeature$39 (')                   (0.012860)\n",
      " 8. ApproximateContextCoherenceFeature$fivegram        (0.012265)\n",
      " 9. ContextCoherenceFeature$fourgram                   (0.005233)\n",
      "10. CharacterExistenceFeature$45 (-)                   (0.002728)\n",
      "11. CharacterExistenceFeature$46 (.)                   (0.002623)\n",
      "12. CharacterExistenceFeature$41 ())                   (0.002288)\n",
      "13. CharacterExistenceFeature$125 (})                  (0.002156)\n",
      "14. CharacterExistenceFeature$94 (^)                   (0.001361)\n",
      "15. CharacterExistenceFeature$47 (/)                   (0.001183)\n",
      "16. ContextCoherenceFeature$fivegram                   (0.001111)\n",
      "17. CharacterExistenceFeature$63 (?)                   (0.000878)\n",
      "18. CharacterExistenceFeature$34 (\")                   (0.000790)\n",
      "19. CharacterExistenceFeature$40 (()                   (0.000699)\n",
      "20. CharacterExistenceFeature$44 (,)                   (0.000578)\n",
      "21. CharacterExistenceFeature$59 (;)                   (0.000546)\n",
      "22. CharacterExistenceFeature$42 (*)                   (0.000379)\n",
      "23. CharacterExistenceFeature$92 (\\)                   (0.000349)\n",
      "24. CharacterExistenceFeature$38 (&)                   (0.000274)\n",
      "25. CharacterExistenceFeature$95 (_)                   (0.000225)\n",
      "26. CharacterExistenceFeature$33 (!)                   (0.000196)\n",
      "27. CharacterExistenceFeature$37 (%)                   (0.000073)\n",
      "28. CharacterExistenceFeature$62 (>)                   (0.000043)\n",
      "29. CharacterExistenceFeature$124 (|)                  (0.000032)\n",
      "30. CharacterExistenceFeature$93 (])                   (0.000012)\n",
      "31. CharacterExistenceFeature$60 (<)                   (0.000012)\n",
      "32. CharacterExistenceFeature$123 ({)                  (0.000012)\n",
      "33. CharacterExistenceFeature$126 (~)                  (0.000000)\n",
      "34. CharacterExistenceFeature$96 (`)                   (0.000000)\n",
      "35. CharacterExistenceFeature$32 ( )                   (0.000000)\n",
      "36. CharacterExistenceFeature$127 ()                  (0.000000)\n",
      "37. CharacterExistenceFeature$61 (=)                   (0.000000)\n",
      "38. CharacterExistenceFeature$91 ([)                   (0.000000)\n",
      "39. CharacterExistenceFeature$35 (#)                   (0.000000)\n",
      "40. CharacterExistenceFeature$36 ($)                   (0.000000)\n",
      "41. CharacterExistenceFeature$64 (@)                   (0.000000)\n",
      "42. CharacterExistenceFeature$43 (+)                   (0.000000)\n"
     ]
    }
   ],
   "source": [
    "eval_feat_importances(get_clf('GSCV-ETree-2').best_estimator_)"
   ]
  },
  {
   "cell_type": "code",
   "execution_count": 44,
   "metadata": {
    "collapsed": false,
    "deletable": true,
    "editable": true,
    "scrolled": true
   },
   "outputs": [
    {
     "name": "stdout",
     "output_type": "stream",
     "text": [
      "ExtraTreesClassifier\n",
      "\n",
      "0.0238095238095\n"
     ]
    },
    {
     "data": {
      "image/png": "[encoded data removed]",
      "text/plain": [
       "<matplotlib.figure.Figure at 0x7fb6897c89b0>"
      ]
     },
     "metadata": {},
     "output_type": "display_data"
    },
    {
     "name": "stdout",
     "output_type": "stream",
     "text": [
      "Feature ranking:\n",
      " 1. WordValidityFeature                                (0.435538)\n",
      " 2. ApproximateContextCoherenceFeature$trigram         (0.084082)\n",
      " 3. ContextCoherenceFeature$bigram                     (0.083581)\n",
      " 4. ApproximateContextCoherenceFeature$bigram          (0.081451)\n",
      " 5. CharacterExistenceFeature$39 (')                   (0.077320)\n",
      " 6. CharacterExistenceFeature$125 (})                  (0.073511)\n",
      " 7. ApproximateContextCoherenceFeature$fourgram        (0.033446)\n",
      " 8. ContextCoherenceFeature$trigram                    (0.030928)\n",
      " 9. CharacterExistenceFeature$94 (^)                   (0.028173)\n",
      "10. CharacterExistenceFeature$45 (-)                   (0.018425)\n",
      "11. ApproximateContextCoherenceFeature$fivegram        (0.014771)\n",
      "12. ContextCoherenceFeature$fourgram                   (0.009153)\n",
      "13. CharacterExistenceFeature$47 (/)                   (0.009139)\n",
      "14. CharacterExistenceFeature$92 (\\)                   (0.004279)\n",
      "15. CharacterExistenceFeature$41 ())                   (0.003568)\n",
      "16. CharacterExistenceFeature$95 (_)                   (0.002501)\n",
      "17. CharacterExistenceFeature$46 (.)                   (0.002087)\n",
      "18. ContextCoherenceFeature$fivegram                   (0.001803)\n",
      "19. CharacterExistenceFeature$34 (\")                   (0.001080)\n",
      "20. CharacterExistenceFeature$63 (?)                   (0.000865)\n",
      "21. CharacterExistenceFeature$40 (()                   (0.000859)\n",
      "22. CharacterExistenceFeature$44 (,)                   (0.000614)\n",
      "23. CharacterExistenceFeature$37 (%)                   (0.000491)\n",
      "24. CharacterExistenceFeature$59 (;)                   (0.000484)\n",
      "25. CharacterExistenceFeature$62 (>)                   (0.000365)\n",
      "26. CharacterExistenceFeature$33 (!)                   (0.000363)\n",
      "27. CharacterExistenceFeature$42 (*)                   (0.000330)\n",
      "28. CharacterExistenceFeature$38 (&)                   (0.000328)\n",
      "29. CharacterExistenceFeature$93 (])                   (0.000162)\n",
      "30. CharacterExistenceFeature$60 (<)                   (0.000108)\n",
      "31. CharacterExistenceFeature$124 (|)                  (0.000108)\n",
      "32. CharacterExistenceFeature$123 ({)                  (0.000079)\n",
      "33. CharacterExistenceFeature$36 ($)                   (0.000008)\n",
      "34. CharacterExistenceFeature$96 (`)                   (0.000000)\n",
      "35. CharacterExistenceFeature$91 ([)                   (0.000000)\n",
      "36. CharacterExistenceFeature$64 (@)                   (0.000000)\n",
      "37. CharacterExistenceFeature$127 ()                  (0.000000)\n",
      "38. CharacterExistenceFeature$61 (=)                   (0.000000)\n",
      "39. CharacterExistenceFeature$126 (~)                  (0.000000)\n",
      "40. CharacterExistenceFeature$32 ( )                   (0.000000)\n",
      "41. CharacterExistenceFeature$35 (#)                   (0.000000)\n",
      "42. CharacterExistenceFeature$43 (+)                   (0.000000)\n"
     ]
    }
   ],
   "source": [
    "eval_feat_importances(get_clf('GSCV-ETree-full-sqrt').best_estimator_)"
   ]
  },
  {
   "cell_type": "code",
   "execution_count": 45,
   "metadata": {
    "collapsed": false,
    "deletable": true,
    "editable": true,
    "scrolled": true
   },
   "outputs": [
    {
     "name": "stdout",
     "output_type": "stream",
     "text": [
      "ExtraTreesClassifier\n",
      "\n",
      "0.0238095238095\n"
     ]
    },
    {
     "data": {
      "image/png": "[encoded data removed]",
      "text/plain": [
       "<matplotlib.figure.Figure at 0x7fb6965807b8>"
      ]
     },
     "metadata": {},
     "output_type": "display_data"
    },
    {
     "name": "stdout",
     "output_type": "stream",
     "text": [
      "Feature ranking:\n",
      " 1. WordValidityFeature                                (0.714632)\n",
      " 2. ApproximateContextCoherenceFeature$trigram         (0.079641)\n",
      " 3. ContextCoherenceFeature$bigram                     (0.055117)\n",
      " 4. ApproximateContextCoherenceFeature$bigram          (0.053196)\n",
      " 5. ApproximateContextCoherenceFeature$fourgram        (0.027748)\n",
      " 6. ContextCoherenceFeature$trigram                    (0.020149)\n",
      " 7. CharacterExistenceFeature$39 (')                   (0.013176)\n",
      " 8. ApproximateContextCoherenceFeature$fivegram        (0.012475)\n",
      " 9. ContextCoherenceFeature$fourgram                   (0.005212)\n",
      "10. CharacterExistenceFeature$45 (-)                   (0.002704)\n",
      "11. CharacterExistenceFeature$46 (.)                   (0.002658)\n",
      "12. CharacterExistenceFeature$41 ())                   (0.002267)\n",
      "13. CharacterExistenceFeature$125 (})                  (0.002130)\n",
      "14. CharacterExistenceFeature$94 (^)                   (0.001309)\n",
      "15. CharacterExistenceFeature$47 (/)                   (0.001187)\n",
      "16. ContextCoherenceFeature$fivegram                   (0.001176)\n",
      "17. CharacterExistenceFeature$63 (?)                   (0.000972)\n",
      "18. CharacterExistenceFeature$34 (\")                   (0.000781)\n",
      "19. CharacterExistenceFeature$40 (()                   (0.000670)\n",
      "20. CharacterExistenceFeature$44 (,)                   (0.000603)\n",
      "21. CharacterExistenceFeature$59 (;)                   (0.000581)\n",
      "22. CharacterExistenceFeature$42 (*)                   (0.000374)\n",
      "23. CharacterExistenceFeature$92 (\\)                   (0.000355)\n",
      "24. CharacterExistenceFeature$38 (&)                   (0.000311)\n",
      "25. CharacterExistenceFeature$95 (_)                   (0.000218)\n",
      "26. CharacterExistenceFeature$33 (!)                   (0.000174)\n",
      "27. CharacterExistenceFeature$37 (%)                   (0.000073)\n",
      "28. CharacterExistenceFeature$62 (>)                   (0.000040)\n",
      "29. CharacterExistenceFeature$124 (|)                  (0.000035)\n",
      "30. CharacterExistenceFeature$93 (])                   (0.000013)\n",
      "31. CharacterExistenceFeature$123 ({)                  (0.000012)\n",
      "32. CharacterExistenceFeature$60 (<)                   (0.000011)\n",
      "33. CharacterExistenceFeature$126 (~)                  (0.000000)\n",
      "34. CharacterExistenceFeature$91 ([)                   (0.000000)\n",
      "35. CharacterExistenceFeature$35 (#)                   (0.000000)\n",
      "36. CharacterExistenceFeature$127 ()                  (0.000000)\n",
      "37. CharacterExistenceFeature$32 ( )                   (0.000000)\n",
      "38. CharacterExistenceFeature$36 ($)                   (0.000000)\n",
      "39. CharacterExistenceFeature$64 (@)                   (0.000000)\n",
      "40. CharacterExistenceFeature$96 (`)                   (0.000000)\n",
      "41. CharacterExistenceFeature$61 (=)                   (0.000000)\n",
      "42. CharacterExistenceFeature$43 (+)                   (0.000000)\n"
     ]
    }
   ],
   "source": [
    "eval_feat_importances(get_clf('GSCV-ETree-full-all').best_estimator_)"
   ]
  },
  {
   "cell_type": "code",
   "execution_count": 46,
   "metadata": {
    "collapsed": false,
    "deletable": true,
    "editable": true
   },
   "outputs": [],
   "source": [
    "from sklearn import model_selection\n",
    "from sklearn import feature_selection\n",
    "\n",
    "def feature_selection_RFECV(clf_name):\n",
    "    clf = get_clf(clf_name)\n",
    "    if isinstance(clf, model_selection.GridSearchCV):\n",
    "        clf = clf.best_estimator_\n",
    "    return feature_selection.RFECV(estimator=clf, cv=10, n_jobs=-1, scoring='accuracy')\n",
    "\n",
    "MODELS_FEAT_OPT_TREE = [\n",
    "    ['SFM-RF.RF', pipeline.Pipeline([\n",
    "        ('SFM_RF', feature_selection.SelectFromModel(get_clf('RF'))),\n",
    "        ('RF', ensemble.RandomForestClassifier()),\n",
    "        ])\n",
    "    ],\n",
    "    ['SFM-RF-d5mean.RF', pipeline.Pipeline([\n",
    "        ('SFM_RF', feature_selection.SelectFromModel(\n",
    "            get_clf('RF'),\n",
    "            threshold=get_mean_importance(get_clf('RF')) * 0.5)),\n",
    "        ('RF', ensemble.RandomForestClassifier()),\n",
    "        ])\n",
    "    ],\n",
    "    ['SFM-RF-d1mean.RF', pipeline.Pipeline([\n",
    "        ('SFM_RF', feature_selection.SelectFromModel(\n",
    "            get_clf('RF'),\n",
    "            threshold=get_mean_importance(get_clf('RF')) * 0.1)),\n",
    "        ('RF', ensemble.RandomForestClassifier()),\n",
    "        ])\n",
    "    ],\n",
    "    ['SFM-AdaBoost.AdaBoost', pipeline.Pipeline([\n",
    "        ('SFM_AdaBoost', feature_selection.SelectFromModel(get_clf('AdaBoost'))),\n",
    "        ('AdaBoost', ensemble.AdaBoostClassifier()),\n",
    "        ])\n",
    "    ],\n",
    "    ['SFM-AdaBoost-d5mean.AdaBoost', pipeline.Pipeline([\n",
    "        ('SFM_AdaBoost', feature_selection.SelectFromModel(\n",
    "            get_clf('AdaBoost'),\n",
    "            threshold=get_mean_importance(get_clf('AdaBoost')) * 0.5)),\n",
    "        ('AdaBoost', ensemble.AdaBoostClassifier()),\n",
    "        ])\n",
    "    ],\n",
    "    ['SFM-AdaBoost-d1mean.AdaBoost', pipeline.Pipeline([\n",
    "        ('SFM_AdaBoost', feature_selection.SelectFromModel(\n",
    "            get_clf('AdaBoost'),\n",
    "            threshold=get_mean_importance(get_clf('AdaBoost')) * 0.1)),\n",
    "        ('AdaBoost', ensemble.AdaBoostClassifier()),\n",
    "        ])\n",
    "    ],\n",
    "    ['SFM-ETree.ETree', pipeline.Pipeline([\n",
    "        ('SFM_ETree', feature_selection.SelectFromModel(get_clf('ETree'))),\n",
    "        ('ETree', ensemble.ExtraTreesClassifier()),\n",
    "        ])\n",
    "    ],\n",
    "    ['SFM-ETree-d5mean.ETree', pipeline.Pipeline([\n",
    "        ('SFM_AdaBoost', feature_selection.SelectFromModel(\n",
    "            get_clf('ETree'),\n",
    "            threshold=get_mean_importance(get_clf('ETree')) * 0.5)),\n",
    "        ('ETree', ensemble.ExtraTreesClassifier()),\n",
    "        ])\n",
    "    ],\n",
    "    ['SFM-ETree-d1mean.ETree', pipeline.Pipeline([\n",
    "        ('SFM_AdaBoost', feature_selection.SelectFromModel(\n",
    "            get_clf('ETree'),\n",
    "            threshold=get_mean_importance(get_clf('ETree')) * 0.1)),\n",
    "        ('ETree', ensemble.ExtraTreesClassifier()),\n",
    "        ])\n",
    "    ],\n",
    "    ['RFECV-ETree', feature_selection_RFECV('ETree')\n",
    "    ],\n",
    "    ['RFECV-ETree.ETree', pipeline.Pipeline([\n",
    "        ('SFM_ETree', feature_selection_RFECV('ETree')),\n",
    "        ('ETree', ensemble.ExtraTreesClassifier()),\n",
    "        ])\n",
    "    ],\n",
    "    ['RFECV-GSCV-ETree.ETree', pipeline.Pipeline([\n",
    "        ('SFM_ETree', feature_selection_RFECV('GSCV-ETree')),\n",
    "        ('ETree', ensemble.ExtraTreesClassifier()),\n",
    "        ])\n",
    "    ],\n",
    "    ['RFECV-GSCV-ETree.GSCV-ETree', pipeline.Pipeline([\n",
    "        ('SFM_ETree', feature_selection_RFECV('GSCV-ETree')),\n",
    "        ('GSCV_ETree', model_selection_GridSearchCV(ensemble.ExtraTreesClassifier(), {\n",
    "            'n_estimators': np.arange(50, 250, 50),\n",
    "            'min_samples_split': np.arange(2, 10),\n",
    "            })),\n",
    "        ])\n",
    "    ],\n",
    "#     ['RFECV-GSCV-ETree-full-all.GSCV-ETree', pipeline.Pipeline([\n",
    "#         ('SFM_ETree', feature_selection_RFECV('GSCV-ETree-full-all')),\n",
    "#         ('GSCV_ETree', model_selection_GridSearchCV(ensemble.ExtraTreesClassifier(), {\n",
    "#             'n_estimators': np.arange(50, 250, 50),\n",
    "#             'min_samples_split': np.arange(2, 10),\n",
    "#             })),\n",
    "#         ])\n",
    "#     ],\n",
    "    ['SFM-GradBoost.GradBoost', pipeline.Pipeline([\n",
    "        ('SFM_BradBoost', feature_selection.SelectFromModel(get_clf('GradBoost'))),\n",
    "        ('BradBoost', ensemble.GradientBoostingClassifier()),\n",
    "        ])\n",
    "    ],\n",
    "    ['SFM-GradBoost-d5mean.GradBoost', pipeline.Pipeline([\n",
    "        ('SFM_GradBoost', feature_selection.SelectFromModel(\n",
    "            get_clf('GradBoost'),\n",
    "            threshold=get_mean_importance(get_clf('GradBoost')) * 0.5)),\n",
    "        ('ETree', ensemble.GradientBoostingClassifier()),\n",
    "        ])\n",
    "    ],\n",
    "    ['SFM-GradBoost-d1mean.GradBoost', pipeline.Pipeline([\n",
    "        ('SFM_GradBoost', feature_selection.SelectFromModel(\n",
    "            get_clf('GradBoost'),\n",
    "            threshold=get_mean_importance(get_clf('GradBoost')) * 0.1)),\n",
    "        ('ETree', ensemble.GradientBoostingClassifier()),\n",
    "        ])\n",
    "    ],\n",
    "    ['RFECV-GradBoost', feature_selection_RFECV('GradBoost')\n",
    "    ],\n",
    "    ['RFECV-GradBoost.GradBoost', pipeline.Pipeline([\n",
    "        ('SFM_GradBoost', feature_selection_RFECV('GradBoost')),\n",
    "        ('ETree', ensemble.GradientBoostingClassifier()),\n",
    "        ])\n",
    "    ],\n",
    "]"
   ]
  },
  {
   "cell_type": "code",
   "execution_count": 47,
   "metadata": {
    "collapsed": true,
    "deletable": true,
    "editable": true
   },
   "outputs": [
    {
     "name": "stdout",
     "output_type": "stream",
     "text": [
      "SFM-RF.RF                      ..... SKIPPED\n",
      "SFM-RF-d5mean.RF               ..... SKIPPED\n",
      "SFM-RF-d1mean.RF               ..... SKIPPED\n",
      "SFM-AdaBoost.AdaBoost          ..... SKIPPED\n",
      "SFM-AdaBoost-d5mean.AdaBoost   ..... SKIPPED\n",
      "SFM-AdaBoost-d1mean.AdaBoost   ..... SKIPPED\n",
      "SFM-ETree.ETree                ..... SKIPPED\n",
      "SFM-ETree-d5mean.ETree         ..... SKIPPED\n",
      "SFM-ETree-d1mean.ETree         ..... SKIPPED\n",
      "RFECV-ETree                    ..... SKIPPED\n",
      "RFECV-ETree.ETree              ..... SKIPPED\n",
      "RFECV-GSCV-ETree.ETree         ..... SKIPPED\n",
      "RFECV-GSCV-ETree.GSCV-ETree    ..... SKIPPED\n",
      "SFM-GradBoost.GradBoost        ..... SKIPPED\n",
      "SFM-GradBoost-d5mean.GradBoost ..... SKIPPED\n",
      "SFM-GradBoost-d1mean.GradBoost ..... SKIPPED\n",
      "RFECV-GradBoost                ..... SKIPPED\n",
      "RFECV-GradBoost.GradBoost      ..... SKIPPED\n"
     ]
    }
   ],
   "source": [
    "train(MODELS_FEAT_OPT_TREE)"
   ]
  },
  {
   "cell_type": "code",
   "execution_count": 48,
   "metadata": {
    "collapsed": false,
    "deletable": true,
    "editable": true
   },
   "outputs": [
    {
     "name": "stdout",
     "output_type": "stream",
     "text": [
      "SFM-RF.RF                      ..... 0.984089\n",
      "SFM-RF-d5mean.RF               ..... 0.984196\n",
      "SFM-RF-d1mean.RF               ..... 0.984035\n",
      "SFM-AdaBoost.AdaBoost          ..... 0.983229\n",
      "SFM-AdaBoost-d5mean.AdaBoost   ..... 0.983336\n",
      "SFM-AdaBoost-d1mean.AdaBoost   ..... 0.983336\n",
      "SFM-ETree.ETree                ..... 0.984304\n",
      "SFM-ETree-d5mean.ETree         ..... 0.984357\n",
      "SFM-ETree-d1mean.ETree         ..... 0.984142\n",
      "RFECV-ETree                    ..... 0.983659\n",
      "RFECV-ETree.ETree              ..... 0.984250\n",
      "RFECV-GSCV-ETree.ETree         ..... 0.984357\n",
      "RFECV-GSCV-ETree.GSCV-ETree    ..... 0.984465\n",
      "SFM-GradBoost.GradBoost        ..... 0.983659\n",
      "SFM-GradBoost-d5mean.GradBoost ..... 0.983981\n",
      "SFM-GradBoost-d1mean.GradBoost ..... 0.983981\n",
      "RFECV-GradBoost                ..... 0.983766\n",
      "RFECV-GradBoost.GradBoost      ..... 0.983659\n"
     ]
    }
   ],
   "source": [
    "test(MODELS_FEAT_OPT_TREE)"
   ]
  },
  {
   "cell_type": "code",
   "execution_count": 49,
   "metadata": {
    "collapsed": false
   },
   "outputs": [
    {
     "ename": "AttributeError",
     "evalue": "'tuple' object has no attribute 'best_estimator_'",
     "output_type": "error",
     "traceback": [
      "\u001b[0;31m---------------------------------------------------------------------------\u001b[0m",
      "\u001b[0;31mAttributeError\u001b[0m                            Traceback (most recent call last)",
      "\u001b[0;32m<ipython-input-49-73ffa8c47d26>\u001b[0m in \u001b[0;36m<module>\u001b[0;34m()\u001b[0m\n\u001b[0;32m----> 1\u001b[0;31m \u001b[0mget_clf\u001b[0m\u001b[0;34m(\u001b[0m\u001b[0;34m'RFECV-GSCV-ETree.GSCV-ETree'\u001b[0m\u001b[0;34m)\u001b[0m\u001b[0;34m.\u001b[0m\u001b[0msteps\u001b[0m\u001b[0;34m[\u001b[0m\u001b[0;36m1\u001b[0m\u001b[0;34m]\u001b[0m\u001b[0;34m.\u001b[0m\u001b[0mbest_estimator_\u001b[0m\u001b[0;34m\u001b[0m\u001b[0m\n\u001b[0m",
      "\u001b[0;31mAttributeError\u001b[0m: 'tuple' object has no attribute 'best_estimator_'"
     ]
    }
   ],
   "source": [
    "get_clf('RFECV-GSCV-ETree.GSCV-ETree').steps[1].best_estimator_"
   ]
  },
  {
   "cell_type": "code",
   "execution_count": 50,
   "metadata": {
    "collapsed": true,
    "deletable": true,
    "editable": true
   },
   "outputs": [],
   "source": [
    "import operator\n",
    "\n",
    "def eval_opt_feats(rfecv):\n",
    "    print('Optimal number of features : %d' % rfecv.n_features_)\n",
    "\n",
    "    # Plot number of features VS. cross-validation scores\n",
    "    plt.figure()\n",
    "    plt.xlabel('Number of features selected')\n",
    "    plt.ylabel('Cross validation score (nb of correct classifications)')\n",
    "    plt.plot(range(1, len(rfecv.grid_scores_) + 1), rfecv.grid_scores_)\n",
    "    plt.show()\n",
    "    \n",
    "    ranked = [(k, v) for k, v in sorted(zip(FEATS_TRAIN.columns, rfecv.ranking_),\n",
    "                                        key=operator.itemgetter(1))]\n",
    "    for name, rank in ranked:\n",
    "        sys.stdout.write('%2s. %s' % (rank, name))\n",
    "        if 'CharacterExistenceFeature' in name:\n",
    "            char = chr(int(name[26:]))\n",
    "            sys.stdout.write(' ' + char)\n",
    "        print()"
   ]
  },
  {
   "cell_type": "code",
   "execution_count": 51,
   "metadata": {
    "collapsed": false,
    "deletable": true,
    "editable": true
   },
   "outputs": [
    {
     "name": "stdout",
     "output_type": "stream",
     "text": [
      "Optimal number of features : 5\n"
     ]
    },
    {
     "data": {
      "image/png": "[encoded data removed]",
      "text/plain": [
       "<matplotlib.figure.Figure at 0x7fb68baa6cc0>"
      ]
     },
     "metadata": {},
     "output_type": "display_data"
    },
    {
     "name": "stdout",
     "output_type": "stream",
     "text": [
      " 1. ApproximateContextCoherenceFeature$bigram\n",
      " 1. ApproximateContextCoherenceFeature$trigram\n",
      " 1. CharacterExistenceFeature$39 '\n",
      " 1. ContextCoherenceFeature$bigram\n",
      " 1. WordValidityFeature\n",
      " 2. CharacterExistenceFeature$125 }\n",
      " 3. ApproximateContextCoherenceFeature$fourgram\n",
      " 4. ContextCoherenceFeature$trigram\n",
      " 5. ApproximateContextCoherenceFeature$fivegram\n",
      " 6. CharacterExistenceFeature$45 -\n",
      " 7. CharacterExistenceFeature$94 ^\n",
      " 8. ContextCoherenceFeature$fourgram\n",
      " 9. CharacterExistenceFeature$41 )\n",
      "10. CharacterExistenceFeature$46 .\n",
      "11. CharacterExistenceFeature$47 /\n",
      "12. CharacterExistenceFeature$95 _\n",
      "13. CharacterExistenceFeature$92 \\\n",
      "14. CharacterExistenceFeature$34 \"\n",
      "15. CharacterExistenceFeature$63 ?\n",
      "16. CharacterExistenceFeature$40 (\n",
      "17. CharacterExistenceFeature$44 ,\n",
      "18. ContextCoherenceFeature$fivegram\n",
      "19. CharacterExistenceFeature$59 ;\n",
      "20. CharacterExistenceFeature$38 &\n",
      "21. CharacterExistenceFeature$42 *\n",
      "22. CharacterExistenceFeature$33 !\n",
      "23. CharacterExistenceFeature$62 >\n",
      "24. CharacterExistenceFeature$37 %\n",
      "25. CharacterExistenceFeature$124 |\n",
      "26. CharacterExistenceFeature$93 ]\n",
      "27. CharacterExistenceFeature$123 {\n",
      "28. CharacterExistenceFeature$60 <\n",
      "29. CharacterExistenceFeature$36 $\n",
      "30. CharacterExistenceFeature$126 ~\n",
      "31. CharacterExistenceFeature$61 =\n",
      "32. CharacterExistenceFeature$35 #\n",
      "33. CharacterExistenceFeature$64 @\n",
      "34. CharacterExistenceFeature$32  \n",
      "35. CharacterExistenceFeature$91 [\n",
      "36. CharacterExistenceFeature$96 `\n",
      "37. CharacterExistenceFeature$127 \n",
      "38. CharacterExistenceFeature$43 +\n"
     ]
    }
   ],
   "source": [
    "eval_opt_feats(get_clf('RFECV-ETree'))"
   ]
  },
  {
   "cell_type": "code",
   "execution_count": 52,
   "metadata": {
    "collapsed": false,
    "deletable": true,
    "editable": true
   },
   "outputs": [
    {
     "name": "stdout",
     "output_type": "stream",
     "text": [
      "Optimal number of features : 18\n"
     ]
    },
    {
     "data": {
      "image/png": "[encoded data removed]",
      "text/plain": [
       "<matplotlib.figure.Figure at 0x7fb68bb29eb8>"
      ]
     },
     "metadata": {},
     "output_type": "display_data"
    },
    {
     "name": "stdout",
     "output_type": "stream",
     "text": [
      " 1. ApproximateContextCoherenceFeature$bigram\n",
      " 1. ApproximateContextCoherenceFeature$fivegram\n",
      " 1. ApproximateContextCoherenceFeature$fourgram\n",
      " 1. ApproximateContextCoherenceFeature$trigram\n",
      " 1. CharacterExistenceFeature$125 }\n",
      " 1. CharacterExistenceFeature$37 %\n",
      " 1. CharacterExistenceFeature$38 &\n",
      " 1. CharacterExistenceFeature$39 '\n",
      " 1. CharacterExistenceFeature$45 -\n",
      " 1. CharacterExistenceFeature$46 .\n",
      " 1. CharacterExistenceFeature$47 /\n",
      " 1. CharacterExistenceFeature$62 >\n",
      " 1. CharacterExistenceFeature$92 \\\n",
      " 1. CharacterExistenceFeature$94 ^\n",
      " 1. CharacterExistenceFeature$95 _\n",
      " 1. ContextCoherenceFeature$bigram\n",
      " 1. ContextCoherenceFeature$trigram\n",
      " 1. WordValidityFeature\n",
      " 2. CharacterExistenceFeature$63 ?\n",
      " 3. ContextCoherenceFeature$fourgram\n",
      " 4. CharacterExistenceFeature$44 ,\n",
      " 5. CharacterExistenceFeature$124 |\n",
      " 6. CharacterExistenceFeature$33 !\n",
      " 7. CharacterExistenceFeature$41 )\n",
      " 8. CharacterExistenceFeature$34 \"\n",
      " 9. CharacterExistenceFeature$40 (\n",
      "10. CharacterExistenceFeature$42 *\n",
      "11. CharacterExistenceFeature$35 #\n",
      "12. CharacterExistenceFeature$60 <\n",
      "13. CharacterExistenceFeature$32  \n",
      "14. CharacterExistenceFeature$126 ~\n",
      "15. CharacterExistenceFeature$123 {\n",
      "16. CharacterExistenceFeature$91 [\n",
      "17. CharacterExistenceFeature$59 ;\n",
      "18. CharacterExistenceFeature$93 ]\n",
      "19. ContextCoherenceFeature$fivegram\n",
      "20. CharacterExistenceFeature$64 @\n",
      "21. CharacterExistenceFeature$96 `\n",
      "22. CharacterExistenceFeature$61 =\n",
      "23. CharacterExistenceFeature$127 \n",
      "24. CharacterExistenceFeature$36 $\n",
      "25. CharacterExistenceFeature$43 +\n"
     ]
    }
   ],
   "source": [
    "eval_opt_feats(get_clf('RFECV-GradBoost'))"
   ]
  },
  {
   "cell_type": "markdown",
   "metadata": {},
   "source": [
    "## Writeout Labels"
   ]
  },
  {
   "cell_type": "code",
   "execution_count": 63,
   "metadata": {
    "collapsed": true
   },
   "outputs": [],
   "source": [
    "CLF_NAME = 'GSCV-ETree'"
   ]
  },
  {
   "cell_type": "code",
   "execution_count": 68,
   "metadata": {
    "collapsed": false
   },
   "outputs": [],
   "source": [
    "LABEL_PATH = TEMP_PATH + '/detect/label'\n",
    "\n",
    "if not os.path.exists(LABEL_PATH):\n",
    "    os.makedirs(LABEL_PATH)\n",
    "path = LABEL_PATH + '/labels.tsv'\n",
    "clf = joblib.load(get_pkl_path(CLF_NAME))\n",
    "labels = clf.predict(FEATS_TEST)\n",
    "with open(path, 'w') as f:\n",
    "    f.write('\\n'.join(str(v) for v in preds))"
   ]
  }
 ],
 "metadata": {
  "kernelspec": {
   "display_name": "Python 3",
   "language": "python",
   "name": "python3"
  },
  "language_info": {
   "codemirror_mode": {
    "name": "ipython",
    "version": 3
   },
   "file_extension": ".py",
   "mimetype": "text/x-python",
   "name": "python",
   "nbconvert_exporter": "python",
   "pygments_lexer": "ipython3",
   "version": "3.6.1"
  }
 },
 "nbformat": 4,
 "nbformat_minor": 2
}
