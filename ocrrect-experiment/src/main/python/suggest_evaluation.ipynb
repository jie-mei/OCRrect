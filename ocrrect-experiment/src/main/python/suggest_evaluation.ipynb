{
 "cells": [
  {
   "cell_type": "code",
   "execution_count": null,
   "metadata": {
    "collapsed": true
   },
   "outputs": [],
   "source": [
    "PROJECT_ROOT_PATH = '../../../..'\n",
    "TEMP_PATH = PROJECT_ROOT_PATH + '/tmp'\n",
    "DATA_PATH = TEMP_PATH + '/suggest/data'\n",
    "\n",
    "WORDS_MAPPED_PATH = DATA_PATH + '/words.train.tsv'\n",
    "WORDS_MAPPED_IDENTICAL_PATH = DATA_PATH + '/words.test.tsv'\n",
    "LABELS_TRAIN_PATH = DATA_PATH + '/labels.train.tsv'\n",
    "LABELS_TEST_PATH = DATA_PATH + '/labels.test.tsv'\n",
    "\n",
    "import glob\n",
    "FEATURES_TEST_PATH = sorted(glob.glob(DATA_PATH + \"/*Feature*\"))\n",
    "FEATURES_TEST_PATH"
   ]
  }
 ],
 "metadata": {
  "kernelspec": {
   "display_name": "Python 3",
   "language": "python",
   "name": "python3"
  },
  "language_info": {
   "codemirror_mode": {
    "name": "ipython",
    "version": 3
   },
   "file_extension": ".py",
   "mimetype": "text/x-python",
   "name": "python",
   "nbconvert_exporter": "python",
   "pygments_lexer": "ipython3",
   "version": "3.6.1"
  }
 },
 "nbformat": 4,
 "nbformat_minor": 2
}
