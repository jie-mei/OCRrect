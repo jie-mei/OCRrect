{
 "cells": [
  {
   "cell_type": "code",
   "execution_count": 4,
   "metadata": {},
   "outputs": [
    {
     "data": {
      "text/plain": [
       "['../../../../tmp/suggest/data/words.train.mapped.tsv',\n",
       " '../../../../tmp/suggest/data/words.train.mapped.identical.tsv',\n",
       " '../../../../tmp/suggest/data/suggest.train.top100',\n",
       " '../../../../tmp/suggest/data/corrs.train.mapped.tsv',\n",
       " '../../../../tmp/suggest/data/corrs.train.mapped.identical.tsv',\n",
       " '../../../../tmp/suggest/data/corrs.test.tsv',\n",
       " '../../../../tmp/suggest/data/words.test.tsv',\n",
       " '../../../../tmp/suggest/data/suggest.test.top100',\n",
       " '../../../../tmp/suggest/data/suggests.mapped.tsv',\n",
       " '../../../../tmp/suggest/data/suggests.train.mapped.tsv']"
      ]
     },
     "execution_count": 4,
     "metadata": {},
     "output_type": "execute_result"
    }
   ],
   "source": [
    "PROJECT_ROOT_PATH = '../../../..'\n",
    "TEMP_PATH = PROJECT_ROOT_PATH + '/tmp'\n",
    "DATA_PATH = TEMP_PATH + '/suggest/data'\n",
    "\n",
    "WORDS_TRAIN_MAPPED_PATH           = DATA_PATH + '/words.train.tsv'\n",
    "WORDS_TRAIN_MAPPED_IDENTICAL_PATH = DATA_PATH + '/words.test.tsv'\n",
    "CORRS_TRAIN_MAPPED_PATH           = DATA_PATH + '/corrs.train.tsv'\n",
    "CORRS_TRAIN_MAPPED_IDENTICAL_PATH = DATA_PATH + '/corrs.test.tsv'\n",
    "\n",
    "LABELS_TRAIN_PATH = DATA_PATH + '/labels.train.tsv'\n",
    "LABELS_TEST_PATH = DATA_PATH + '/labels.test.tsv'\n",
    "\n",
    "import glob\n",
    "glob.glob(DATA_PATH + \"/*\")"
   ]
  }
 ],
 "metadata": {
  "kernelspec": {
   "display_name": "Python 3",
   "language": "python",
   "name": "python3"
  },
  "language_info": {
   "codemirror_mode": {
    "name": "ipython",
    "version": 3
   },
   "file_extension": ".py",
   "mimetype": "text/x-python",
   "name": "python",
   "nbconvert_exporter": "python",
   "pygments_lexer": "ipython3",
   "version": "3.6.1"
  }
 },
 "nbformat": 4,
 "nbformat_minor": 2
}
