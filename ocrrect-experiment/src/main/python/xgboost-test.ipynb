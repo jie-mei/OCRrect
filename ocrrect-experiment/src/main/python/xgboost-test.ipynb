{
 "cells": [
  {
   "cell_type": "code",
   "execution_count": 1,
   "metadata": {},
   "outputs": [
    {
     "name": "stdout",
     "output_type": "stream",
     "text": [
      "--2017-08-17 15:30:24--  https://raw.githubusercontent.com/dmlc/xgboost/master/demo/data/agaricus.txt.train\n",
      "Resolving raw.githubusercontent.com... 151.101.20.133\n",
      "Connecting to raw.githubusercontent.com|151.101.20.133|:443... connected.\n",
      "HTTP request sent, awaiting response... 200 OK\n",
      "Length: 742257 (725K) [text/plain]\n",
      "Saving to: `agaricus.txt.train'\n",
      "\n",
      "100%[======================================>] 742,257     2.66M/s   in 0.3s    \n",
      "\n",
      "2017-08-17 15:30:24 (2.66 MB/s) - `agaricus.txt.train' saved [742257/742257]\n",
      "\n"
     ]
    }
   ],
   "source": [
    "!wget https://raw.githubusercontent.com/dmlc/xgboost/master/demo/data/agaricus.txt.train"
   ]
  }
 ],
 "metadata": {
  "kernelspec": {
   "display_name": "Python 3",
   "language": "python",
   "name": "python3"
  },
  "language_info": {
   "codemirror_mode": {
    "name": "ipython",
    "version": 3
   },
   "file_extension": ".py",
   "mimetype": "text/x-python",
   "name": "python",
   "nbconvert_exporter": "python",
   "pygments_lexer": "ipython3",
   "version": "3.6.1"
  }
 },
 "nbformat": 4,
 "nbformat_minor": 2
}
